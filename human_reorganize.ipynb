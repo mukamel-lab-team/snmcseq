{
 "cells": [
  {
   "cell_type": "code",
   "execution_count": 2,
   "metadata": {},
   "outputs": [],
   "source": [
    "from __init__ import *\n",
    "from natsort import natsorted\n",
    "\n",
    "\n",
    "import snmcseq_utils\n",
    "import subprocess\n",
    "import CEMBA_organize_files"
   ]
  },
  {
   "cell_type": "code",
   "execution_count": 3,
   "metadata": {},
   "outputs": [
    {
     "name": "stderr",
     "output_type": "stream",
     "text": [
      "04/09/2018 09:18:12 PM .\n"
     ]
    }
   ],
   "source": [
    "\n",
    "log = snmcseq_utils.create_logger()\n",
    "log.info('.')"
   ]
  },
  {
   "cell_type": "code",
   "execution_count": 5,
   "metadata": {
    "scrolled": false
   },
   "outputs": [
    {
     "name": "stderr",
     "output_type": "stream",
     "text": [
      "04/09/2018 09:21:56 PM Progress: 1/2784\n",
      "04/09/2018 09:22:40 PM Progress: 2/2784\n"
     ]
    }
   ],
   "source": [
    "\n",
    "dataset = 'MB_v1'\n",
    "orig_allcdir = '/cndd/fangming/snmcseq_dev/data/allc/{}'.format(dataset)\n",
    "path_dst = '/cndd/Public_Datasets/human_snmcseq/Datasets/{}'.format(dataset)\n",
    "\n",
    "with snmcseq_utils.cd(orig_allcdir):\n",
    "    allc_dirs = sorted(glob.glob(\"*\")) \n",
    "    for i, allc_dir in enumerate(allc_dirs):\n",
    "        logging.info(\"Progress: {}/{}\".format(i+1, len(allc_dirs)))\n",
    "        # allc_dir is cell name\n",
    "        dst = os.path.join(path_dst, 'allc', 'allc_'+allc_dir+'.tsv')\n",
    "        with snmcseq_utils.cd(allc_dir):\n",
    "            allc_files = natsorted(glob.glob(\"allc_*.tsv.gz\"))\n",
    "            assert len(allc_files) == 24\n",
    "\n",
    "            for allc_file in allc_files:\n",
    "                # decompress, remove first line, and  append\n",
    "                cmd = 'gzip -cd {} | tail -n +2 >> {}'.format(allc_file, dst)\n",
    "                os.system(cmd)\n",
    "\n",
    "            # compress\n",
    "            cmd = 'bgzip -c {} > {}'.format(dst, dst+'.bgz') \n",
    "            os.system(cmd)\n",
    "           \n",
    "            # remove\n",
    "            cmd = 'rm {}'.format(dst)\n",
    "            os.system(cmd)\n",
    "\n",
    "            # tabix\n",
    "            CEMBA_organize_files.tabix_index_allc(dst+'.bgz', skip_lines=0)\n",
    "\n",
    " "
   ]
  },
  {
   "cell_type": "code",
   "execution_count": 23,
   "metadata": {},
   "outputs": [
    {
     "name": "stdout",
     "output_type": "stream",
     "text": [
      "(6435, 4)\n"
     ]
    },
    {
     "data": {
      "text/html": [
       "<div>\n",
       "<style>\n",
       "    .dataframe thead tr:only-child th {\n",
       "        text-align: right;\n",
       "    }\n",
       "\n",
       "    .dataframe thead th {\n",
       "        text-align: left;\n",
       "    }\n",
       "\n",
       "    .dataframe tbody tr th {\n",
       "        vertical-align: top;\n",
       "    }\n",
       "</style>\n",
       "<table border=\"1\" class=\"dataframe\">\n",
       "  <thead>\n",
       "    <tr style=\"text-align: right;\">\n",
       "      <th></th>\n",
       "      <th>cell_name</th>\n",
       "      <th>dataset</th>\n",
       "      <th>cluster</th>\n",
       "      <th>annotation</th>\n",
       "    </tr>\n",
       "  </thead>\n",
       "  <tbody>\n",
       "    <tr>\n",
       "      <th>0</th>\n",
       "      <td>160729_MB_v1_hs_25yr_MFG_pool_1000_AD008_indexed</td>\n",
       "      <td>MB_v1</td>\n",
       "      <td>8</td>\n",
       "      <td>hSst-2</td>\n",
       "    </tr>\n",
       "    <tr>\n",
       "      <th>1</th>\n",
       "      <td>160729_MB_v1_hs_25yr_MFG_pool_1019_AD006_indexed</td>\n",
       "      <td>MB_v1</td>\n",
       "      <td>8</td>\n",
       "      <td>hSst-2</td>\n",
       "    </tr>\n",
       "    <tr>\n",
       "      <th>2</th>\n",
       "      <td>160729_MB_v1_hs_25yr_MFG_pool_101_AD010_indexed</td>\n",
       "      <td>MB_v1</td>\n",
       "      <td>8</td>\n",
       "      <td>hSst-2</td>\n",
       "    </tr>\n",
       "    <tr>\n",
       "      <th>3</th>\n",
       "      <td>160729_MB_v1_hs_25yr_MFG_pool_1022_AD006_indexed</td>\n",
       "      <td>MB_v1</td>\n",
       "      <td>8</td>\n",
       "      <td>hSst-2</td>\n",
       "    </tr>\n",
       "    <tr>\n",
       "      <th>4</th>\n",
       "      <td>160729_MB_v1_hs_25yr_MFG_pool_1033_AD002_indexed</td>\n",
       "      <td>MB_v1</td>\n",
       "      <td>8</td>\n",
       "      <td>hSst-2</td>\n",
       "    </tr>\n",
       "  </tbody>\n",
       "</table>\n",
       "</div>"
      ],
      "text/plain": [
       "                                          cell_name dataset  cluster  \\\n",
       "0  160729_MB_v1_hs_25yr_MFG_pool_1000_AD008_indexed   MB_v1        8   \n",
       "1  160729_MB_v1_hs_25yr_MFG_pool_1019_AD006_indexed   MB_v1        8   \n",
       "2   160729_MB_v1_hs_25yr_MFG_pool_101_AD010_indexed   MB_v1        8   \n",
       "3  160729_MB_v1_hs_25yr_MFG_pool_1022_AD006_indexed   MB_v1        8   \n",
       "4  160729_MB_v1_hs_25yr_MFG_pool_1033_AD002_indexed   MB_v1        8   \n",
       "\n",
       "  annotation  \n",
       "0     hSst-2  \n",
       "1     hSst-2  \n",
       "2     hSst-2  \n",
       "3     hSst-2  \n",
       "4     hSst-2  "
      ]
     },
     "execution_count": 23,
     "metadata": {},
     "output_type": "execute_result"
    }
   ],
   "source": [
    "\n",
    "f = '/cndd/Public_Datasets/human_snmcseq/Ensembles/Ens0/cluster/clusters_v1_binc_mCH_louvain.tsv'\n",
    "df = pd.read_table(f)\n",
    "f = '/cndd/Public_Datasets/human_snmcseq/Ensembles/Ens0/cluster/clusters_v1_binc_mCH_louvain_annotation.tsv'\n",
    "df_annot = pd.read_table(f)\n",
    "df = pd.merge(df, df_annot, on='cluster_ID')\n",
    "\n",
    "df['dataset'] = df['sample'].apply(lambda x: '_'.join(x.split('_')[1:3]))\n",
    "df['cluster_ID'] = df['cluster_ID'].apply(lambda x: int(x.strip('cluster_')))\n",
    "df = df.rename(columns={'sample': 'cell_name', \n",
    "                        'cluster_ID': 'cluster', \n",
    "                        'cluster_annotation': 'annotation'})\n",
    "df = df[['cell_name', 'dataset', 'cluster', 'annotation']].fillna('Glia/Unlabeled')\n",
    "\n",
    "print(df.shape)\n",
    "df.head()"
   ]
  },
  {
   "cell_type": "code",
   "execution_count": 24,
   "metadata": {},
   "outputs": [],
   "source": [
    "df.to_csv('/cndd/Public_Datasets/human_snmcseq/Ensembles/Ens0/Ens0.tsv',\n",
    "         sep='\\t', na_rep='NA', header=True, index=False)"
   ]
  },
  {
   "cell_type": "code",
   "execution_count": null,
   "metadata": {},
   "outputs": [],
   "source": []
  }
 ],
 "metadata": {
  "kernelspec": {
   "display_name": "Python 3",
   "language": "python",
   "name": "python3"
  },
  "language_info": {
   "codemirror_mode": {
    "name": "ipython",
    "version": 3
   },
   "file_extension": ".py",
   "mimetype": "text/x-python",
   "name": "python",
   "nbconvert_exporter": "python",
   "pygments_lexer": "ipython3",
   "version": "3.4.3"
  }
 },
 "nbformat": 4,
 "nbformat_minor": 2
}
