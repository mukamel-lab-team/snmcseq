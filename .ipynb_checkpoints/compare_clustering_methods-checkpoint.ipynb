{
 "cells": [
  {
   "cell_type": "code",
   "execution_count": 7,
   "metadata": {},
   "outputs": [],
   "source": [
    "import numpy as np\n",
    "import pandas as pd\n",
    "import matplotlib.pyplot as plt\n",
    "import seaborn as sns\n",
    "from scipy.stats import gaussian_kde\n",
    "from scipy import stats\n",
    "from collections import OrderedDict\n",
    "\n",
    "from sklearn.decomposition import PCA\n",
    "from sklearn.decomposition import FastICA \n",
    "from sklearn.metrics import adjusted_rand_score\n",
    "from statsmodels.sandbox.stats.multicomp import multipletests \n",
    "\n",
    "from snmcseq_utils import plot_tsne_values\n",
    "from snmcseq_utils import plot_tsne_labels\n",
    "from snmcseq_utils import tsne_and_boxplot"
   ]
  },
  {
   "cell_type": "code",
   "execution_count": 49,
   "metadata": {},
   "outputs": [],
   "source": [
    "clf1 = '/cndd/fangming/snmcseq_dev/data/cluster/cluster_MB_v1_MB_EA_MB_EB/clusters_v1_binc_mCH_louvain.tsv'\n",
    "clf2 = '/cndd/fangming/snmcseq_dev/data/cluster/cluster_MB_v1_MB_EA_MB_EB/old/clusters_binc_mCHmCG_human_combined_100000_summary_normalized.tsv'\n",
    "\n",
    "annotf1 = '/cndd/fangming/snmcseq_dev/data/cluster/cluster_MB_v1_MB_EA_MB_EB/clusters_v1_binc_mCH_louvain_annotation.tsv'\n",
    "annotf2 = '/cndd/fangming/snmcseq_dev/data/cluster/cluster_MB_v1_MB_EA_MB_EB/old/cluster_MB_v1_MB_EA_MB_EB_annotation.tsv'"
   ]
  },
  {
   "cell_type": "code",
   "execution_count": 50,
   "metadata": {},
   "outputs": [
    {
     "name": "stdout",
     "output_type": "stream",
     "text": [
      "(6435, 1)\n",
      "(6435, 1)\n"
     ]
    },
    {
     "data": {
      "text/html": [
       "<div>\n",
       "<style>\n",
       "    .dataframe thead tr:only-child th {\n",
       "        text-align: right;\n",
       "    }\n",
       "\n",
       "    .dataframe thead th {\n",
       "        text-align: left;\n",
       "    }\n",
       "\n",
       "    .dataframe tbody tr th {\n",
       "        vertical-align: top;\n",
       "    }\n",
       "</style>\n",
       "<table border=\"1\" class=\"dataframe\">\n",
       "  <thead>\n",
       "    <tr style=\"text-align: right;\">\n",
       "      <th></th>\n",
       "      <th>cluster_ID</th>\n",
       "    </tr>\n",
       "    <tr>\n",
       "      <th>sample</th>\n",
       "      <th></th>\n",
       "    </tr>\n",
       "  </thead>\n",
       "  <tbody>\n",
       "    <tr>\n",
       "      <th>160729_MB_v1_hs_25yr_MFG_pool_1000_AD008_indexed</th>\n",
       "      <td>cluster_4</td>\n",
       "    </tr>\n",
       "    <tr>\n",
       "      <th>160729_MB_v1_hs_25yr_MFG_pool_1000_AD010_indexed</th>\n",
       "      <td>cluster_15</td>\n",
       "    </tr>\n",
       "    <tr>\n",
       "      <th>160729_MB_v1_hs_25yr_MFG_pool_1001_AD008_indexed</th>\n",
       "      <td>cluster_13</td>\n",
       "    </tr>\n",
       "    <tr>\n",
       "      <th>160729_MB_v1_hs_25yr_MFG_pool_1001_AD010_indexed</th>\n",
       "      <td>cluster_51</td>\n",
       "    </tr>\n",
       "    <tr>\n",
       "      <th>160729_MB_v1_hs_25yr_MFG_pool_1002_AD010_indexed</th>\n",
       "      <td>cluster_62</td>\n",
       "    </tr>\n",
       "  </tbody>\n",
       "</table>\n",
       "</div>"
      ],
      "text/plain": [
       "                                                  cluster_ID\n",
       "sample                                                      \n",
       "160729_MB_v1_hs_25yr_MFG_pool_1000_AD008_indexed   cluster_4\n",
       "160729_MB_v1_hs_25yr_MFG_pool_1000_AD010_indexed  cluster_15\n",
       "160729_MB_v1_hs_25yr_MFG_pool_1001_AD008_indexed  cluster_13\n",
       "160729_MB_v1_hs_25yr_MFG_pool_1001_AD010_indexed  cluster_51\n",
       "160729_MB_v1_hs_25yr_MFG_pool_1002_AD010_indexed  cluster_62"
      ]
     },
     "execution_count": 50,
     "metadata": {},
     "output_type": "execute_result"
    }
   ],
   "source": [
    "df_cl1 = pd.read_table(clf1, index_col='sample').sort_index()\n",
    "df_cl2 = pd.read_table(clf2, index_col='sample').sort_index() \n",
    "print(df_cl1.shape)\n",
    "print(df_cl2.shape)\n",
    "df_cl2.head()\n"
   ]
  },
  {
   "cell_type": "code",
   "execution_count": 51,
   "metadata": {},
   "outputs": [
    {
     "name": "stdout",
     "output_type": "stream",
     "text": [
      "(32, 1)\n",
      "(67, 1)\n"
     ]
    },
    {
     "data": {
      "text/html": [
       "<div>\n",
       "<style>\n",
       "    .dataframe thead tr:only-child th {\n",
       "        text-align: right;\n",
       "    }\n",
       "\n",
       "    .dataframe thead th {\n",
       "        text-align: left;\n",
       "    }\n",
       "\n",
       "    .dataframe tbody tr th {\n",
       "        vertical-align: top;\n",
       "    }\n",
       "</style>\n",
       "<table border=\"1\" class=\"dataframe\">\n",
       "  <thead>\n",
       "    <tr style=\"text-align: right;\">\n",
       "      <th></th>\n",
       "      <th>cluster_annotation</th>\n",
       "    </tr>\n",
       "    <tr>\n",
       "      <th>cluster_ID</th>\n",
       "      <th></th>\n",
       "    </tr>\n",
       "  </thead>\n",
       "  <tbody>\n",
       "    <tr>\n",
       "      <th>cluster_1</th>\n",
       "      <td>hSst-2</td>\n",
       "    </tr>\n",
       "    <tr>\n",
       "      <th>cluster_2</th>\n",
       "      <td>hSst-2</td>\n",
       "    </tr>\n",
       "    <tr>\n",
       "      <th>cluster_3</th>\n",
       "      <td>hSst-2</td>\n",
       "    </tr>\n",
       "    <tr>\n",
       "      <th>cluster_4</th>\n",
       "      <td>hSst-2</td>\n",
       "    </tr>\n",
       "    <tr>\n",
       "      <th>cluster_5</th>\n",
       "      <td>hSst-3</td>\n",
       "    </tr>\n",
       "  </tbody>\n",
       "</table>\n",
       "</div>"
      ],
      "text/plain": [
       "           cluster_annotation\n",
       "cluster_ID                   \n",
       "cluster_1              hSst-2\n",
       "cluster_2              hSst-2\n",
       "cluster_3              hSst-2\n",
       "cluster_4              hSst-2\n",
       "cluster_5              hSst-3"
      ]
     },
     "execution_count": 51,
     "metadata": {},
     "output_type": "execute_result"
    }
   ],
   "source": [
    "df_annot1 = pd.read_table(annotf1, index_col='cluster_ID') \n",
    "df_annot2 = pd.read_table(annotf2, index_col='cluster_ID') \n",
    "print(df_annot1.shape)\n",
    "print(df_annot2.shape)\n",
    "df_annot2.head()"
   ]
  },
  {
   "cell_type": "code",
   "execution_count": 52,
   "metadata": {},
   "outputs": [
    {
     "name": "stdout",
     "output_type": "stream",
     "text": [
      "(6435, 2)\n",
      "(6435, 2)\n"
     ]
    },
    {
     "data": {
      "text/html": [
       "<div>\n",
       "<style>\n",
       "    .dataframe thead tr:only-child th {\n",
       "        text-align: right;\n",
       "    }\n",
       "\n",
       "    .dataframe thead th {\n",
       "        text-align: left;\n",
       "    }\n",
       "\n",
       "    .dataframe tbody tr th {\n",
       "        vertical-align: top;\n",
       "    }\n",
       "</style>\n",
       "<table border=\"1\" class=\"dataframe\">\n",
       "  <thead>\n",
       "    <tr style=\"text-align: right;\">\n",
       "      <th></th>\n",
       "      <th>cluster_ID</th>\n",
       "      <th>cluster_annotation</th>\n",
       "    </tr>\n",
       "    <tr>\n",
       "      <th>sample</th>\n",
       "      <th></th>\n",
       "      <th></th>\n",
       "    </tr>\n",
       "  </thead>\n",
       "  <tbody>\n",
       "    <tr>\n",
       "      <th>160729_MB_v1_hs_25yr_MFG_pool_1000_AD008_indexed</th>\n",
       "      <td>cluster_8</td>\n",
       "      <td>hSst-2</td>\n",
       "    </tr>\n",
       "    <tr>\n",
       "      <th>160729_MB_v1_hs_25yr_MFG_pool_1000_AD010_indexed</th>\n",
       "      <td>cluster_5</td>\n",
       "      <td>hPv-1</td>\n",
       "    </tr>\n",
       "    <tr>\n",
       "      <th>160729_MB_v1_hs_25yr_MFG_pool_1001_AD008_indexed</th>\n",
       "      <td>cluster_5</td>\n",
       "      <td>hPv-1</td>\n",
       "    </tr>\n",
       "    <tr>\n",
       "      <th>160729_MB_v1_hs_25yr_MFG_pool_1001_AD010_indexed</th>\n",
       "      <td>cluster_4</td>\n",
       "      <td>hL2/3</td>\n",
       "    </tr>\n",
       "    <tr>\n",
       "      <th>160729_MB_v1_hs_25yr_MFG_pool_1002_AD010_indexed</th>\n",
       "      <td>cluster_26</td>\n",
       "      <td>hL6-3</td>\n",
       "    </tr>\n",
       "  </tbody>\n",
       "</table>\n",
       "</div>"
      ],
      "text/plain": [
       "                                                  cluster_ID  \\\n",
       "sample                                                         \n",
       "160729_MB_v1_hs_25yr_MFG_pool_1000_AD008_indexed   cluster_8   \n",
       "160729_MB_v1_hs_25yr_MFG_pool_1000_AD010_indexed   cluster_5   \n",
       "160729_MB_v1_hs_25yr_MFG_pool_1001_AD008_indexed   cluster_5   \n",
       "160729_MB_v1_hs_25yr_MFG_pool_1001_AD010_indexed   cluster_4   \n",
       "160729_MB_v1_hs_25yr_MFG_pool_1002_AD010_indexed  cluster_26   \n",
       "\n",
       "                                                 cluster_annotation  \n",
       "sample                                                               \n",
       "160729_MB_v1_hs_25yr_MFG_pool_1000_AD008_indexed             hSst-2  \n",
       "160729_MB_v1_hs_25yr_MFG_pool_1000_AD010_indexed              hPv-1  \n",
       "160729_MB_v1_hs_25yr_MFG_pool_1001_AD008_indexed              hPv-1  \n",
       "160729_MB_v1_hs_25yr_MFG_pool_1001_AD010_indexed              hL2/3  \n",
       "160729_MB_v1_hs_25yr_MFG_pool_1002_AD010_indexed              hL6-3  "
      ]
     },
     "execution_count": 52,
     "metadata": {},
     "output_type": "execute_result"
    }
   ],
   "source": [
    "df_clannot1 = pd.merge(df_cl1, df_annot1, left_on='cluster_ID', right_index=True).sort_index()\n",
    "df_clannot2 = pd.merge(df_cl2, df_annot2, left_on='cluster_ID', right_index=True).sort_index()\n",
    "print(df_clannot1.shape)\n",
    "print(df_clannot2.shape)\n",
    "df_clannot1.head()"
   ]
  },
  {
   "cell_type": "code",
   "execution_count": 60,
   "metadata": {},
   "outputs": [
    {
     "name": "stdout",
     "output_type": "stream",
     "text": [
      "0.66426260262 0.911618777898\n"
     ]
    }
   ],
   "source": [
    "# adjusted_rand_score(df_clannot1.cluster_annotation, df_clannot2.cluster_annotation)\n",
    "s1, s1_ind = pd.factorize(df_clannot1.cluster_ID)\n",
    "s2, s2_ind = pd.factorize(df_clannot2.cluster_ID)\n",
    "res1 = adjusted_rand_score(s1, s2)\n",
    "\n",
    "s1, s1_ind = pd.factorize(df_clannot1.cluster_annotation)\n",
    "s2, s2_ind = pd.factorize(df_clannot2.cluster_annotation)\n",
    "res2 = adjusted_rand_score(s1, s2)\n",
    "\n",
    "print(res1, res2)"
   ]
  },
  {
   "cell_type": "code",
   "execution_count": null,
   "metadata": {},
   "outputs": [],
   "source": [
    "# eyeballing tSNE clustering results\n"
   ]
  }
 ],
 "metadata": {
  "kernelspec": {
   "display_name": "Python 3",
   "language": "python",
   "name": "python3"
  },
  "language_info": {
   "codemirror_mode": {
    "name": "ipython",
    "version": 3
   },
   "file_extension": ".py",
   "mimetype": "text/x-python",
   "name": "python",
   "nbconvert_exporter": "python",
   "pygments_lexer": "ipython3",
   "version": "3.5.2"
  }
 },
 "nbformat": 4,
 "nbformat_minor": 2
}
