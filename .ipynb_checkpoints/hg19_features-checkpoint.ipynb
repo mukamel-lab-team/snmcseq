{
 "cells": [
  {
   "cell_type": "code",
   "execution_count": null,
   "metadata": {},
   "outputs": [],
   "source": [
    "import pandas as pd\n",
    "import numpy as np\n",
    "import matplotlib.pyplot as plt\n",
    "import seaborn as sns\n",
    "from collections import OrderedDict\n",
    "\n",
    "import regex as re\n",
    "\n",
    "import my_utils as utils\n",
    "from my_utils import create_logger"
   ]
  },
  {
   "cell_type": "code",
   "execution_count": null,
   "metadata": {},
   "outputs": [],
   "source": [
    "# get sequences\n",
    "version = 'hg19'\n",
    "dict_seq = utils.get_sequences(version, X=True, Y=True, M=True)"
   ]
  },
  {
   "cell_type": "code",
   "execution_count": null,
   "metadata": {},
   "outputs": [],
   "source": [
    "# get chroms and chrom sizes and ...j \n",
    "chroms = utils.get_chroms('mouse', X=True, Y=True, M=True, with_chr=False)\n",
    "df_chrom_sizes = utils.get_chrom_sizes(version, X=True, Y=True, M=True)\n",
    "df_chrom_sizes.head()"
   ]
  },
  {
   "cell_type": "code",
   "execution_count": null,
   "metadata": {},
   "outputs": [],
   "source": [
    "# check if the imported sequences are correct\n",
    "for chrom, seq in dict_seq.items():\n",
    "    if len(seq) != df_chrom_sizes.loc[chrom, 'size']:\n",
    "        raise ValueError(\"Chromosome size doesn't match: chr{}\".format(chrom))\n",
    "print('Imported genome sequences have the correct sizes!')"
   ]
  },
  {
   "cell_type": "code",
   "execution_count": null,
   "metadata": {},
   "outputs": [],
   "source": [
    "# get all CpGs: primary key (chr, pos)\n",
    "# 1-based\n",
    "\n",
    "\n",
    "\n",
    "# for chrom, seq in dict_seq.items():\n",
    "\n",
    "dict_list = []\n",
    "pattern = 'C'\n",
    "for chrom in chroms:\n",
    "    # No need to overlap with CG, but need to overlap with CC\n",
    "    for match in re.finditer(pattern, dict_seq[chrom], overlapped=False): \n",
    "        pos = match.span()[0] + 1   # 1-based\n",
    "        dict_list.append({'chr': chrom, 'pos': pos, \n",
    "                          'strand': '+', 'context': dict_seq[chrom][pos-1: pos+2]})\n",
    "        dict_list.append({'chr': chrom, 'pos': pos+1, \n",
    "                          'strand': '-', 'context': utils.complement(dict_seq[chrom][pos-2: pos+1][::-1])})\n",
    "        \n",
    "df_cg = pd.DataFrame(dict_list)\n",
    "print(df_cg.shape)\n",
    "df_cg.head()"
   ]
  },
  {
   "cell_type": "code",
   "execution_count": null,
   "metadata": {},
   "outputs": [],
   "source": [
    "df_cg = df_cg[['chr', 'pos', 'strand', 'context']]\n",
    "df_cg.to_csv('/cndd/Public_Datasets/human_snmcseq/References/Genome/hg19_all_c.tsv', \n",
    "             sep='\\t', na_rep='NA', header=True, index=False)"
   ]
  },
  {
   "cell_type": "code",
   "execution_count": null,
   "metadata": {},
   "outputs": [],
   "source": [
    "# get sequece-features of each CpG site (deprecated, see 00.sequence2features.py)\n",
    "\n",
    "# very slow\n",
    "ext_lengs = [5, 10, 20, 50, 100, 200, 500]\n",
    "\n",
    "dict_list = []\n",
    "for idx, row in df_cg.iterrows():\n",
    "    feature_dict = OrderedDict() \n",
    "    feature_dict['chr'] = row.chr\n",
    "    feature_dict['pos'] = row.pos\n",
    "    \n",
    "    for leng in ext_lengs: \n",
    "        seq = dict_seq[row.chr][row.pos-leng-1 : row.pos+leng]\n",
    "        feature_dict['n_cpg_{}'.format(str(leng))] = seq.count('CG')\n",
    "        feature_dict['n_gnc_{}'.format(str(leng))] = (seq.count('G') + seq.count('C'))/float(2*leng + 1)\n",
    "        \n",
    "    dict_list.append(feature_dict)\n",
    "    \n",
    "    if (idx % 1000000) == 0:\n",
    "        print(idx, idx/df_cg.shape[0])\n",
    "    \n",
    "df_cpg_info = pd.DataFrame(dict_list)"
   ]
  },
  {
   "cell_type": "code",
   "execution_count": null,
   "metadata": {},
   "outputs": [],
   "source": [
    "# examine features\n",
    "\n",
    "feature_f = './data/features/features_mm10_cpg_v1.tsv'\n",
    "df_cpg_info = pd.read_table(feature_f, index_col=['chr', 'pos'], dtype={'chr': object})\n",
    "print(df_cpg_info.shape)\n",
    "df_cpg_info.head()\n",
    "\n"
   ]
  },
  {
   "cell_type": "code",
   "execution_count": null,
   "metadata": {},
   "outputs": [],
   "source": [
    "# gencode annotation \n",
    "# df_chrom_sizes.sum()\n",
    "f = '/cndd/Public_Datasets/CEMBA/snmCSeq/References/Annotation/gencode.vM16.annotation_genes.tsv'\n",
    "df_genes = pd.read_table(f, index_col='gene_id')\n",
    "print(df_genes.shape)\n",
    "df_genes.head()"
   ]
  },
  {
   "cell_type": "code",
   "execution_count": null,
   "metadata": {},
   "outputs": [],
   "source": [
    "(df_genes.loc[df_genes['gene_type']=='protein_coding', 'end'] \n",
    " - df_genes.loc[df_genes['gene_type']=='protein_coding', 'start']).sum()/df_chrom_sizes.sum()"
   ]
  },
  {
   "cell_type": "code",
   "execution_count": null,
   "metadata": {},
   "outputs": [],
   "source": [
    "df_chrom_sizes.sum()"
   ]
  },
  {
   "cell_type": "code",
   "execution_count": null,
   "metadata": {},
   "outputs": [],
   "source": [
    "df_genes_new = df_genes[(~df_genes['gene_name'].str.contains('^Gm')) & (df_genes['gene_type'] == 'protein_coding')]"
   ]
  },
  {
   "cell_type": "code",
   "execution_count": null,
   "metadata": {},
   "outputs": [],
   "source": [
    "(df_genes_new.loc[:, 'end'] \n",
    " - df_genes.loc[:, 'start']).sum()/df_chrom_sizes.sum()"
   ]
  },
  {
   "cell_type": "code",
   "execution_count": null,
   "metadata": {},
   "outputs": [],
   "source": [
    "overlaps_all = 0\n",
    "for chrom, df_sub in df_genes.groupby('chr'):\n",
    "    overlaps = 0\n",
    "    for i, (idx, row) in enumerate(df_sub.iterrows()):\n",
    "        if i == 0:\n",
    "            last_end = row.end\n",
    "        else:\n",
    "            overlap = last_end - row.start\n",
    "            if overlap > 0:\n",
    "                overlaps += overlap\n",
    "\n",
    "            last_end = row.end\n",
    "    overlaps_all += overlaps\n",
    "        \n",
    "    \n",
    "    "
   ]
  },
  {
   "cell_type": "code",
   "execution_count": null,
   "metadata": {},
   "outputs": [],
   "source": [
    "overlaps_all/df_chrom_sizes.sum()"
   ]
  },
  {
   "cell_type": "code",
   "execution_count": null,
   "metadata": {},
   "outputs": [],
   "source": []
  }
 ],
 "metadata": {
  "kernelspec": {
   "display_name": "Python 3",
   "language": "python",
   "name": "python3"
  },
  "language_info": {
   "codemirror_mode": {
    "name": "ipython",
    "version": 3
   },
   "file_extension": ".py",
   "mimetype": "text/x-python",
   "name": "python",
   "nbconvert_exporter": "python",
   "pygments_lexer": "ipython3",
   "version": "3.4.3"
  }
 },
 "nbformat": 4,
 "nbformat_minor": 2
}
