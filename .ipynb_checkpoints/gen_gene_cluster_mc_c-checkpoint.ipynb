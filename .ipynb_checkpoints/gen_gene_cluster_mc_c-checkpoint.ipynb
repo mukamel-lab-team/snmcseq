{
 "cells": [
  {
   "cell_type": "code",
   "execution_count": 1,
   "metadata": {},
   "outputs": [],
   "source": [
    "import pandas as pd\n",
    "import numpy as np"
   ]
  },
  {
   "cell_type": "markdown",
   "metadata": {},
   "source": [
    "generate gene cluster matrix from gene cell matrix"
   ]
  },
  {
   "cell_type": "code",
   "execution_count": 2,
   "metadata": {},
   "outputs": [
    {
     "name": "stdout",
     "output_type": "stream",
     "text": [
      "(57240, 12870)\n",
      "(2784, 3)\n"
     ]
    }
   ],
   "source": [
    "input_f = './data/gene_level/genebody_mch_human_combined_summary.tsv'\n",
    "cluster_f = './data/cluster/cluster_mb_v1/cluster_mb_v1.tsv' \n",
    "\n",
    "output_f = './data/cluster/cluster_mb_v1/genebody_mch_human_combined_cluster_mb_v1_mc_c.tsv'\n",
    "\n",
    "df_input = pd.read_table(input_f, index_col='id')\n",
    "df_cluster = pd.read_table(cluster_f, index_col='sample')\n",
    "\n",
    "print(df_input.shape)\n",
    "print(df_cluster.shape)"
   ]
  },
  {
   "cell_type": "code",
   "execution_count": 3,
   "metadata": {},
   "outputs": [
    {
     "data": {
      "text/html": [
       "<div>\n",
       "<style>\n",
       "    .dataframe thead tr:only-child th {\n",
       "        text-align: right;\n",
       "    }\n",
       "\n",
       "    .dataframe thead th {\n",
       "        text-align: left;\n",
       "    }\n",
       "\n",
       "    .dataframe tbody tr th {\n",
       "        vertical-align: top;\n",
       "    }\n",
       "</style>\n",
       "<table border=\"1\" class=\"dataframe\">\n",
       "  <thead>\n",
       "    <tr style=\"text-align: right;\">\n",
       "      <th></th>\n",
       "      <th>cell_type</th>\n",
       "      <th>tsne_x</th>\n",
       "      <th>tsne_y</th>\n",
       "    </tr>\n",
       "    <tr>\n",
       "      <th>sample</th>\n",
       "      <th></th>\n",
       "      <th></th>\n",
       "      <th></th>\n",
       "    </tr>\n",
       "  </thead>\n",
       "  <tbody>\n",
       "    <tr>\n",
       "      <th>160729_MB_v1_hs_25yr_MFG_pool_1_AD008_indexed</th>\n",
       "      <td>hL2/3</td>\n",
       "      <td>-12.332700</td>\n",
       "      <td>-11.750700</td>\n",
       "    </tr>\n",
       "    <tr>\n",
       "      <th>160729_MB_v1_hs_25yr_MFG_pool_1_AD010_indexed</th>\n",
       "      <td>hL2/3</td>\n",
       "      <td>-11.088300</td>\n",
       "      <td>11.283700</td>\n",
       "    </tr>\n",
       "    <tr>\n",
       "      <th>160729_MB_v1_hs_25yr_MFG_pool_2_AD008_indexed</th>\n",
       "      <td>hL4</td>\n",
       "      <td>-0.698722</td>\n",
       "      <td>-0.094122</td>\n",
       "    </tr>\n",
       "    <tr>\n",
       "      <th>160729_MB_v1_hs_25yr_MFG_pool_2_AD010_indexed</th>\n",
       "      <td>hL2/3</td>\n",
       "      <td>-15.662800</td>\n",
       "      <td>5.273410</td>\n",
       "    </tr>\n",
       "    <tr>\n",
       "      <th>160729_MB_v1_hs_25yr_MFG_pool_3_AD008_indexed</th>\n",
       "      <td>hSst-2</td>\n",
       "      <td>14.084100</td>\n",
       "      <td>-4.481540</td>\n",
       "    </tr>\n",
       "  </tbody>\n",
       "</table>\n",
       "</div>"
      ],
      "text/plain": [
       "                                              cell_type     tsne_x     tsne_y\n",
       "sample                                                                       \n",
       "160729_MB_v1_hs_25yr_MFG_pool_1_AD008_indexed     hL2/3 -12.332700 -11.750700\n",
       "160729_MB_v1_hs_25yr_MFG_pool_1_AD010_indexed     hL2/3 -11.088300  11.283700\n",
       "160729_MB_v1_hs_25yr_MFG_pool_2_AD008_indexed       hL4  -0.698722  -0.094122\n",
       "160729_MB_v1_hs_25yr_MFG_pool_2_AD010_indexed     hL2/3 -15.662800   5.273410\n",
       "160729_MB_v1_hs_25yr_MFG_pool_3_AD008_indexed    hSst-2  14.084100  -4.481540"
      ]
     },
     "execution_count": 3,
     "metadata": {},
     "output_type": "execute_result"
    }
   ],
   "source": [
    "df_cluster.head()"
   ]
  },
  {
   "cell_type": "code",
   "execution_count": 4,
   "metadata": {},
   "outputs": [
    {
     "name": "stdout",
     "output_type": "stream",
     "text": [
      "(57240, 12870)\n",
      "Index(['160729_MB_v1_hs_25yr_MFG_pool_1000_AD008_indexed_mc',\n",
      "       '160729_MB_v1_hs_25yr_MFG_pool_1000_AD008_indexed_c',\n",
      "       '160729_MB_v1_hs_25yr_MFG_pool_1000_AD010_indexed_mc',\n",
      "       '160729_MB_v1_hs_25yr_MFG_pool_1000_AD010_indexed_c',\n",
      "       '160729_MB_v1_hs_25yr_MFG_pool_1001_AD008_indexed_mc',\n",
      "       '160729_MB_v1_hs_25yr_MFG_pool_1001_AD008_indexed_c',\n",
      "       '160729_MB_v1_hs_25yr_MFG_pool_1001_AD010_indexed_mc',\n",
      "       '160729_MB_v1_hs_25yr_MFG_pool_1001_AD010_indexed_c',\n",
      "       '160729_MB_v1_hs_25yr_MFG_pool_1002_AD010_indexed_mc',\n",
      "       '160729_MB_v1_hs_25yr_MFG_pool_1002_AD010_indexed_c',\n",
      "       ...\n",
      "       '171030_MB_EB_hs_25yr_BA10_FCU2_NA_H8_AD006_indexed_mc',\n",
      "       '171030_MB_EB_hs_25yr_BA10_FCU2_NA_H8_AD006_indexed_c',\n",
      "       '171030_MB_EB_hs_25yr_BA10_FCU2_NA_H8_AD008_indexed_mc',\n",
      "       '171030_MB_EB_hs_25yr_BA10_FCU2_NA_H8_AD008_indexed_c',\n",
      "       '171030_MB_EB_hs_25yr_BA10_FCU2_NA_H8_AD010_indexed_mc',\n",
      "       '171030_MB_EB_hs_25yr_BA10_FCU2_NA_H8_AD010_indexed_c',\n",
      "       '171030_MB_EB_hs_25yr_BA10_FCU2_NA_H9_AD008_indexed_mc',\n",
      "       '171030_MB_EB_hs_25yr_BA10_FCU2_NA_H9_AD008_indexed_c',\n",
      "       '171030_MB_EB_hs_25yr_BA10_FCU2_NA_H9_AD010_indexed_mc',\n",
      "       '171030_MB_EB_hs_25yr_BA10_FCU2_NA_H9_AD010_indexed_c'],\n",
      "      dtype='object', length=12870)\n",
      "(57240, 6435)\n",
      "(57240, 6435)\n"
     ]
    }
   ],
   "source": [
    "df_c = df_input.filter(regex='_c$')\n",
    "df_mc = df_input.filter(regex='_mc$')\n",
    "print(df_input.shape)\n",
    "print(df_input.columns)\n",
    "print(df_c.shape)\n",
    "print(df_mc.shape)"
   ]
  },
  {
   "cell_type": "code",
   "execution_count": 12,
   "metadata": {},
   "outputs": [
    {
     "name": "stdout",
     "output_type": "stream",
     "text": [
      "                    hDL-1_mc  hDL-1_c  hDL-2_mc  hDL-2_c  hDL-3_mc  hDL-3_c  \\\n",
      "id                                                                            \n",
      "ENSG00000000003.10       375    10871       276     6284       201     6477   \n",
      "ENSG00000000005.5        892    13864       645     9001       543     9049   \n",
      "ENSG00000000419.8        354    44397       265    26903       188    25714   \n",
      "ENSG00000000457.9       1643    88178      1102    52162      1112    48365   \n",
      "ENSG00000000460.12     17019   330652     11988   190654      7788   197223   \n",
      "\n",
      "                    hL2/3_mc  hL2/3_c  hL4_mc   hL4_c    ...     hSst-1_mc  \\\n",
      "id                                                       ...                 \n",
      "ENSG00000000003.10      1998    64437     259    7391    ...           268   \n",
      "ENSG00000000005.5       4234    85797     680   10644    ...           711   \n",
      "ENSG00000000419.8       1915   257520     195   28777    ...           237   \n",
      "ENSG00000000457.9       6684   513566    1004   62069    ...          1203   \n",
      "ENSG00000000460.12     97006  1929380    9571  231323    ...          8746   \n",
      "\n",
      "                    hSst-1_c  hSst-2_mc  hSst-2_c  hSst-3_mc  hSst-3_c  \\\n",
      "id                                                                       \n",
      "ENSG00000000003.10      5205        365     12187        173      3040   \n",
      "ENSG00000000005.5       6500       1299     17439        481      4462   \n",
      "ENSG00000000419.8      21467        431     49953        177     13335   \n",
      "ENSG00000000457.9      39332       1705     97388        879     22927   \n",
      "ENSG00000000460.12    160330      13844    382737       5178     81533   \n",
      "\n",
      "                    hVip-1_mc  hVip-1_c  hVip-2_mc  hVip-2_c  \n",
      "id                                                            \n",
      "ENSG00000000003.10         92      3800        275      9360  \n",
      "ENSG00000000005.5         266      4518        932     12416  \n",
      "ENSG00000000419.8          91     12871        382     39580  \n",
      "ENSG00000000457.9         518     28919       1773     75278  \n",
      "ENSG00000000460.12       2316    108228       9410    293776  \n",
      "\n",
      "[5 rows x 42 columns]\n",
      "(57240, 42)\n"
     ]
    }
   ],
   "source": [
    "df_cluster_mc_c = pd.DataFrame() \n",
    "for label, df_sub in df_cluster.groupby('cell_type'):\n",
    "    samples = df_sub.index.values\n",
    "    df_cluster_mc_c[label+'_mc'] = df_mc[samples+'_mc'].sum(axis=1)\n",
    "    df_cluster_mc_c[label+'_c'] = df_c[samples+'_c'].sum(axis=1)\n",
    "print(df_cluster_mc_c.head())\n",
    "print(df_cluster_mc_c.shape)\n",
    "df_cluster_mc_c.to_csv(output_f, na_rep='NA', sep='\\t', header=True, index=True)"
   ]
  },
  {
   "cell_type": "code",
   "execution_count": null,
   "metadata": {},
   "outputs": [],
   "source": []
  }
 ],
 "metadata": {
  "kernelspec": {
   "display_name": "Python 3",
   "language": "python",
   "name": "python3"
  },
  "language_info": {
   "codemirror_mode": {
    "name": "ipython",
    "version": 3
   },
   "file_extension": ".py",
   "mimetype": "text/x-python",
   "name": "python",
   "nbconvert_exporter": "python",
   "pygments_lexer": "ipython3",
   "version": "3.5.2"
  }
 },
 "nbformat": 4,
 "nbformat_minor": 2
}
