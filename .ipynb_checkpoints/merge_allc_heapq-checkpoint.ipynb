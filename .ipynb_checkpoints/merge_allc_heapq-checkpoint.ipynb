{
 "cells": [
  {
   "cell_type": "code",
   "execution_count": 54,
   "metadata": {},
   "outputs": [],
   "source": [
    "import heapq \n",
    "\n",
    "from __init__ import *\n",
    "import snmcseq_utils\n",
    "from snmcseq_utils import create_logger\n",
    "from CEMBA_update_mysql import connect_sql"
   ]
  },
  {
   "cell_type": "code",
   "execution_count": 55,
   "metadata": {},
   "outputs": [],
   "source": [
    "log = create_logger() "
   ]
  },
  {
   "cell_type": "code",
   "execution_count": 56,
   "metadata": {},
   "outputs": [
    {
     "name": "stdout",
     "output_type": "stream",
     "text": [
      "(4029, 2)\n"
     ]
    },
    {
     "data": {
      "text/html": [
       "<div>\n",
       "<style>\n",
       "    .dataframe thead tr:only-child th {\n",
       "        text-align: right;\n",
       "    }\n",
       "\n",
       "    .dataframe thead th {\n",
       "        text-align: left;\n",
       "    }\n",
       "\n",
       "    .dataframe tbody tr th {\n",
       "        vertical-align: top;\n",
       "    }\n",
       "</style>\n",
       "<table border=\"1\" class=\"dataframe\">\n",
       "  <thead>\n",
       "    <tr style=\"text-align: right;\">\n",
       "      <th></th>\n",
       "      <th>dataset</th>\n",
       "      <th>cluster</th>\n",
       "    </tr>\n",
       "    <tr>\n",
       "      <th>cell_name</th>\n",
       "      <th></th>\n",
       "      <th></th>\n",
       "    </tr>\n",
       "  </thead>\n",
       "  <tbody>\n",
       "    <tr>\n",
       "      <th>171213_CEMBA_mm_P56_P63_3C_MOp_CEMBA171206_3C_4_CEMBA171206_3C_5_A11_AD002_indexed</th>\n",
       "      <td>CEMBA_3C_171206</td>\n",
       "      <td>8</td>\n",
       "    </tr>\n",
       "    <tr>\n",
       "      <th>171213_CEMBA_mm_P56_P63_3C_MOp_CEMBA171206_3C_1_CEMBA171206_3C_3_G4_AD008_indexed</th>\n",
       "      <td>CEMBA_3C_171206</td>\n",
       "      <td>1</td>\n",
       "    </tr>\n",
       "    <tr>\n",
       "      <th>171213_CEMBA_mm_P56_P63_3C_MOp_CEMBA171206_3C_1_CEMBA171206_3C_3_C3_AD002_indexed</th>\n",
       "      <td>CEMBA_3C_171206</td>\n",
       "      <td>19</td>\n",
       "    </tr>\n",
       "    <tr>\n",
       "      <th>171213_CEMBA_mm_P56_P63_3C_MOp_CEMBA171206_3C_1_CEMBA171206_3C_3_H3_AD002_indexed</th>\n",
       "      <td>CEMBA_3C_171206</td>\n",
       "      <td>6</td>\n",
       "    </tr>\n",
       "    <tr>\n",
       "      <th>171213_CEMBA_mm_P56_P63_3C_MOp_CEMBA171206_3C_4_CEMBA171206_3C_5_B7_AD002_indexed</th>\n",
       "      <td>CEMBA_3C_171206</td>\n",
       "      <td>3</td>\n",
       "    </tr>\n",
       "  </tbody>\n",
       "</table>\n",
       "</div>"
      ],
      "text/plain": [
       "                                                            dataset  cluster\n",
       "cell_name                                                                   \n",
       "171213_CEMBA_mm_P56_P63_3C_MOp_CEMBA171206_3C_4...  CEMBA_3C_171206        8\n",
       "171213_CEMBA_mm_P56_P63_3C_MOp_CEMBA171206_3C_1...  CEMBA_3C_171206        1\n",
       "171213_CEMBA_mm_P56_P63_3C_MOp_CEMBA171206_3C_1...  CEMBA_3C_171206       19\n",
       "171213_CEMBA_mm_P56_P63_3C_MOp_CEMBA171206_3C_1...  CEMBA_3C_171206        6\n",
       "171213_CEMBA_mm_P56_P63_3C_MOp_CEMBA171206_3C_4...  CEMBA_3C_171206        3"
      ]
     },
     "execution_count": 56,
     "metadata": {},
     "output_type": "execute_result"
    }
   ],
   "source": [
    "# get a clustering result\n",
    "ens = 'Ens7'\n",
    "ens_path = os.path.join(PATH_ENSEMBLES, ens)\n",
    " \n",
    "# database = 'CEMBA'\n",
    "# engine = connect_sql(database)\n",
    "# sql = '''SELECT cell_name, dataset, cluster_mCHmCG_lv_npc50_k30 \n",
    "#         FROM cells \n",
    "#         RIGHT JOIN {} \n",
    "#         ON cells.cell_id = {}.cell_id'''.format(ens, ens)\n",
    "# df = pd.read_sql(sql, engine, index_col='cell_name')\n",
    "# df.columns = ['dataset', 'cluster'] \n",
    "# print(df.shape)\n",
    "# df.head()\n",
    "\n",
    "df = pd.read_table('test_merge_allc.tsv', index_col='cell_name')\n",
    "print(df.shape)\n",
    "df.head()"
   ]
  },
  {
   "cell_type": "code",
   "execution_count": 74,
   "metadata": {},
   "outputs": [],
   "source": [
    "def merge_allc(allc_paths, context='CG'):\n",
    "    \"\"\"\n",
    "    \"\"\"\n",
    "    pass\n",
    "\n",
    "def CEMBA_allc_order(element):\n",
    "    \"\"\"reorder chromosomes (as CEMBA order)\n",
    "    element is `next(iter_allc)` (an one row dataframe) \n",
    "    \"\"\"\n",
    "    trans_dict={'L': -4,\n",
    "                'M': -3, \n",
    "                'X': -2, \n",
    "                'Y': -1, \n",
    "                }\n",
    "    chrom, pos = element.chr.values[0], element.pos.values[0]\n",
    "    try:\n",
    "        chrom = int(chrom)\n",
    "    except:\n",
    "        chrom = trans_dict[chrom]\n",
    "    return (chrom, pos)\n",
    "\n",
    "def CEMBA_allc_order_v2(element):\n",
    "    \"\"\"reorder chromosomes (as CEMBA order)\n",
    "    element is `next(iter_allc)` (an one row dataframe) \n",
    "    \"\"\"\n",
    "    trans_dict={'L': -4,\n",
    "                'M': -3, \n",
    "                'X': -2, \n",
    "                'Y': -1, \n",
    "                }\n",
    "    chrom, pos = element[1].chr, element[1].pos\n",
    "    try:\n",
    "        chrom = int(chrom)\n",
    "    except:\n",
    "        chrom = trans_dict[chrom]\n",
    "    return (chrom, pos)\n",
    "            \n",
    "def key2(element):\n",
    "    \"\"\"\n",
    "    reorder chromosomes\n",
    "    \"\"\"\n",
    "    trans_dict={'L': -4,\n",
    "                'M': -3, \n",
    "                'X': -2, \n",
    "                'Y': -1, \n",
    "                }\n",
    "    chrom, pos = element\n",
    "    try:\n",
    "        chrom = int(chrom)\n",
    "    except:\n",
    "        chrom = trans_dict[chrom]\n",
    "    return (chrom, pos)\n",
    "            "
   ]
  },
  {
   "cell_type": "code",
   "execution_count": 84,
   "metadata": {},
   "outputs": [],
   "source": [
    "# group allcs for each cluster_id\n",
    "for cluster_id, df_sub in df.groupby('cluster'):\n",
    "    if cluster_id == 26:\n",
    "        allc_paths = [os.path.join(PATH_DATASETS, '{}/allc/allc_{}.tsv.bgz').format(dataset, cell) \n",
    "                      for (dataset, cell) in zip(df_sub.dataset, df_sub.index)]\n",
    "        \n",
    "        iter_allcs = [snmcseq_utils.read_allc_CEMBA(allc_path, chunksize=100000, pindex=False)\n",
    "                       for allc_path in allc_paths]\n",
    "        df_allcs = [next(iter_allc).iterrows() for iter_allc in iter_allcs]\n",
    "#         iter_all = heapq.merge(*iter_allcs, key=CEMBA_allc_order)\n",
    "        iter_all = heapq.merge(*df_allcs, key=CEMBA_allc_order_v2)\n"
   ]
  },
  {
   "cell_type": "code",
   "execution_count": 85,
   "metadata": {},
   "outputs": [
    {
     "name": "stderr",
     "output_type": "stream",
     "text": [
      "02/14/2018 01:21:58 AM 0, 0.594764232635498\n",
      "02/14/2018 01:21:59 AM 10000, 0.801738977432251\n",
      "02/14/2018 01:22:00 AM 20000, 0.8160057067871094\n",
      "02/14/2018 01:22:01 AM 30000, 0.809006929397583\n",
      "02/14/2018 01:22:01 AM 40000, 0.7641851902008057\n",
      "02/14/2018 01:22:02 AM 50000, 0.7890822887420654\n",
      "02/14/2018 01:22:03 AM 60000, 0.787177562713623\n",
      "02/14/2018 01:22:04 AM 70000, 0.7854893207550049\n",
      "02/14/2018 01:22:05 AM 80000, 0.7708964347839355\n",
      "02/14/2018 01:22:05 AM 90000, 0.7743821144104004\n",
      "02/14/2018 01:22:06 AM 100000, 0.7852222919464111\n",
      "02/14/2018 01:22:06 AM 8.490164279937744\n"
     ]
    }
   ],
   "source": [
    "rows = []\n",
    "# with open('merged_allc.tsv', 'w') as output:\n",
    "tii = time.time()\n",
    "ti = time.time()\n",
    "for i, df_row in enumerate(iter_all):\n",
    "    # one-row dataframe to a numpy array: df_row.values[0]\n",
    "    chrom, pos, strand, context, mc, c, methylated = df_row[1]\n",
    "    if i == 0:\n",
    "        # first line\n",
    "        (chrom_h, pos_h, strand_h, context_h, mc_h, c_h, methylated_h) = (chrom, pos, \n",
    "                                                                       strand, context, \n",
    "                                                                       mc, c, methylated)\n",
    "    elif (chrom, pos) == (chrom_h, pos_h):\n",
    "        # add to row hold\n",
    "        mc_h += mc\n",
    "        c_h += c \n",
    "    else:\n",
    "        # output row_hold\n",
    "        rows.append((chrom_h, pos_h, strand_h, context_h, mc_h, c_h, methylated_h))\n",
    "        # update row to row_hold\n",
    "        (chrom_h, pos_h, strand_h, context_h, mc_h, c_h, methylated_h) = (chrom, pos, \n",
    "                                                                       strand, context, \n",
    "                                                                       mc, c, methylated)\n",
    "    if i%10000 == 0:\n",
    "        logging.info(\"{}, {}\".format(i, time.time() - ti))\n",
    "        ti = time.time()\n",
    "    if i == 100000:\n",
    "        break\n",
    "        \n",
    "        \n",
    "tff = time.time()\n",
    "log.info(tff-tii)"
   ]
  },
  {
   "cell_type": "code",
   "execution_count": 27,
   "metadata": {},
   "outputs": [
    {
     "data": {
      "text/html": [
       "<div>\n",
       "<style>\n",
       "    .dataframe thead tr:only-child th {\n",
       "        text-align: right;\n",
       "    }\n",
       "\n",
       "    .dataframe thead th {\n",
       "        text-align: left;\n",
       "    }\n",
       "\n",
       "    .dataframe tbody tr th {\n",
       "        vertical-align: top;\n",
       "    }\n",
       "</style>\n",
       "<table border=\"1\" class=\"dataframe\">\n",
       "  <thead>\n",
       "    <tr style=\"text-align: right;\">\n",
       "      <th></th>\n",
       "      <th>0</th>\n",
       "      <th>1</th>\n",
       "      <th>2</th>\n",
       "      <th>3</th>\n",
       "      <th>4</th>\n",
       "      <th>5</th>\n",
       "      <th>6</th>\n",
       "    </tr>\n",
       "  </thead>\n",
       "  <tbody>\n",
       "    <tr>\n",
       "      <th>0</th>\n",
       "      <td>L</td>\n",
       "      <td>11</td>\n",
       "      <td>+</td>\n",
       "      <td>CTC</td>\n",
       "      <td>0</td>\n",
       "      <td>1</td>\n",
       "      <td>1</td>\n",
       "    </tr>\n",
       "    <tr>\n",
       "      <th>1</th>\n",
       "      <td>L</td>\n",
       "      <td>13</td>\n",
       "      <td>+</td>\n",
       "      <td>CGC</td>\n",
       "      <td>0</td>\n",
       "      <td>1</td>\n",
       "      <td>1</td>\n",
       "    </tr>\n",
       "    <tr>\n",
       "      <th>2</th>\n",
       "      <td>L</td>\n",
       "      <td>15</td>\n",
       "      <td>+</td>\n",
       "      <td>CGG</td>\n",
       "      <td>0</td>\n",
       "      <td>2</td>\n",
       "      <td>1</td>\n",
       "    </tr>\n",
       "    <tr>\n",
       "      <th>3</th>\n",
       "      <td>L</td>\n",
       "      <td>23</td>\n",
       "      <td>+</td>\n",
       "      <td>CGC</td>\n",
       "      <td>0</td>\n",
       "      <td>2</td>\n",
       "      <td>1</td>\n",
       "    </tr>\n",
       "    <tr>\n",
       "      <th>4</th>\n",
       "      <td>L</td>\n",
       "      <td>25</td>\n",
       "      <td>+</td>\n",
       "      <td>CTA</td>\n",
       "      <td>0</td>\n",
       "      <td>2</td>\n",
       "      <td>1</td>\n",
       "    </tr>\n",
       "  </tbody>\n",
       "</table>\n",
       "</div>"
      ],
      "text/plain": [
       "   0   1  2    3  4  5  6\n",
       "0  L  11  +  CTC  0  1  1\n",
       "1  L  13  +  CGC  0  1  1\n",
       "2  L  15  +  CGG  0  2  1\n",
       "3  L  23  +  CGC  0  2  1\n",
       "4  L  25  +  CTA  0  2  1"
      ]
     },
     "execution_count": 27,
     "metadata": {},
     "output_type": "execute_result"
    }
   ],
   "source": [
    "pd.DataFrame(rows).head()"
   ]
  },
  {
   "cell_type": "code",
   "execution_count": 17,
   "metadata": {},
   "outputs": [],
   "source": [
    "a = iter(list(np.random.randn(10)))\n",
    "b = iter(list(np.random.randn(10)))\n",
    "\n",
    "res = heapq.merge(a, b, key=)"
   ]
  },
  {
   "cell_type": "code",
   "execution_count": 98,
   "metadata": {},
   "outputs": [
    {
     "name": "stdout",
     "output_type": "stream",
     "text": [
      "('L', 1)\n",
      "('L', 1)\n",
      "('L', 2)\n",
      "('L', 4)\n",
      "('M', 1)\n",
      "('M', 1)\n",
      "('X', 2.5)\n",
      "('X', 2.5)\n",
      "('X', 6)\n",
      "('X', 6)\n",
      "('X', 6)\n",
      "('Y', 1)\n",
      "('Y', 1)\n",
      "('1', 1)\n",
      "('1', 1)\n",
      "('1', 2)\n",
      "('2', 2)\n",
      "('2', 2)\n",
      "('3', 3)\n",
      "('3', 33333)\n",
      "('11', 4)\n",
      "('11', 4)\n"
     ]
    }
   ],
   "source": [
    "a = iter((('L', 1), ('M', 1), ('X', 2.5), ('X', 6), ('Y', 1), \n",
    "          ('1', 1), ('2', 2), ('11', 4)))\n",
    "b = iter((('L', 2), ('L', 4), ('X', 6), ('1', 2), \n",
    "          ('3', 3)))\n",
    "c = iter((('L', 1), ('M', 1), ('X', 2.5), ('X', 6), ('Y', 1), \n",
    "          ('1', 1), ('2', 2), ('3', 33333), ('11', 4)))\n",
    "\n",
    "\n",
    "for i in heapq.merge(a, b, c, key=key2):\n",
    "    print(i)"
   ]
  },
  {
   "cell_type": "code",
   "execution_count": 45,
   "metadata": {},
   "outputs": [
    {
     "name": "stderr",
     "output_type": "stream",
     "text": [
      "/cndd/fangming/venvs/venv_dobro_snmcseq/lib/python3.5/site-packages/numpy/lib/arraysetops.py:466: FutureWarning: elementwise comparison failed; returning scalar instead, but in the future will perform elementwise comparison\n",
      "  mask |= (ar1 == a)\n"
     ]
    }
   ],
   "source": [
    "df = snmcseq_utils.read_allc_CEMBA(allc_paths[0])"
   ]
  },
  {
   "cell_type": "code",
   "execution_count": 46,
   "metadata": {},
   "outputs": [
    {
     "name": "stdout",
     "output_type": "stream",
     "text": [
      "(47614230, 5)\n"
     ]
    },
    {
     "data": {
      "text/html": [
       "<div>\n",
       "<style>\n",
       "    .dataframe thead tr:only-child th {\n",
       "        text-align: right;\n",
       "    }\n",
       "\n",
       "    .dataframe thead th {\n",
       "        text-align: left;\n",
       "    }\n",
       "\n",
       "    .dataframe tbody tr th {\n",
       "        vertical-align: top;\n",
       "    }\n",
       "</style>\n",
       "<table border=\"1\" class=\"dataframe\">\n",
       "  <thead>\n",
       "    <tr style=\"text-align: right;\">\n",
       "      <th></th>\n",
       "      <th></th>\n",
       "      <th>strand</th>\n",
       "      <th>context</th>\n",
       "      <th>mc</th>\n",
       "      <th>c</th>\n",
       "      <th>methylated</th>\n",
       "    </tr>\n",
       "    <tr>\n",
       "      <th>chr</th>\n",
       "      <th>pos</th>\n",
       "      <th></th>\n",
       "      <th></th>\n",
       "      <th></th>\n",
       "      <th></th>\n",
       "      <th></th>\n",
       "    </tr>\n",
       "  </thead>\n",
       "  <tbody>\n",
       "    <tr>\n",
       "      <th rowspan=\"5\" valign=\"top\">L</th>\n",
       "      <th>15</th>\n",
       "      <td>+</td>\n",
       "      <td>CGG</td>\n",
       "      <td>0</td>\n",
       "      <td>1</td>\n",
       "      <td>1</td>\n",
       "    </tr>\n",
       "    <tr>\n",
       "      <th>23</th>\n",
       "      <td>+</td>\n",
       "      <td>CGC</td>\n",
       "      <td>0</td>\n",
       "      <td>1</td>\n",
       "      <td>1</td>\n",
       "    </tr>\n",
       "    <tr>\n",
       "      <th>25</th>\n",
       "      <td>+</td>\n",
       "      <td>CTA</td>\n",
       "      <td>0</td>\n",
       "      <td>1</td>\n",
       "      <td>1</td>\n",
       "    </tr>\n",
       "    <tr>\n",
       "      <th>42</th>\n",
       "      <td>+</td>\n",
       "      <td>CCG</td>\n",
       "      <td>0</td>\n",
       "      <td>1</td>\n",
       "      <td>1</td>\n",
       "    </tr>\n",
       "    <tr>\n",
       "      <th>43</th>\n",
       "      <td>+</td>\n",
       "      <td>CGG</td>\n",
       "      <td>0</td>\n",
       "      <td>1</td>\n",
       "      <td>1</td>\n",
       "    </tr>\n",
       "  </tbody>\n",
       "</table>\n",
       "</div>"
      ],
      "text/plain": [
       "        strand context  mc  c  methylated\n",
       "chr pos                                  \n",
       "L   15       +     CGG   0  1           1\n",
       "    23       +     CGC   0  1           1\n",
       "    25       +     CTA   0  1           1\n",
       "    42       +     CCG   0  1           1\n",
       "    43       +     CGG   0  1           1"
      ]
     },
     "execution_count": 46,
     "metadata": {},
     "output_type": "execute_result"
    }
   ],
   "source": [
    "print(df.shape)\n",
    "df.head()"
   ]
  },
  {
   "cell_type": "code",
   "execution_count": 47,
   "metadata": {},
   "outputs": [
    {
     "name": "stdout",
     "output_type": "stream",
     "text": [
      "(1923213, 5)\n"
     ]
    },
    {
     "data": {
      "text/html": [
       "<div>\n",
       "<style>\n",
       "    .dataframe thead tr:only-child th {\n",
       "        text-align: right;\n",
       "    }\n",
       "\n",
       "    .dataframe thead th {\n",
       "        text-align: left;\n",
       "    }\n",
       "\n",
       "    .dataframe tbody tr th {\n",
       "        vertical-align: top;\n",
       "    }\n",
       "</style>\n",
       "<table border=\"1\" class=\"dataframe\">\n",
       "  <thead>\n",
       "    <tr style=\"text-align: right;\">\n",
       "      <th></th>\n",
       "      <th></th>\n",
       "      <th>strand</th>\n",
       "      <th>context</th>\n",
       "      <th>mc</th>\n",
       "      <th>c</th>\n",
       "      <th>methylated</th>\n",
       "    </tr>\n",
       "    <tr>\n",
       "      <th>chr</th>\n",
       "      <th>pos</th>\n",
       "      <th></th>\n",
       "      <th></th>\n",
       "      <th></th>\n",
       "      <th></th>\n",
       "      <th></th>\n",
       "    </tr>\n",
       "  </thead>\n",
       "  <tbody>\n",
       "    <tr>\n",
       "      <th rowspan=\"5\" valign=\"top\">L</th>\n",
       "      <th>15</th>\n",
       "      <td>+</td>\n",
       "      <td>CGG</td>\n",
       "      <td>0</td>\n",
       "      <td>1</td>\n",
       "      <td>1</td>\n",
       "    </tr>\n",
       "    <tr>\n",
       "      <th>23</th>\n",
       "      <td>+</td>\n",
       "      <td>CGC</td>\n",
       "      <td>0</td>\n",
       "      <td>1</td>\n",
       "      <td>1</td>\n",
       "    </tr>\n",
       "    <tr>\n",
       "      <th>43</th>\n",
       "      <td>+</td>\n",
       "      <td>CGG</td>\n",
       "      <td>0</td>\n",
       "      <td>1</td>\n",
       "      <td>1</td>\n",
       "    </tr>\n",
       "    <tr>\n",
       "      <th>53</th>\n",
       "      <td>+</td>\n",
       "      <td>CGT</td>\n",
       "      <td>0</td>\n",
       "      <td>1</td>\n",
       "      <td>1</td>\n",
       "    </tr>\n",
       "    <tr>\n",
       "      <th>59</th>\n",
       "      <td>+</td>\n",
       "      <td>CGT</td>\n",
       "      <td>0</td>\n",
       "      <td>1</td>\n",
       "      <td>1</td>\n",
       "    </tr>\n",
       "  </tbody>\n",
       "</table>\n",
       "</div>"
      ],
      "text/plain": [
       "        strand context  mc  c  methylated\n",
       "chr pos                                  \n",
       "L   15       +     CGG   0  1           1\n",
       "    23       +     CGC   0  1           1\n",
       "    43       +     CGG   0  1           1\n",
       "    53       +     CGT   0  1           1\n",
       "    59       +     CGT   0  1           1"
      ]
     },
     "execution_count": 47,
     "metadata": {},
     "output_type": "execute_result"
    }
   ],
   "source": [
    "df_cg = df[df.context.isin(snmcseq_utils.get_expanded_context('CG'))] \n",
    "print(df_cg.shape)\n",
    "df_cg.head()"
   ]
  },
  {
   "cell_type": "code",
   "execution_count": 75,
   "metadata": {},
   "outputs": [
    {
     "data": {
      "text/plain": [
       "['L',\n",
       " 'M',\n",
       " 'X',\n",
       " 'Y',\n",
       " '1',\n",
       " '2',\n",
       " '3',\n",
       " '4',\n",
       " '5',\n",
       " '6',\n",
       " '7',\n",
       " '8',\n",
       " '9',\n",
       " '10',\n",
       " '11',\n",
       " '12',\n",
       " '13',\n",
       " '14',\n",
       " '15',\n",
       " '16',\n",
       " '17',\n",
       " '18',\n",
       " '19']"
      ]
     },
     "execution_count": 75,
     "metadata": {},
     "output_type": "execute_result"
    }
   ],
   "source": [
    "\n",
    "chrom_orders = []\n",
    "for i, chrom in enumerate(df.index.get_level_values(0)):\n",
    "    if chrom not in chrom_orders:\n",
    "        chrom_orders.append(chrom)\n",
    "chrom_orders "
   ]
  },
  {
   "cell_type": "code",
   "execution_count": 133,
   "metadata": {},
   "outputs": [
    {
     "data": {
      "text/plain": [
       "array([['L', 53, '+', 'CGT', 0, 1, 1]], dtype=object)"
      ]
     },
     "execution_count": 133,
     "metadata": {},
     "output_type": "execute_result"
    }
   ],
   "source": [
    "next(iter_allcs[0]).values"
   ]
  },
  {
   "cell_type": "code",
   "execution_count": 82,
   "metadata": {},
   "outputs": [
    {
     "data": {
      "text/plain": [
       "66.130875"
      ]
     },
     "execution_count": 82,
     "metadata": {},
     "output_type": "execute_result"
    }
   ],
   "source": [
    "47614230*50/(3600*10000)"
   ]
  },
  {
   "cell_type": "code",
   "execution_count": 83,
   "metadata": {},
   "outputs": [
    {
     "data": {
      "text/plain": [
       "2.6711291666666668"
      ]
     },
     "execution_count": 83,
     "metadata": {},
     "output_type": "execute_result"
    }
   ],
   "source": [
    "1923213*50/(3600*10000)"
   ]
  },
  {
   "cell_type": "code",
   "execution_count": 70,
   "metadata": {},
   "outputs": [
    {
     "data": {
      "text/plain": [
       "'L'"
      ]
     },
     "execution_count": 70,
     "metadata": {},
     "output_type": "execute_result"
    }
   ],
   "source": [
    "next(df_allcs[0])[1].chr"
   ]
  },
  {
   "cell_type": "code",
   "execution_count": null,
   "metadata": {},
   "outputs": [],
   "source": []
  }
 ],
 "metadata": {
  "kernelspec": {
   "display_name": "Python 3",
   "language": "python",
   "name": "python3"
  },
  "language_info": {
   "codemirror_mode": {
    "name": "ipython",
    "version": 3
   },
   "file_extension": ".py",
   "mimetype": "text/x-python",
   "name": "python",
   "nbconvert_exporter": "python",
   "pygments_lexer": "ipython3",
   "version": "3.5.2"
  }
 },
 "nbformat": 4,
 "nbformat_minor": 2
}
