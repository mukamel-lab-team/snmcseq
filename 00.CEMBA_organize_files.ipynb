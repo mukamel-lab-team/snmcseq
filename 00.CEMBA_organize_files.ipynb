{
 "cells": [
  {
   "cell_type": "code",
   "execution_count": 2,
   "metadata": {},
   "outputs": [],
   "source": [
    "import subprocess as sp\n",
    "import matplotlib.pyplot as plt\n",
    "\n",
    "from __init__ import *\n",
    "from snmcseq_utils import create_logger\n",
    "from snmcseq_utils import cd"
   ]
  },
  {
   "cell_type": "code",
   "execution_count": 3,
   "metadata": {},
   "outputs": [
    {
     "name": "stderr",
     "output_type": "stream",
     "text": [
      "04/03/2018 09:03:15 PM .\n"
     ]
    }
   ],
   "source": [
    "log = create_logger()\n",
    "log.info('.')"
   ]
  },
  {
   "cell_type": "code",
   "execution_count": 4,
   "metadata": {},
   "outputs": [],
   "source": [
    "dataset = 'CEMBA_3F_180109'\n",
    "path_dataset = os.path.join(PATH_DATASETS, dataset)"
   ]
  },
  {
   "cell_type": "markdown",
   "metadata": {},
   "source": [
    "# Gzip to bgzip"
   ]
  },
  {
   "cell_type": "code",
   "execution_count": null,
   "metadata": {},
   "outputs": [],
   "source": [
    "# make allc folder and symlic from from_ecker_lab\n",
    "\n",
    "os.makedirs(os.path.join(path_dataset, 'allc'))"
   ]
  },
  {
   "cell_type": "markdown",
   "metadata": {},
   "source": [
    "## Case 1"
   ]
  },
  {
   "cell_type": "code",
   "execution_count": 5,
   "metadata": {},
   "outputs": [
    {
     "name": "stderr",
     "output_type": "stream",
     "text": [
      "03/18/2018 08:48:27 PM gzip to bgzip (1/1): allc_180118_CEMBA_mm_P56_P63_RS2_180117_P1_180117_P2_D9_AD010.tsv.gz\n"
     ]
    }
   ],
   "source": [
    "# allc_folders = glob.glob(os.path.join(path_dataset, 'from_ecker_lab', '*'))\n",
    "\n",
    "# should be parallelized in the future\n",
    "# for i, allc_folder in enumerate(allc_folders):\n",
    "data_folder = os.path.join(PATH_DATASETS, dataset, 'from_ecker_lab')\n",
    "with cd(data_folder):\n",
    "    allc_files = glob.glob('allc_*.tsv.gz')\n",
    "    allc_files = glob.glob('allc_180118_CEMBA_mm_P56_P63_RS2_180117_P1_180117_P2_D9_AD010.tsv.gz')\n",
    "    for i, allc_file in enumerate(allc_files):\n",
    "        # if src == 'allc_180118_CEMBA_mm_P56_P63_4B_CEMBA180104_4B_1_CEMBA180104_4B_2_H8_AD002_indexed.tsv.gz':\n",
    "        \n",
    "        src = allc_file\n",
    "        \n",
    "        dst = os.path.join(path_dataset, 'allc', src)\n",
    "        dst = (os.path.splitext(dst)[0] +'.bgz')\n",
    "\n",
    "        logging.info(\"gzip to bgzip ({}/{}): {}\".format(i+1, len(allc_files), src))\n",
    "        \n",
    "        # .tsv.gz to .tsv \n",
    "        cmd = 'gzip -cd {} > {}'.format(src, os.path.splitext(src)[0]) \n",
    "        os.system(cmd)\n",
    "\n",
    "        # bgzip\n",
    "        cmd = 'bgzip -c {} > {}'.format(os.path.splitext(src)[0], dst) \n",
    "        os.system(cmd)\n",
    "\n",
    "        # rm tmp files\n",
    "        os.remove(os.path.splitext(src)[0])"
   ]
  },
  {
   "cell_type": "markdown",
   "metadata": {},
   "source": [
    "## Case 2"
   ]
  },
  {
   "cell_type": "code",
   "execution_count": null,
   "metadata": {},
   "outputs": [],
   "source": [
    "allc_folders = glob.glob(os.path.join(path_dataset, 'from_ecker_lab', '*'))\n",
    "# should be parallelized in the future\n",
    "for i, allc_folder in enumerate(allc_folders):\n",
    "    with cd(allc_folder):\n",
    "        allc_files = glob.glob('allc_*.tsv.gz')\n",
    "        assert len(allc_files) == 1\n",
    "        src = allc_files[0]\n",
    "    \n",
    "        # if src == 'allc_180118_CEMBA_mm_P56_P63_4B_CEMBA180104_4B_1_CEMBA180104_4B_2_H8_AD002_indexed.tsv.gz':\n",
    "        dst = os.path.join(path_dataset, 'allc', src)\n",
    "        dst = (os.path.splitext(dst)[0] +'.bgz')\n",
    "\n",
    "        logging.info(\"gzip to bgzip ({}/{}): {}\".format(i+1, len(allc_folders), src))\n",
    "        # .tsv.gz to .tsv \n",
    "        cmd = 'gzip -cd {} > {}'.format(src, os.path.splitext(src)[0]) \n",
    "        os.system(cmd)\n",
    "\n",
    "        # bgzip\n",
    "        cmd = 'bgzip -c {} > {}'.format(os.path.splitext(src)[0], dst) \n",
    "        os.system(cmd)\n",
    "\n",
    "        # rm tmp files\n",
    "        os.remove(os.path.splitext(src)[0])\n"
   ]
  },
  {
   "cell_type": "markdown",
   "metadata": {},
   "source": [
    "# Tabix index"
   ]
  },
  {
   "cell_type": "code",
   "execution_count": 7,
   "metadata": {},
   "outputs": [
    {
     "name": "stderr",
     "output_type": "stream",
     "text": [
      "03/18/2018 08:49:32 PM Done tabix indexing (1/1): /cndd/Public_Datasets/CEMBA/snmCSeq/Datasets/CEMBA_RS2_17Q4/allc/allc_180118_CEMBA_mm_P56_P63_RS2_180117_P1_180117_P2_D9_AD010.tsv.bgz\n"
     ]
    }
   ],
   "source": [
    "# try tabix (could be parallelized)\n",
    "with cd(os.path.join(path_dataset, 'allc')):\n",
    "    allc_files = glob.glob(os.path.join(path_dataset, 'allc', '*'))\n",
    "    allc_files = glob.glob(os.path.join(path_dataset, 'allc', 'allc_180118_CEMBA_mm_P56_P63_RS2_180117_P1_180117_P2_D9_AD010.tsv.bgz'))\n",
    "    for i, allc_file in enumerate(allc_files):\n",
    "        os.system('tabix -f -s 1 -b 2 -e 2 -S 0 ' + allc_file) \n",
    "        logging.info(\"Done tabix indexing ({}/{}): {}\".format(i+1, len(allc_files), allc_file))"
   ]
  },
  {
   "cell_type": "markdown",
   "metadata": {},
   "source": [
    "# Mapping summary"
   ]
  },
  {
   "cell_type": "code",
   "execution_count": 6,
   "metadata": {},
   "outputs": [
    {
     "name": "stdout",
     "output_type": "stream",
     "text": [
      "(1059, 15)\n"
     ]
    },
    {
     "data": {
      "text/html": [
       "<div>\n",
       "<style>\n",
       "    .dataframe thead tr:only-child th {\n",
       "        text-align: right;\n",
       "    }\n",
       "\n",
       "    .dataframe thead th {\n",
       "        text-align: left;\n",
       "    }\n",
       "\n",
       "    .dataframe tbody tr th {\n",
       "        vertical-align: top;\n",
       "    }\n",
       "</style>\n",
       "<table border=\"1\" class=\"dataframe\">\n",
       "  <thead>\n",
       "    <tr style=\"text-align: right;\">\n",
       "      <th></th>\n",
       "      <th>Sample</th>\n",
       "      <th>Total reads</th>\n",
       "      <th>Mapped reads</th>\n",
       "      <th>Mapping rate</th>\n",
       "      <th>Nonclonal reads</th>\n",
       "      <th>% Nonclonal rate</th>\n",
       "      <th>Filtered reads</th>\n",
       "      <th>Filtered rate</th>\n",
       "      <th>Lambda mC/C</th>\n",
       "      <th>mCCC/CCC</th>\n",
       "      <th>mCG/CG</th>\n",
       "      <th>mCH/CH</th>\n",
       "      <th>Estimated mCG/CG</th>\n",
       "      <th>Estimated mCH/CH</th>\n",
       "      <th>% Genome covered</th>\n",
       "    </tr>\n",
       "  </thead>\n",
       "  <tbody>\n",
       "    <tr>\n",
       "      <th>0</th>\n",
       "      <td>180221_CEMBA_mm_P56_P63_3F_CEMBA180109_3F_5_CE...</td>\n",
       "      <td>5701272</td>\n",
       "      <td>3354313</td>\n",
       "      <td>0.588</td>\n",
       "      <td>2572042</td>\n",
       "      <td>0.767</td>\n",
       "      <td>2112242</td>\n",
       "      <td>0.821</td>\n",
       "      <td>NaN</td>\n",
       "      <td>0.00352</td>\n",
       "      <td>0.74345</td>\n",
       "      <td>0.00619</td>\n",
       "      <td>0.74254</td>\n",
       "      <td>0.00268</td>\n",
       "      <td>8.51</td>\n",
       "    </tr>\n",
       "    <tr>\n",
       "      <th>1</th>\n",
       "      <td>180221_CEMBA_mm_P56_P63_3F_CEMBA180109_3F_5_CE...</td>\n",
       "      <td>1614968</td>\n",
       "      <td>798002</td>\n",
       "      <td>0.494</td>\n",
       "      <td>670127</td>\n",
       "      <td>0.840</td>\n",
       "      <td>520836</td>\n",
       "      <td>0.777</td>\n",
       "      <td>NaN</td>\n",
       "      <td>0.00587</td>\n",
       "      <td>0.76102</td>\n",
       "      <td>0.02385</td>\n",
       "      <td>0.75961</td>\n",
       "      <td>0.01809</td>\n",
       "      <td>2.13</td>\n",
       "    </tr>\n",
       "    <tr>\n",
       "      <th>2</th>\n",
       "      <td>180221_CEMBA_mm_P56_P63_3F_CEMBA180109_3F_5_CE...</td>\n",
       "      <td>2662216</td>\n",
       "      <td>1388782</td>\n",
       "      <td>0.522</td>\n",
       "      <td>1072906</td>\n",
       "      <td>0.773</td>\n",
       "      <td>867718</td>\n",
       "      <td>0.809</td>\n",
       "      <td>NaN</td>\n",
       "      <td>0.00595</td>\n",
       "      <td>0.76269</td>\n",
       "      <td>0.02534</td>\n",
       "      <td>0.76127</td>\n",
       "      <td>0.01951</td>\n",
       "      <td>3.48</td>\n",
       "    </tr>\n",
       "    <tr>\n",
       "      <th>3</th>\n",
       "      <td>180221_CEMBA_mm_P56_P63_3F_CEMBA180109_3F_5_CE...</td>\n",
       "      <td>3194714</td>\n",
       "      <td>1702890</td>\n",
       "      <td>0.533</td>\n",
       "      <td>1329898</td>\n",
       "      <td>0.781</td>\n",
       "      <td>1075300</td>\n",
       "      <td>0.809</td>\n",
       "      <td>0.0</td>\n",
       "      <td>0.00557</td>\n",
       "      <td>0.78504</td>\n",
       "      <td>0.02158</td>\n",
       "      <td>0.78384</td>\n",
       "      <td>0.01610</td>\n",
       "      <td>4.32</td>\n",
       "    </tr>\n",
       "    <tr>\n",
       "      <th>4</th>\n",
       "      <td>180221_CEMBA_mm_P56_P63_3F_CEMBA180109_3F_5_CE...</td>\n",
       "      <td>3670262</td>\n",
       "      <td>2032817</td>\n",
       "      <td>0.554</td>\n",
       "      <td>1433126</td>\n",
       "      <td>0.705</td>\n",
       "      <td>1153386</td>\n",
       "      <td>0.805</td>\n",
       "      <td>0.0</td>\n",
       "      <td>0.00700</td>\n",
       "      <td>0.78334</td>\n",
       "      <td>0.03233</td>\n",
       "      <td>0.78181</td>\n",
       "      <td>0.02551</td>\n",
       "      <td>4.66</td>\n",
       "    </tr>\n",
       "  </tbody>\n",
       "</table>\n",
       "</div>"
      ],
      "text/plain": [
       "                                              Sample  Total reads  \\\n",
       "0  180221_CEMBA_mm_P56_P63_3F_CEMBA180109_3F_5_CE...      5701272   \n",
       "1  180221_CEMBA_mm_P56_P63_3F_CEMBA180109_3F_5_CE...      1614968   \n",
       "2  180221_CEMBA_mm_P56_P63_3F_CEMBA180109_3F_5_CE...      2662216   \n",
       "3  180221_CEMBA_mm_P56_P63_3F_CEMBA180109_3F_5_CE...      3194714   \n",
       "4  180221_CEMBA_mm_P56_P63_3F_CEMBA180109_3F_5_CE...      3670262   \n",
       "\n",
       "   Mapped reads  Mapping rate  Nonclonal reads  % Nonclonal rate  \\\n",
       "0       3354313         0.588          2572042             0.767   \n",
       "1        798002         0.494           670127             0.840   \n",
       "2       1388782         0.522          1072906             0.773   \n",
       "3       1702890         0.533          1329898             0.781   \n",
       "4       2032817         0.554          1433126             0.705   \n",
       "\n",
       "   Filtered reads  Filtered rate  Lambda mC/C  mCCC/CCC   mCG/CG   mCH/CH  \\\n",
       "0         2112242          0.821          NaN   0.00352  0.74345  0.00619   \n",
       "1          520836          0.777          NaN   0.00587  0.76102  0.02385   \n",
       "2          867718          0.809          NaN   0.00595  0.76269  0.02534   \n",
       "3         1075300          0.809          0.0   0.00557  0.78504  0.02158   \n",
       "4         1153386          0.805          0.0   0.00700  0.78334  0.03233   \n",
       "\n",
       "   Estimated mCG/CG  Estimated mCH/CH  % Genome covered  \n",
       "0           0.74254           0.00268              8.51  \n",
       "1           0.75961           0.01809              2.13  \n",
       "2           0.76127           0.01951              3.48  \n",
       "3           0.78384           0.01610              4.32  \n",
       "4           0.78181           0.02551              4.66  "
      ]
     },
     "execution_count": 6,
     "metadata": {},
     "output_type": "execute_result"
    }
   ],
   "source": [
    "# mapping summary\n",
    "f = os.path.join(PATH_REFERENCES, 'Mapping_summary', 'CEMBA_3F_180109_summary.txt')\n",
    "df = pd.read_table(f) \n",
    "# filter\n",
    "print(df.shape)\n",
    "df.head()\n"
   ]
  },
  {
   "cell_type": "code",
   "execution_count": 7,
   "metadata": {},
   "outputs": [
    {
     "data": {
      "image/png": "[encoded data removed]",
      "text/plain": [
       "<matplotlib.figure.Figure at 0x7fc3d859a320>"
      ]
     },
     "metadata": {},
     "output_type": "display_data"
    }
   ],
   "source": [
    "\n",
    "fig, ax = plt.subplots()\n",
    "ax.scatter(df['mCCC/CCC'].values, df['% Genome covered'].values)\n",
    "plt.show()\n"
   ]
  },
  {
   "cell_type": "code",
   "execution_count": 10,
   "metadata": {},
   "outputs": [],
   "source": [
    "# move allc to allc trash\n",
    "\n",
    "df.loc[df['mCCC/CCC'] > 0.02]\n",
    "\n",
    "df.set_index('Sample').to_csv(os.path.join(path_dataset, 'mapping_summary_{}.tsv'.format(dataset)), \n",
    "                      sep='\\t', na_rep='NA', header=True, index=True)\n",
    "\n",
    "# truncate mapping summary and copy that into right place"
   ]
  },
  {
   "cell_type": "code",
   "execution_count": 17,
   "metadata": {},
   "outputs": [],
   "source": [
    "with cd(path_dataset)\n",
    "    allc_files = sorted(glob.glob('./allc/allc_*.tsv.bgz'))\n",
    "    cells = [os.path.basename(allc_file)[len('allc_'): -len('.tsv.bgz')] for allc_file in allc_files]\n",
    "df_meta_dataset = df.set_index('Sample').loc[cells, :]"
   ]
  },
  {
   "cell_type": "code",
   "execution_count": 9,
   "metadata": {},
   "outputs": [
    {
     "ename": "NameError",
     "evalue": "name 'df_meta_dataset' is not defined",
     "output_type": "error",
     "traceback": [
      "\u001b[0;31m---------------------------------------------------------------------------\u001b[0m",
      "\u001b[0;31mNameError\u001b[0m                                 Traceback (most recent call last)",
      "\u001b[0;32m<ipython-input-9-dc5a7e714f8e>\u001b[0m in \u001b[0;36m<module>\u001b[0;34m()\u001b[0m\n\u001b[0;32m----> 1\u001b[0;31m \u001b[0mprint\u001b[0m\u001b[0;34m(\u001b[0m\u001b[0mdf_meta_dataset\u001b[0m\u001b[0;34m.\u001b[0m\u001b[0mshape\u001b[0m\u001b[0;34m)\u001b[0m\u001b[0;34m\u001b[0m\u001b[0m\n\u001b[0m\u001b[1;32m      2\u001b[0m \u001b[0;34m\u001b[0m\u001b[0m\n\u001b[1;32m      3\u001b[0m df_meta_dataset.to_csv(os.path.join(path_dataset, 'mapping_summary_{}.tsv'.format(dataset)), \n\u001b[1;32m      4\u001b[0m                       sep='\\t', na_rep='NA', header=True, index=True)\n\u001b[1;32m      5\u001b[0m \u001b[0mdf_meta_dataset\u001b[0m\u001b[0;34m.\u001b[0m\u001b[0mhead\u001b[0m\u001b[0;34m(\u001b[0m\u001b[0;34m)\u001b[0m\u001b[0;34m\u001b[0m\u001b[0m\n",
      "\u001b[0;31mNameError\u001b[0m: name 'df_meta_dataset' is not defined"
     ]
    }
   ],
   "source": [
    "print(df_meta_dataset.shape)\n",
    "\n",
    "df_meta_dataset.to_csv(os.path.join(path_dataset, 'mapping_summary_{}.tsv'.format(dataset)), \n",
    "                      sep='\\t', na_rep='NA', header=True, index=True)\n",
    "df_meta_dataset.head()"
   ]
  },
  {
   "cell_type": "code",
   "execution_count": null,
   "metadata": {},
   "outputs": [],
   "source": []
  }
 ],
 "metadata": {
  "kernelspec": {
   "display_name": "Python 3",
   "language": "python",
   "name": "python3"
  },
  "language_info": {
   "codemirror_mode": {
    "name": "ipython",
    "version": 3
   },
   "file_extension": ".py",
   "mimetype": "text/x-python",
   "name": "python",
   "nbconvert_exporter": "python",
   "pygments_lexer": "ipython3",
   "version": "3.4.3"
  }
 },
 "nbformat": 4,
 "nbformat_minor": 2
}
