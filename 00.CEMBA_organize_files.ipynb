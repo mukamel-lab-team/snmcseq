{
 "cells": [
  {
   "cell_type": "code",
   "execution_count": 92,
   "metadata": {},
   "outputs": [],
   "source": [
    "import subprocess as sp\n",
    "import matplotlib.pyplot as plt\n",
    "\n",
    "from __init__ import *\n",
    "from snmcseq_utils import create_logger\n",
    "from snmcseq_utils import cd"
   ]
  },
  {
   "cell_type": "code",
   "execution_count": 93,
   "metadata": {},
   "outputs": [
    {
     "name": "stderr",
     "output_type": "stream",
     "text": [
      "01/06/2019 11:20:37 PM .\n"
     ]
    }
   ],
   "source": [
    "log = create_logger()\n",
    "log.info('.')"
   ]
  },
  {
   "cell_type": "code",
   "execution_count": 94,
   "metadata": {},
   "outputs": [],
   "source": [
    "dataset = 'CEMBA_2A_180122'\n",
    "dataset = 'CEMBA_2A_180123'\n",
    "dataset = 'CEMBA_2C_180409'\n",
    "dataset = 'CEMBA_2C_180410'\n",
    "dataset = 'CEMBA_3B_180312'\n",
    "dataset = 'CEMBA_3B_180501'\n",
    "dataset = 'CEMBA_3D_180412'\n",
    "dataset = 'CEMBA_3D_180416'\n",
    "dataset = 'CEMBA_5B_180514'\n",
    "dataset = 'CEMBA_5B_180529'\n",
    "dataset = 'CEMBA_5D_180605'\n",
    "dataset = 'CEMBA_5D_180612'\n",
    "dataset = 'CEMBA_7B_180423'\n",
    "dataset = 'CEMBA_7B_180424'\n",
    "\n",
    "\n",
    "region = dataset.split('_')[1]\n",
    "path_dataset = os.path.join(PATH_DATASETS, dataset)"
   ]
  },
  {
   "cell_type": "markdown",
   "metadata": {
    "heading_collapsed": true
   },
   "source": [
    "# Gzip to bgzip"
   ]
  },
  {
   "cell_type": "code",
   "execution_count": null,
   "metadata": {
    "hidden": true
   },
   "outputs": [],
   "source": [
    "# make allc folder and symlic from from_ecker_lab\n",
    "\n",
    "os.makedirs(os.path.join(path_dataset, 'allc'))"
   ]
  },
  {
   "cell_type": "markdown",
   "metadata": {
    "hidden": true
   },
   "source": [
    "## Case 1"
   ]
  },
  {
   "cell_type": "code",
   "execution_count": 5,
   "metadata": {
    "hidden": true
   },
   "outputs": [
    {
     "name": "stderr",
     "output_type": "stream",
     "text": [
      "03/18/2018 08:48:27 PM gzip to bgzip (1/1): allc_180118_CEMBA_mm_P56_P63_RS2_180117_P1_180117_P2_D9_AD010.tsv.gz\n"
     ]
    }
   ],
   "source": [
    "# allc_folders = glob.glob(os.path.join(path_dataset, 'from_ecker_lab', '*'))\n",
    "\n",
    "# should be parallelized in the future\n",
    "# for i, allc_folder in enumerate(allc_folders):\n",
    "data_folder = os.path.join(PATH_DATASETS, dataset, 'from_ecker_lab')\n",
    "with cd(data_folder):\n",
    "    allc_files = glob.glob('allc_*.tsv.gz')\n",
    "    allc_files = glob.glob('allc_180118_CEMBA_mm_P56_P63_RS2_180117_P1_180117_P2_D9_AD010.tsv.gz')\n",
    "    for i, allc_file in enumerate(allc_files):\n",
    "        # if src == 'allc_180118_CEMBA_mm_P56_P63_4B_CEMBA180104_4B_1_CEMBA180104_4B_2_H8_AD002_indexed.tsv.gz':\n",
    "        \n",
    "        src = allc_file\n",
    "        \n",
    "        dst = os.path.join(path_dataset, 'allc', src)\n",
    "        dst = (os.path.splitext(dst)[0] +'.bgz')\n",
    "\n",
    "        logging.info(\"gzip to bgzip ({}/{}): {}\".format(i+1, len(allc_files), src))\n",
    "        \n",
    "        # .tsv.gz to .tsv \n",
    "        cmd = 'gzip -cd {} > {}'.format(src, os.path.splitext(src)[0]) \n",
    "        os.system(cmd)\n",
    "\n",
    "        # bgzip\n",
    "        cmd = 'bgzip -c {} > {}'.format(os.path.splitext(src)[0], dst) \n",
    "        os.system(cmd)\n",
    "\n",
    "        # rm tmp files\n",
    "        os.remove(os.path.splitext(src)[0])"
   ]
  },
  {
   "cell_type": "markdown",
   "metadata": {
    "hidden": true
   },
   "source": [
    "## Case 2"
   ]
  },
  {
   "cell_type": "code",
   "execution_count": null,
   "metadata": {
    "hidden": true
   },
   "outputs": [],
   "source": [
    "allc_folders = glob.glob(os.path.join(path_dataset, 'from_ecker_lab', '*'))\n",
    "# should be parallelized in the future\n",
    "for i, allc_folder in enumerate(allc_folders):\n",
    "    with cd(allc_folder):\n",
    "        allc_files = glob.glob('allc_*.tsv.gz')\n",
    "        assert len(allc_files) == 1\n",
    "        src = allc_files[0]\n",
    "    \n",
    "        # if src == 'allc_180118_CEMBA_mm_P56_P63_4B_CEMBA180104_4B_1_CEMBA180104_4B_2_H8_AD002_indexed.tsv.gz':\n",
    "        dst = os.path.join(path_dataset, 'allc', src)\n",
    "        dst = (os.path.splitext(dst)[0] +'.bgz')\n",
    "\n",
    "        logging.info(\"gzip to bgzip ({}/{}): {}\".format(i+1, len(allc_folders), src))\n",
    "        # .tsv.gz to .tsv \n",
    "        cmd = 'gzip -cd {} > {}'.format(src, os.path.splitext(src)[0]) \n",
    "        os.system(cmd)\n",
    "\n",
    "        # bgzip\n",
    "        cmd = 'bgzip -c {} > {}'.format(os.path.splitext(src)[0], dst) \n",
    "        os.system(cmd)\n",
    "\n",
    "        # rm tmp files\n",
    "        os.remove(os.path.splitext(src)[0])\n"
   ]
  },
  {
   "cell_type": "markdown",
   "metadata": {
    "heading_collapsed": true
   },
   "source": [
    "# Tabix index"
   ]
  },
  {
   "cell_type": "code",
   "execution_count": 11,
   "metadata": {
    "hidden": true,
    "scrolled": true
   },
   "outputs": [
    {
     "ename": "FileNotFoundError",
     "evalue": "[Errno 2] No such file or directory: '/cndd/Public_Datasets/CEMBA/snmCSeq/Datasets/CEMBA_3A_180129/allc'",
     "output_type": "error",
     "traceback": [
      "\u001b[0;31m---------------------------------------------------------------------------\u001b[0m",
      "\u001b[0;31mFileNotFoundError\u001b[0m                         Traceback (most recent call last)",
      "\u001b[0;32m<ipython-input-11-46382f9150e3>\u001b[0m in \u001b[0;36m<module>\u001b[0;34m()\u001b[0m\n\u001b[1;32m      1\u001b[0m \u001b[0;31m# try tabix (could be parallelized)\u001b[0m\u001b[0;34m\u001b[0m\u001b[0;34m\u001b[0m\u001b[0m\n\u001b[0;32m----> 2\u001b[0;31m \u001b[0;32mwith\u001b[0m \u001b[0mcd\u001b[0m\u001b[0;34m(\u001b[0m\u001b[0mos\u001b[0m\u001b[0;34m.\u001b[0m\u001b[0mpath\u001b[0m\u001b[0;34m.\u001b[0m\u001b[0mjoin\u001b[0m\u001b[0;34m(\u001b[0m\u001b[0mpath_dataset\u001b[0m\u001b[0;34m,\u001b[0m \u001b[0;34m'allc'\u001b[0m\u001b[0;34m)\u001b[0m\u001b[0;34m)\u001b[0m\u001b[0;34m:\u001b[0m\u001b[0;34m\u001b[0m\u001b[0m\n\u001b[0m\u001b[1;32m      3\u001b[0m     \u001b[0mallc_files\u001b[0m \u001b[0;34m=\u001b[0m \u001b[0mglob\u001b[0m\u001b[0;34m.\u001b[0m\u001b[0mglob\u001b[0m\u001b[0;34m(\u001b[0m\u001b[0mos\u001b[0m\u001b[0;34m.\u001b[0m\u001b[0mpath\u001b[0m\u001b[0;34m.\u001b[0m\u001b[0mjoin\u001b[0m\u001b[0;34m(\u001b[0m\u001b[0mpath_dataset\u001b[0m\u001b[0;34m,\u001b[0m \u001b[0;34m'allc'\u001b[0m\u001b[0;34m,\u001b[0m \u001b[0;34m'*'\u001b[0m\u001b[0;34m)\u001b[0m\u001b[0;34m)\u001b[0m\u001b[0;34m\u001b[0m\u001b[0m\n\u001b[1;32m      4\u001b[0m     \u001b[0mallc_files\u001b[0m \u001b[0;34m=\u001b[0m \u001b[0mglob\u001b[0m\u001b[0;34m.\u001b[0m\u001b[0mglob\u001b[0m\u001b[0;34m(\u001b[0m\u001b[0mos\u001b[0m\u001b[0;34m.\u001b[0m\u001b[0mpath\u001b[0m\u001b[0;34m.\u001b[0m\u001b[0mjoin\u001b[0m\u001b[0;34m(\u001b[0m\u001b[0mpath_dataset\u001b[0m\u001b[0;34m,\u001b[0m \u001b[0;34m'allc'\u001b[0m\u001b[0;34m,\u001b[0m \u001b[0;34m'allc_180118_CEMBA_mm_P56_P63_RS2_180117_P1_180117_P2_D9_AD010.tsv.bgz'\u001b[0m\u001b[0;34m)\u001b[0m\u001b[0;34m)\u001b[0m\u001b[0;34m\u001b[0m\u001b[0m\n\u001b[1;32m      5\u001b[0m     \u001b[0;32mfor\u001b[0m \u001b[0mi\u001b[0m\u001b[0;34m,\u001b[0m \u001b[0mallc_file\u001b[0m \u001b[0;32min\u001b[0m \u001b[0menumerate\u001b[0m\u001b[0;34m(\u001b[0m\u001b[0mallc_files\u001b[0m\u001b[0;34m)\u001b[0m\u001b[0;34m:\u001b[0m\u001b[0;34m\u001b[0m\u001b[0m\n",
      "\u001b[0;32m/cndd/fangming/CEMBA/snmcseq_dev/snmcseq_utils.py\u001b[0m in \u001b[0;36m__enter__\u001b[0;34m(self)\u001b[0m\n\u001b[1;32m     29\u001b[0m     \u001b[0;32mdef\u001b[0m \u001b[0m__enter__\u001b[0m\u001b[0;34m(\u001b[0m\u001b[0mself\u001b[0m\u001b[0;34m)\u001b[0m\u001b[0;34m:\u001b[0m\u001b[0;34m\u001b[0m\u001b[0m\n\u001b[1;32m     30\u001b[0m         \u001b[0mself\u001b[0m\u001b[0;34m.\u001b[0m\u001b[0msavedPath\u001b[0m \u001b[0;34m=\u001b[0m \u001b[0mos\u001b[0m\u001b[0;34m.\u001b[0m\u001b[0mgetcwd\u001b[0m\u001b[0;34m(\u001b[0m\u001b[0;34m)\u001b[0m\u001b[0;34m\u001b[0m\u001b[0m\n\u001b[0;32m---> 31\u001b[0;31m         \u001b[0mos\u001b[0m\u001b[0;34m.\u001b[0m\u001b[0mchdir\u001b[0m\u001b[0;34m(\u001b[0m\u001b[0mself\u001b[0m\u001b[0;34m.\u001b[0m\u001b[0mnewPath\u001b[0m\u001b[0;34m)\u001b[0m\u001b[0;34m\u001b[0m\u001b[0m\n\u001b[0m\u001b[1;32m     32\u001b[0m \u001b[0;34m\u001b[0m\u001b[0m\n\u001b[1;32m     33\u001b[0m     \u001b[0;32mdef\u001b[0m \u001b[0m__exit__\u001b[0m\u001b[0;34m(\u001b[0m\u001b[0mself\u001b[0m\u001b[0;34m,\u001b[0m \u001b[0metype\u001b[0m\u001b[0;34m,\u001b[0m \u001b[0mvalue\u001b[0m\u001b[0;34m,\u001b[0m \u001b[0mtraceback\u001b[0m\u001b[0;34m)\u001b[0m\u001b[0;34m:\u001b[0m\u001b[0;34m\u001b[0m\u001b[0m\n",
      "\u001b[0;31mFileNotFoundError\u001b[0m: [Errno 2] No such file or directory: '/cndd/Public_Datasets/CEMBA/snmCSeq/Datasets/CEMBA_3A_180129/allc'"
     ]
    }
   ],
   "source": [
    "# try tabix (could be parallelized)\n",
    "with cd(os.path.join(path_dataset, 'allc')):\n",
    "    allc_files = glob.glob(os.path.join(path_dataset, 'allc', '*'))\n",
    "    allc_files = glob.glob(os.path.join(path_dataset, 'allc', 'allc_180118_CEMBA_mm_P56_P63_RS2_180117_P1_180117_P2_D9_AD010.tsv.bgz'))\n",
    "    for i, allc_file in enumerate(allc_files):\n",
    "        os.system('tabix -f -s 1 -b 2 -e 2 -S 0 ' + allc_file) \n",
    "        logging.info(\"Done tabix indexing ({}/{}): {}\".format(i+1, len(allc_files), allc_file))"
   ]
  },
  {
   "cell_type": "markdown",
   "metadata": {},
   "source": [
    "# Mapping summary"
   ]
  },
  {
   "cell_type": "code",
   "execution_count": 95,
   "metadata": {},
   "outputs": [
    {
     "name": "stdout",
     "output_type": "stream",
     "text": [
      "(920, 15)\n"
     ]
    },
    {
     "data": {
      "text/html": [
       "<div>\n",
       "<style>\n",
       "    .dataframe thead tr:only-child th {\n",
       "        text-align: right;\n",
       "    }\n",
       "\n",
       "    .dataframe thead th {\n",
       "        text-align: left;\n",
       "    }\n",
       "\n",
       "    .dataframe tbody tr th {\n",
       "        vertical-align: top;\n",
       "    }\n",
       "</style>\n",
       "<table border=\"1\" class=\"dataframe\">\n",
       "  <thead>\n",
       "    <tr style=\"text-align: right;\">\n",
       "      <th></th>\n",
       "      <th>Sample</th>\n",
       "      <th>Total reads</th>\n",
       "      <th>Mapped reads</th>\n",
       "      <th>Mapping rate</th>\n",
       "      <th>Nonclonal reads</th>\n",
       "      <th>% Nonclonal rate</th>\n",
       "      <th>Filtered reads</th>\n",
       "      <th>Filtered rate</th>\n",
       "      <th>Lambda mC/C</th>\n",
       "      <th>mCCC/CCC</th>\n",
       "      <th>mCG/CG</th>\n",
       "      <th>mCH/CH</th>\n",
       "      <th>Estimated mCG/CG</th>\n",
       "      <th>Estimated mCH/CH</th>\n",
       "      <th>% Genome covered</th>\n",
       "    </tr>\n",
       "  </thead>\n",
       "  <tbody>\n",
       "    <tr>\n",
       "      <th>1247</th>\n",
       "      <td>180607_CEMBA_mm_P56_P63_7B_CEMBA180424_7B_1_CE...</td>\n",
       "      <td>1192880</td>\n",
       "      <td>802750</td>\n",
       "      <td>0.673</td>\n",
       "      <td>651425</td>\n",
       "      <td>0.811</td>\n",
       "      <td>577271</td>\n",
       "      <td>0.886</td>\n",
       "      <td>NaN</td>\n",
       "      <td>0.00469</td>\n",
       "      <td>0.79586</td>\n",
       "      <td>0.01841</td>\n",
       "      <td>0.79490</td>\n",
       "      <td>0.01378</td>\n",
       "      <td>2.47</td>\n",
       "    </tr>\n",
       "    <tr>\n",
       "      <th>1248</th>\n",
       "      <td>180607_CEMBA_mm_P56_P63_7B_CEMBA180424_7B_1_CE...</td>\n",
       "      <td>4785250</td>\n",
       "      <td>3323409</td>\n",
       "      <td>0.695</td>\n",
       "      <td>2176845</td>\n",
       "      <td>0.655</td>\n",
       "      <td>1951142</td>\n",
       "      <td>0.896</td>\n",
       "      <td>NaN</td>\n",
       "      <td>0.00773</td>\n",
       "      <td>0.84280</td>\n",
       "      <td>0.04162</td>\n",
       "      <td>0.84158</td>\n",
       "      <td>0.03415</td>\n",
       "      <td>7.99</td>\n",
       "    </tr>\n",
       "    <tr>\n",
       "      <th>1249</th>\n",
       "      <td>180607_CEMBA_mm_P56_P63_7B_CEMBA180424_7B_1_CE...</td>\n",
       "      <td>5590180</td>\n",
       "      <td>3787827</td>\n",
       "      <td>0.678</td>\n",
       "      <td>2478703</td>\n",
       "      <td>0.654</td>\n",
       "      <td>2212778</td>\n",
       "      <td>0.893</td>\n",
       "      <td>NaN</td>\n",
       "      <td>0.00646</td>\n",
       "      <td>0.82790</td>\n",
       "      <td>0.02901</td>\n",
       "      <td>0.82678</td>\n",
       "      <td>0.02270</td>\n",
       "      <td>9.00</td>\n",
       "    </tr>\n",
       "    <tr>\n",
       "      <th>1250</th>\n",
       "      <td>180607_CEMBA_mm_P56_P63_7B_CEMBA180424_7B_1_CE...</td>\n",
       "      <td>4067770</td>\n",
       "      <td>2743943</td>\n",
       "      <td>0.675</td>\n",
       "      <td>1856982</td>\n",
       "      <td>0.677</td>\n",
       "      <td>1630902</td>\n",
       "      <td>0.878</td>\n",
       "      <td>NaN</td>\n",
       "      <td>0.00426</td>\n",
       "      <td>0.77292</td>\n",
       "      <td>0.01576</td>\n",
       "      <td>0.77195</td>\n",
       "      <td>0.01155</td>\n",
       "      <td>6.71</td>\n",
       "    </tr>\n",
       "    <tr>\n",
       "      <th>1251</th>\n",
       "      <td>180607_CEMBA_mm_P56_P63_7B_CEMBA180424_7B_1_CE...</td>\n",
       "      <td>4743270</td>\n",
       "      <td>3261901</td>\n",
       "      <td>0.688</td>\n",
       "      <td>2163789</td>\n",
       "      <td>0.663</td>\n",
       "      <td>1898355</td>\n",
       "      <td>0.877</td>\n",
       "      <td>NaN</td>\n",
       "      <td>0.00564</td>\n",
       "      <td>0.79119</td>\n",
       "      <td>0.02562</td>\n",
       "      <td>0.79001</td>\n",
       "      <td>0.02009</td>\n",
       "      <td>7.78</td>\n",
       "    </tr>\n",
       "  </tbody>\n",
       "</table>\n",
       "</div>"
      ],
      "text/plain": [
       "                                                 Sample  Total reads  \\\n",
       "1247  180607_CEMBA_mm_P56_P63_7B_CEMBA180424_7B_1_CE...      1192880   \n",
       "1248  180607_CEMBA_mm_P56_P63_7B_CEMBA180424_7B_1_CE...      4785250   \n",
       "1249  180607_CEMBA_mm_P56_P63_7B_CEMBA180424_7B_1_CE...      5590180   \n",
       "1250  180607_CEMBA_mm_P56_P63_7B_CEMBA180424_7B_1_CE...      4067770   \n",
       "1251  180607_CEMBA_mm_P56_P63_7B_CEMBA180424_7B_1_CE...      4743270   \n",
       "\n",
       "      Mapped reads  Mapping rate  Nonclonal reads  % Nonclonal rate  \\\n",
       "1247        802750         0.673           651425             0.811   \n",
       "1248       3323409         0.695          2176845             0.655   \n",
       "1249       3787827         0.678          2478703             0.654   \n",
       "1250       2743943         0.675          1856982             0.677   \n",
       "1251       3261901         0.688          2163789             0.663   \n",
       "\n",
       "      Filtered reads  Filtered rate  Lambda mC/C  mCCC/CCC   mCG/CG   mCH/CH  \\\n",
       "1247          577271          0.886          NaN   0.00469  0.79586  0.01841   \n",
       "1248         1951142          0.896          NaN   0.00773  0.84280  0.04162   \n",
       "1249         2212778          0.893          NaN   0.00646  0.82790  0.02901   \n",
       "1250         1630902          0.878          NaN   0.00426  0.77292  0.01576   \n",
       "1251         1898355          0.877          NaN   0.00564  0.79119  0.02562   \n",
       "\n",
       "      Estimated mCG/CG  Estimated mCH/CH  % Genome covered  \n",
       "1247           0.79490           0.01378              2.47  \n",
       "1248           0.84158           0.03415              7.99  \n",
       "1249           0.82678           0.02270              9.00  \n",
       "1250           0.77195           0.01155              6.71  \n",
       "1251           0.79001           0.02009              7.78  "
      ]
     },
     "execution_count": 95,
     "metadata": {},
     "output_type": "execute_result"
    }
   ],
   "source": [
    "# mapping summary\n",
    "f = os.path.join(PATH_REFERENCES, 'Mapping_summary', 'CEMBA_{}_summary.txt'.format(region))\n",
    "df = pd.read_table(f) \n",
    "# filter\n",
    "\n",
    "# df['dataset'] = df['Sample'].apply(lambda x: '_'.join(['CEMBA', \n",
    "#                                        x.split('_')[7],\n",
    "#                                        x.split('_')[6][len('CEMBA'):]]\n",
    "#                                                      ))\n",
    "# dataset_rep = '_'.join(dataset.split('_')[:3])\n",
    "# df = df[df['dataset']==dataset_rep].drop('dataset', axis=1)\n",
    "\n",
    "# filter\n",
    "f = '/cndd/Public_Datasets/CEMBA/snmCSeq/Datasets/{}/allc/*.tsv.bgz'.format(dataset)\n",
    "cells = [os.path.basename(allc)[5:-8] for allc in glob.glob(f)]\n",
    "df = df[df['Sample'].isin(cells)]\n",
    "\n",
    "print(df.shape)\n",
    "df.head()"
   ]
  },
  {
   "cell_type": "code",
   "execution_count": 96,
   "metadata": {},
   "outputs": [],
   "source": [
    "# move allc inplace\n",
    "\n",
    "# dst = '/cndd/Public_Datasets/CEMBA/snmCSeq/Datasets/{}/from_ecker_lab'.format(dataset)\n",
    "# if not os.path.isdir(dst):\n",
    "#     os.makedirs(dst)\n",
    "    \n",
    "# with cd('/cndd/Public_Datasets/CEMBA/snmCSeq/Datasets/3F/from_ecker_lab'):\n",
    "#     dirs = [dirc for dirc in sorted(glob.glob('*')) if os.path.isdir(dirc)]\n",
    "#     for dirc in dirs:\n",
    "#         if dirc[:-len('_bismark')] in df['Sample'].tolist():\n",
    "#             print(dirc)\n",
    "#             cmd = 'mv {} {}'.format(dirc, dst)\n",
    "#             os.system(cmd)\n",
    "            \n",
    "            \n"
   ]
  },
  {
   "cell_type": "code",
   "execution_count": 97,
   "metadata": {},
   "outputs": [
    {
     "data": {
      "image/png": "[encoded data removed]",
      "text/plain": [
       "<Figure size 864x432 with 2 Axes>"
      ]
     },
     "metadata": {
      "needs_background": "light"
     },
     "output_type": "display_data"
    }
   ],
   "source": [
    "\n",
    "fig, axs = plt.subplots(1, 2, figsize=(12, 6))\n",
    "ax = axs[0]\n",
    "ax.scatter(df['mCCC/CCC'].values, df['% Genome covered'].values)\n",
    "ax = axs[1]\n",
    "ax.scatter(df['mCCC/CCC'].values, df['Nonclonal reads'].values)\n",
    "plt.show()\n"
   ]
  },
  {
   "cell_type": "code",
   "execution_count": 98,
   "metadata": {},
   "outputs": [
    {
     "name": "stdout",
     "output_type": "stream",
     "text": [
      "['180607_CEMBA_mm_P56_P63_7B_CEMBA180424_7B_3_CEMBA180424_7B_4_B12_AD004_indexed', '180607_CEMBA_mm_P56_P63_7B_CEMBA180424_7B_3_CEMBA180424_7B_4_B2_AD004_indexed', '180607_CEMBA_mm_P56_P63_7B_CEMBA180424_7B_3_CEMBA180424_7B_4_E2_AD004_indexed']\n",
      "mv *180607_CEMBA_mm_P56_P63_7B_CEMBA180424_7B_3_CEMBA180424_7B_4_B12_AD004_indexed* ../allc_trash\n",
      "mv *180607_CEMBA_mm_P56_P63_7B_CEMBA180424_7B_3_CEMBA180424_7B_4_B2_AD004_indexed* ../allc_trash\n",
      "mv *180607_CEMBA_mm_P56_P63_7B_CEMBA180424_7B_3_CEMBA180424_7B_4_E2_AD004_indexed* ../allc_trash\n",
      "(917, 14)\n"
     ]
    }
   ],
   "source": [
    "# move allc to allc trash\n",
    "\n",
    "trash_cells = df.loc[df['mCCC/CCC'] > 0.02, 'Sample'].tolist()\n",
    "trash_dir = os.path.join(PATH_DATASETS, dataset, 'allc_trash')\n",
    "print(trash_cells)\n",
    "if not os.path.isdir(trash_dir):\n",
    "    os.makedirs(trash_dir)\n",
    "    \n",
    "for cell in trash_cells:\n",
    "    with cd(os.path.join(PATH_DATASETS, dataset, 'allc')): \n",
    "        cmd = 'mv *{}* ../allc_trash'.format(cell)\n",
    "        print(cmd)\n",
    "        sp.run(cmd, shell=True)\n",
    "\n",
    "\n",
    "print(df[df['mCCC/CCC']<0.02].set_index('Sample').shape)\n",
    "\n",
    "df[df['mCCC/CCC']<0.02].set_index('Sample').to_csv(\n",
    "    os.path.join(PATH_DATASETS, dataset, 'mapping_summary_{}.tsv'.format(dataset)), \n",
    "    sep='\\t', na_rep='NA', header=True, index=True)\n",
    "\n",
    "\n",
    "# truncate mapping summary and copy that into right place"
   ]
  },
  {
   "cell_type": "code",
   "execution_count": 99,
   "metadata": {},
   "outputs": [],
   "source": [
    "f = '/cndd/Public_Datasets/CEMBA/snmCSeq/Datasets/{0}/mapping_summary_{0}.tsv'.format(dataset)\n",
    "df_meta = pd.read_table(f)\n",
    "\n",
    "df_meta.head()\n",
    "cells_meta = df_meta['Sample'].values\n",
    "\n",
    "cells_allc = [os.path.basename(allc_f)[5:-8]\n",
    "    for allc_f in glob.glob('/cndd/Public_Datasets/CEMBA/snmCSeq/Datasets/{}/allc/*.tsv.bgz'.format(dataset))]\n",
    "\n",
    "for cell in cells_allc:\n",
    "    if cell not in cells_meta:\n",
    "        print(cell)\n",
    "        with cd(os.path.join(PATH_DATASETS, dataset, 'allc')): \n",
    "            cmd = 'mv *{}* ../allc_trash'.format(cell)\n",
    "            print(cmd)\n",
    "            sp.run(cmd, shell=True)"
   ]
  },
  {
   "cell_type": "code",
   "execution_count": 9,
   "metadata": {},
   "outputs": [],
   "source": [
    "# df.to_csv(os.path.join(path_dataset, 'mapping_summary_{}.tsv'.format(dataset)), \n",
    "#                       sep='\\t', na_rep='NA', header=True, index=False)"
   ]
  },
  {
   "cell_type": "code",
   "execution_count": 17,
   "metadata": {},
   "outputs": [],
   "source": [
    "# with cd(path_dataset)\n",
    "#     allc_files = sorted(glob.glob('./allc/allc_*.tsv.bgz'))\n",
    "#     cells = [os.path.basename(allc_file)[len('allc_'): -len('.tsv.bgz')] for allc_file in allc_files]\n",
    "# df_meta_dataset = df.set_index('Sample').loc[cells, :]"
   ]
  },
  {
   "cell_type": "code",
   "execution_count": 10,
   "metadata": {},
   "outputs": [],
   "source": [
    "# print(df_meta_dataset.shape)\n",
    "\n",
    "# df_meta_dataset.to_csv(os.path.join(path_dataset, 'mapping_summary_{}.tsv'.format(dataset)), \n",
    "#                       sep='\\t', na_rep='NA', header=True, index=True)\n",
    "# df_meta_dataset.head()"
   ]
  },
  {
   "cell_type": "markdown",
   "metadata": {},
   "source": [
    "# debug"
   ]
  },
  {
   "cell_type": "code",
   "execution_count": 100,
   "metadata": {},
   "outputs": [],
   "source": [
    "import argparse\n",
    "import os\n",
    "import glob\n",
    "import multiprocessing as mp\n",
    "\n",
    "from __init__ import *\n",
    "from CEMBA_mc_gene_level import mc_gene_level \n",
    "from snmcseq_utils import create_logger\n"
   ]
  },
  {
   "cell_type": "code",
   "execution_count": 101,
   "metadata": {},
   "outputs": [
    {
     "name": "stderr",
     "output_type": "stream",
     "text": [
      "01/06/2019 11:53:37 PM hello\n"
     ]
    }
   ],
   "source": [
    "log = create_logger()\n",
    "logging.info('hello')"
   ]
  },
  {
   "cell_type": "code",
   "execution_count": 104,
   "metadata": {},
   "outputs": [
    {
     "name": "stderr",
     "output_type": "stream",
     "text": [
      "01/06/2019 11:56:32 PM File exists /cndd/Public_Datasets/CEMBA/snmCSeq/Datasets/CEMBA_2A_180122/gene_level/genebody_180705_CEMBA_mm_P56_P63_2A_CEMBA180122_2A_3_CEMBA180122_2A_4_H9_AD010_indexed.tsv, skipping...\n"
     ]
    },
    {
     "data": {
      "text/plain": [
       "0"
      ]
     },
     "execution_count": 104,
     "metadata": {},
     "output_type": "execute_result"
    }
   ],
   "source": [
    "overwrite = False\n",
    "genebody = GENEBODY\n",
    "convention = CONVENTION\n",
    "contexts = CONTEXTS\n",
    "allc_file = '/cndd/Public_Datasets/CEMBA/snmCSeq/Datasets/CEMBA_2A_180122/allc/allc_180705_CEMBA_mm_P56_P63_2A_CEMBA180122_2A_3_CEMBA180122_2A_4_H9_AD010_indexed.tsv.bgz' \n",
    "mc_gene_level(allc_file, contexts=contexts, genebody=genebody, overwrite=overwrite)"
   ]
  },
  {
   "cell_type": "code",
   "execution_count": null,
   "metadata": {},
   "outputs": [],
   "source": []
  }
 ],
 "metadata": {
  "kernelspec": {
   "display_name": "Python 3",
   "language": "python",
   "name": "python3"
  },
  "language_info": {
   "codemirror_mode": {
    "name": "ipython",
    "version": 3
   },
   "file_extension": ".py",
   "mimetype": "text/x-python",
   "name": "python",
   "nbconvert_exporter": "python",
   "pygments_lexer": "ipython3",
   "version": "3.6.4"
  }
 },
 "nbformat": 4,
 "nbformat_minor": 2
}
