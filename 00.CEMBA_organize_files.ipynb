{
 "cells": [
  {
   "cell_type": "code",
   "execution_count": 1,
   "metadata": {},
   "outputs": [],
   "source": [
    "import subprocess as sp\n",
    "import matplotlib.pyplot as plt\n",
    "\n",
    "from __init__ import *\n",
    "from snmcseq_utils import create_logger\n",
    "from snmcseq_utils import cd"
   ]
  },
  {
   "cell_type": "code",
   "execution_count": 2,
   "metadata": {},
   "outputs": [
    {
     "name": "stderr",
     "output_type": "stream",
     "text": [
      "08/10/2018 11:10:22 AM .\n"
     ]
    }
   ],
   "source": [
    "log = create_logger()\n",
    "log.info('.')"
   ]
  },
  {
   "cell_type": "code",
   "execution_count": 67,
   "metadata": {},
   "outputs": [],
   "source": [
    "# dataset = 'CEMBA_4C_180417'\n",
    "dataset = 'CEMBA_4C_180419'\n",
    "path_dataset = os.path.join(PATH_DATASETS, dataset)"
   ]
  },
  {
   "cell_type": "markdown",
   "metadata": {},
   "source": [
    "# Gzip to bgzip"
   ]
  },
  {
   "cell_type": "code",
   "execution_count": null,
   "metadata": {},
   "outputs": [],
   "source": [
    "# make allc folder and symlic from from_ecker_lab\n",
    "\n",
    "os.makedirs(os.path.join(path_dataset, 'allc'))"
   ]
  },
  {
   "cell_type": "markdown",
   "metadata": {},
   "source": [
    "## Case 1"
   ]
  },
  {
   "cell_type": "code",
   "execution_count": 5,
   "metadata": {},
   "outputs": [
    {
     "name": "stderr",
     "output_type": "stream",
     "text": [
      "03/18/2018 08:48:27 PM gzip to bgzip (1/1): allc_180118_CEMBA_mm_P56_P63_RS2_180117_P1_180117_P2_D9_AD010.tsv.gz\n"
     ]
    }
   ],
   "source": [
    "# allc_folders = glob.glob(os.path.join(path_dataset, 'from_ecker_lab', '*'))\n",
    "\n",
    "# should be parallelized in the future\n",
    "# for i, allc_folder in enumerate(allc_folders):\n",
    "data_folder = os.path.join(PATH_DATASETS, dataset, 'from_ecker_lab')\n",
    "with cd(data_folder):\n",
    "    allc_files = glob.glob('allc_*.tsv.gz')\n",
    "    allc_files = glob.glob('allc_180118_CEMBA_mm_P56_P63_RS2_180117_P1_180117_P2_D9_AD010.tsv.gz')\n",
    "    for i, allc_file in enumerate(allc_files):\n",
    "        # if src == 'allc_180118_CEMBA_mm_P56_P63_4B_CEMBA180104_4B_1_CEMBA180104_4B_2_H8_AD002_indexed.tsv.gz':\n",
    "        \n",
    "        src = allc_file\n",
    "        \n",
    "        dst = os.path.join(path_dataset, 'allc', src)\n",
    "        dst = (os.path.splitext(dst)[0] +'.bgz')\n",
    "\n",
    "        logging.info(\"gzip to bgzip ({}/{}): {}\".format(i+1, len(allc_files), src))\n",
    "        \n",
    "        # .tsv.gz to .tsv \n",
    "        cmd = 'gzip -cd {} > {}'.format(src, os.path.splitext(src)[0]) \n",
    "        os.system(cmd)\n",
    "\n",
    "        # bgzip\n",
    "        cmd = 'bgzip -c {} > {}'.format(os.path.splitext(src)[0], dst) \n",
    "        os.system(cmd)\n",
    "\n",
    "        # rm tmp files\n",
    "        os.remove(os.path.splitext(src)[0])"
   ]
  },
  {
   "cell_type": "markdown",
   "metadata": {},
   "source": [
    "## Case 2"
   ]
  },
  {
   "cell_type": "code",
   "execution_count": null,
   "metadata": {},
   "outputs": [],
   "source": [
    "allc_folders = glob.glob(os.path.join(path_dataset, 'from_ecker_lab', '*'))\n",
    "# should be parallelized in the future\n",
    "for i, allc_folder in enumerate(allc_folders):\n",
    "    with cd(allc_folder):\n",
    "        allc_files = glob.glob('allc_*.tsv.gz')\n",
    "        assert len(allc_files) == 1\n",
    "        src = allc_files[0]\n",
    "    \n",
    "        # if src == 'allc_180118_CEMBA_mm_P56_P63_4B_CEMBA180104_4B_1_CEMBA180104_4B_2_H8_AD002_indexed.tsv.gz':\n",
    "        dst = os.path.join(path_dataset, 'allc', src)\n",
    "        dst = (os.path.splitext(dst)[0] +'.bgz')\n",
    "\n",
    "        logging.info(\"gzip to bgzip ({}/{}): {}\".format(i+1, len(allc_folders), src))\n",
    "        # .tsv.gz to .tsv \n",
    "        cmd = 'gzip -cd {} > {}'.format(src, os.path.splitext(src)[0]) \n",
    "        os.system(cmd)\n",
    "\n",
    "        # bgzip\n",
    "        cmd = 'bgzip -c {} > {}'.format(os.path.splitext(src)[0], dst) \n",
    "        os.system(cmd)\n",
    "\n",
    "        # rm tmp files\n",
    "        os.remove(os.path.splitext(src)[0])\n"
   ]
  },
  {
   "cell_type": "markdown",
   "metadata": {},
   "source": [
    "# Tabix index"
   ]
  },
  {
   "cell_type": "code",
   "execution_count": 11,
   "metadata": {
    "scrolled": true
   },
   "outputs": [
    {
     "ename": "FileNotFoundError",
     "evalue": "[Errno 2] No such file or directory: '/cndd/Public_Datasets/CEMBA/snmCSeq/Datasets/CEMBA_3A_180129/allc'",
     "output_type": "error",
     "traceback": [
      "\u001b[0;31m---------------------------------------------------------------------------\u001b[0m",
      "\u001b[0;31mFileNotFoundError\u001b[0m                         Traceback (most recent call last)",
      "\u001b[0;32m<ipython-input-11-46382f9150e3>\u001b[0m in \u001b[0;36m<module>\u001b[0;34m()\u001b[0m\n\u001b[1;32m      1\u001b[0m \u001b[0;31m# try tabix (could be parallelized)\u001b[0m\u001b[0;34m\u001b[0m\u001b[0;34m\u001b[0m\u001b[0m\n\u001b[0;32m----> 2\u001b[0;31m \u001b[0;32mwith\u001b[0m \u001b[0mcd\u001b[0m\u001b[0;34m(\u001b[0m\u001b[0mos\u001b[0m\u001b[0;34m.\u001b[0m\u001b[0mpath\u001b[0m\u001b[0;34m.\u001b[0m\u001b[0mjoin\u001b[0m\u001b[0;34m(\u001b[0m\u001b[0mpath_dataset\u001b[0m\u001b[0;34m,\u001b[0m \u001b[0;34m'allc'\u001b[0m\u001b[0;34m)\u001b[0m\u001b[0;34m)\u001b[0m\u001b[0;34m:\u001b[0m\u001b[0;34m\u001b[0m\u001b[0m\n\u001b[0m\u001b[1;32m      3\u001b[0m     \u001b[0mallc_files\u001b[0m \u001b[0;34m=\u001b[0m \u001b[0mglob\u001b[0m\u001b[0;34m.\u001b[0m\u001b[0mglob\u001b[0m\u001b[0;34m(\u001b[0m\u001b[0mos\u001b[0m\u001b[0;34m.\u001b[0m\u001b[0mpath\u001b[0m\u001b[0;34m.\u001b[0m\u001b[0mjoin\u001b[0m\u001b[0;34m(\u001b[0m\u001b[0mpath_dataset\u001b[0m\u001b[0;34m,\u001b[0m \u001b[0;34m'allc'\u001b[0m\u001b[0;34m,\u001b[0m \u001b[0;34m'*'\u001b[0m\u001b[0;34m)\u001b[0m\u001b[0;34m)\u001b[0m\u001b[0;34m\u001b[0m\u001b[0m\n\u001b[1;32m      4\u001b[0m     \u001b[0mallc_files\u001b[0m \u001b[0;34m=\u001b[0m \u001b[0mglob\u001b[0m\u001b[0;34m.\u001b[0m\u001b[0mglob\u001b[0m\u001b[0;34m(\u001b[0m\u001b[0mos\u001b[0m\u001b[0;34m.\u001b[0m\u001b[0mpath\u001b[0m\u001b[0;34m.\u001b[0m\u001b[0mjoin\u001b[0m\u001b[0;34m(\u001b[0m\u001b[0mpath_dataset\u001b[0m\u001b[0;34m,\u001b[0m \u001b[0;34m'allc'\u001b[0m\u001b[0;34m,\u001b[0m \u001b[0;34m'allc_180118_CEMBA_mm_P56_P63_RS2_180117_P1_180117_P2_D9_AD010.tsv.bgz'\u001b[0m\u001b[0;34m)\u001b[0m\u001b[0;34m)\u001b[0m\u001b[0;34m\u001b[0m\u001b[0m\n\u001b[1;32m      5\u001b[0m     \u001b[0;32mfor\u001b[0m \u001b[0mi\u001b[0m\u001b[0;34m,\u001b[0m \u001b[0mallc_file\u001b[0m \u001b[0;32min\u001b[0m \u001b[0menumerate\u001b[0m\u001b[0;34m(\u001b[0m\u001b[0mallc_files\u001b[0m\u001b[0;34m)\u001b[0m\u001b[0;34m:\u001b[0m\u001b[0;34m\u001b[0m\u001b[0m\n",
      "\u001b[0;32m/cndd/fangming/CEMBA/snmcseq_dev/snmcseq_utils.py\u001b[0m in \u001b[0;36m__enter__\u001b[0;34m(self)\u001b[0m\n\u001b[1;32m     29\u001b[0m     \u001b[0;32mdef\u001b[0m \u001b[0m__enter__\u001b[0m\u001b[0;34m(\u001b[0m\u001b[0mself\u001b[0m\u001b[0;34m)\u001b[0m\u001b[0;34m:\u001b[0m\u001b[0;34m\u001b[0m\u001b[0m\n\u001b[1;32m     30\u001b[0m         \u001b[0mself\u001b[0m\u001b[0;34m.\u001b[0m\u001b[0msavedPath\u001b[0m \u001b[0;34m=\u001b[0m \u001b[0mos\u001b[0m\u001b[0;34m.\u001b[0m\u001b[0mgetcwd\u001b[0m\u001b[0;34m(\u001b[0m\u001b[0;34m)\u001b[0m\u001b[0;34m\u001b[0m\u001b[0m\n\u001b[0;32m---> 31\u001b[0;31m         \u001b[0mos\u001b[0m\u001b[0;34m.\u001b[0m\u001b[0mchdir\u001b[0m\u001b[0;34m(\u001b[0m\u001b[0mself\u001b[0m\u001b[0;34m.\u001b[0m\u001b[0mnewPath\u001b[0m\u001b[0;34m)\u001b[0m\u001b[0;34m\u001b[0m\u001b[0m\n\u001b[0m\u001b[1;32m     32\u001b[0m \u001b[0;34m\u001b[0m\u001b[0m\n\u001b[1;32m     33\u001b[0m     \u001b[0;32mdef\u001b[0m \u001b[0m__exit__\u001b[0m\u001b[0;34m(\u001b[0m\u001b[0mself\u001b[0m\u001b[0;34m,\u001b[0m \u001b[0metype\u001b[0m\u001b[0;34m,\u001b[0m \u001b[0mvalue\u001b[0m\u001b[0;34m,\u001b[0m \u001b[0mtraceback\u001b[0m\u001b[0;34m)\u001b[0m\u001b[0;34m:\u001b[0m\u001b[0;34m\u001b[0m\u001b[0m\n",
      "\u001b[0;31mFileNotFoundError\u001b[0m: [Errno 2] No such file or directory: '/cndd/Public_Datasets/CEMBA/snmCSeq/Datasets/CEMBA_3A_180129/allc'"
     ]
    }
   ],
   "source": [
    "# try tabix (could be parallelized)\n",
    "with cd(os.path.join(path_dataset, 'allc')):\n",
    "    allc_files = glob.glob(os.path.join(path_dataset, 'allc', '*'))\n",
    "    allc_files = glob.glob(os.path.join(path_dataset, 'allc', 'allc_180118_CEMBA_mm_P56_P63_RS2_180117_P1_180117_P2_D9_AD010.tsv.bgz'))\n",
    "    for i, allc_file in enumerate(allc_files):\n",
    "        os.system('tabix -f -s 1 -b 2 -e 2 -S 0 ' + allc_file) \n",
    "        logging.info(\"Done tabix indexing ({}/{}): {}\".format(i+1, len(allc_files), allc_file))"
   ]
  },
  {
   "cell_type": "markdown",
   "metadata": {},
   "source": [
    "# Mapping summary"
   ]
  },
  {
   "cell_type": "code",
   "execution_count": 68,
   "metadata": {},
   "outputs": [
    {
     "name": "stdout",
     "output_type": "stream",
     "text": [
      "(1005, 15)\n"
     ]
    },
    {
     "data": {
      "text/html": [
       "<div>\n",
       "<style>\n",
       "    .dataframe thead tr:only-child th {\n",
       "        text-align: right;\n",
       "    }\n",
       "\n",
       "    .dataframe thead th {\n",
       "        text-align: left;\n",
       "    }\n",
       "\n",
       "    .dataframe tbody tr th {\n",
       "        vertical-align: top;\n",
       "    }\n",
       "</style>\n",
       "<table border=\"1\" class=\"dataframe\">\n",
       "  <thead>\n",
       "    <tr style=\"text-align: right;\">\n",
       "      <th></th>\n",
       "      <th>Sample</th>\n",
       "      <th>Total reads</th>\n",
       "      <th>Mapped reads</th>\n",
       "      <th>Mapping rate</th>\n",
       "      <th>Nonclonal reads</th>\n",
       "      <th>% Nonclonal rate</th>\n",
       "      <th>Filtered reads</th>\n",
       "      <th>Filtered rate</th>\n",
       "      <th>Lambda mC/C</th>\n",
       "      <th>mCCC/CCC</th>\n",
       "      <th>mCG/CG</th>\n",
       "      <th>mCH/CH</th>\n",
       "      <th>Estimated mCG/CG</th>\n",
       "      <th>Estimated mCH/CH</th>\n",
       "      <th>% Genome covered</th>\n",
       "    </tr>\n",
       "  </thead>\n",
       "  <tbody>\n",
       "    <tr>\n",
       "      <th>1050</th>\n",
       "      <td>180605_CEMBA_mm_P56_P63_4C_CEMBA180419_4C_5_CE...</td>\n",
       "      <td>3955748</td>\n",
       "      <td>2750007</td>\n",
       "      <td>0.695</td>\n",
       "      <td>2030844</td>\n",
       "      <td>0.738</td>\n",
       "      <td>1854292</td>\n",
       "      <td>0.913</td>\n",
       "      <td>NaN</td>\n",
       "      <td>0.00471</td>\n",
       "      <td>0.81132</td>\n",
       "      <td>0.02267</td>\n",
       "      <td>0.81043</td>\n",
       "      <td>0.01804</td>\n",
       "      <td>7.77</td>\n",
       "    </tr>\n",
       "    <tr>\n",
       "      <th>1051</th>\n",
       "      <td>180605_CEMBA_mm_P56_P63_4C_CEMBA180419_4C_5_CE...</td>\n",
       "      <td>3633036</td>\n",
       "      <td>2549859</td>\n",
       "      <td>0.702</td>\n",
       "      <td>1896832</td>\n",
       "      <td>0.744</td>\n",
       "      <td>1719007</td>\n",
       "      <td>0.906</td>\n",
       "      <td>NaN</td>\n",
       "      <td>0.00518</td>\n",
       "      <td>0.73957</td>\n",
       "      <td>0.02463</td>\n",
       "      <td>0.73821</td>\n",
       "      <td>0.01955</td>\n",
       "      <td>7.23</td>\n",
       "    </tr>\n",
       "    <tr>\n",
       "      <th>1052</th>\n",
       "      <td>180605_CEMBA_mm_P56_P63_4C_CEMBA180419_4C_5_CE...</td>\n",
       "      <td>4312100</td>\n",
       "      <td>2998803</td>\n",
       "      <td>0.695</td>\n",
       "      <td>2217200</td>\n",
       "      <td>0.739</td>\n",
       "      <td>1998326</td>\n",
       "      <td>0.901</td>\n",
       "      <td>NaN</td>\n",
       "      <td>0.00682</td>\n",
       "      <td>0.80824</td>\n",
       "      <td>0.03693</td>\n",
       "      <td>0.80692</td>\n",
       "      <td>0.03032</td>\n",
       "      <td>8.34</td>\n",
       "    </tr>\n",
       "    <tr>\n",
       "      <th>1053</th>\n",
       "      <td>180605_CEMBA_mm_P56_P63_4C_CEMBA180419_4C_5_CE...</td>\n",
       "      <td>4276852</td>\n",
       "      <td>2936751</td>\n",
       "      <td>0.687</td>\n",
       "      <td>2180687</td>\n",
       "      <td>0.743</td>\n",
       "      <td>1957187</td>\n",
       "      <td>0.898</td>\n",
       "      <td>NaN</td>\n",
       "      <td>0.00479</td>\n",
       "      <td>0.77326</td>\n",
       "      <td>0.02074</td>\n",
       "      <td>0.77217</td>\n",
       "      <td>0.01603</td>\n",
       "      <td>8.16</td>\n",
       "    </tr>\n",
       "    <tr>\n",
       "      <th>1054</th>\n",
       "      <td>180605_CEMBA_mm_P56_P63_4C_CEMBA180419_4C_5_CE...</td>\n",
       "      <td>3456400</td>\n",
       "      <td>2386370</td>\n",
       "      <td>0.690</td>\n",
       "      <td>1770307</td>\n",
       "      <td>0.742</td>\n",
       "      <td>1573814</td>\n",
       "      <td>0.889</td>\n",
       "      <td>0.0</td>\n",
       "      <td>0.00462</td>\n",
       "      <td>0.76938</td>\n",
       "      <td>0.02084</td>\n",
       "      <td>0.76831</td>\n",
       "      <td>0.01630</td>\n",
       "      <td>6.62</td>\n",
       "    </tr>\n",
       "  </tbody>\n",
       "</table>\n",
       "</div>"
      ],
      "text/plain": [
       "                                                 Sample  Total reads  \\\n",
       "1050  180605_CEMBA_mm_P56_P63_4C_CEMBA180419_4C_5_CE...      3955748   \n",
       "1051  180605_CEMBA_mm_P56_P63_4C_CEMBA180419_4C_5_CE...      3633036   \n",
       "1052  180605_CEMBA_mm_P56_P63_4C_CEMBA180419_4C_5_CE...      4312100   \n",
       "1053  180605_CEMBA_mm_P56_P63_4C_CEMBA180419_4C_5_CE...      4276852   \n",
       "1054  180605_CEMBA_mm_P56_P63_4C_CEMBA180419_4C_5_CE...      3456400   \n",
       "\n",
       "      Mapped reads  Mapping rate  Nonclonal reads  % Nonclonal rate  \\\n",
       "1050       2750007         0.695          2030844             0.738   \n",
       "1051       2549859         0.702          1896832             0.744   \n",
       "1052       2998803         0.695          2217200             0.739   \n",
       "1053       2936751         0.687          2180687             0.743   \n",
       "1054       2386370         0.690          1770307             0.742   \n",
       "\n",
       "      Filtered reads  Filtered rate  Lambda mC/C  mCCC/CCC   mCG/CG   mCH/CH  \\\n",
       "1050         1854292          0.913          NaN   0.00471  0.81132  0.02267   \n",
       "1051         1719007          0.906          NaN   0.00518  0.73957  0.02463   \n",
       "1052         1998326          0.901          NaN   0.00682  0.80824  0.03693   \n",
       "1053         1957187          0.898          NaN   0.00479  0.77326  0.02074   \n",
       "1054         1573814          0.889          0.0   0.00462  0.76938  0.02084   \n",
       "\n",
       "      Estimated mCG/CG  Estimated mCH/CH  % Genome covered  \n",
       "1050           0.81043           0.01804              7.77  \n",
       "1051           0.73821           0.01955              7.23  \n",
       "1052           0.80692           0.03032              8.34  \n",
       "1053           0.77217           0.01603              8.16  \n",
       "1054           0.76831           0.01630              6.62  "
      ]
     },
     "execution_count": 68,
     "metadata": {},
     "output_type": "execute_result"
    }
   ],
   "source": [
    "# mapping summary\n",
    "f = os.path.join(PATH_REFERENCES, 'Mapping_summary', 'CEMBA_4C_summary.txt')\n",
    "df = pd.read_table(f) \n",
    "# filter\n",
    "\n",
    "# df['dataset'] = df['Sample'].apply(lambda x: '_'.join(['CEMBA', \n",
    "#                                        x.split('_')[7],\n",
    "#                                        x.split('_')[6][len('CEMBA'):]]\n",
    "#                                                      ))\n",
    "# dataset_rep = '_'.join(dataset.split('_')[:3])\n",
    "# df = df[df['dataset']==dataset_rep].drop('dataset', axis=1)\n",
    "\n",
    "# filter\n",
    "f = '/cndd/Public_Datasets/CEMBA/snmCSeq/Datasets/{}/allc/*.tsv.bgz'.format(dataset)\n",
    "cells = [os.path.basename(allc)[5:-8] for allc in glob.glob(f)]\n",
    "df = df[df['Sample'].isin(cells)]\n",
    "\n",
    "print(df.shape)\n",
    "df.head()"
   ]
  },
  {
   "cell_type": "code",
   "execution_count": 69,
   "metadata": {},
   "outputs": [],
   "source": [
    "# move allc inplace\n",
    "\n",
    "# dst = '/cndd/Public_Datasets/CEMBA/snmCSeq/Datasets/{}/from_ecker_lab'.format(dataset)\n",
    "# if not os.path.isdir(dst):\n",
    "#     os.makedirs(dst)\n",
    "    \n",
    "# with cd('/cndd/Public_Datasets/CEMBA/snmCSeq/Datasets/3F/from_ecker_lab'):\n",
    "#     dirs = [dirc for dirc in sorted(glob.glob('*')) if os.path.isdir(dirc)]\n",
    "#     for dirc in dirs:\n",
    "#         if dirc[:-len('_bismark')] in df['Sample'].tolist():\n",
    "#             print(dirc)\n",
    "#             cmd = 'mv {} {}'.format(dirc, dst)\n",
    "#             os.system(cmd)\n",
    "            \n",
    "            \n"
   ]
  },
  {
   "cell_type": "code",
   "execution_count": 70,
   "metadata": {},
   "outputs": [
    {
     "data": {
      "image/png": "[encoded data removed]",
      "text/plain": [
       "<matplotlib.figure.Figure at 0x7f6c75858390>"
      ]
     },
     "metadata": {},
     "output_type": "display_data"
    }
   ],
   "source": [
    "\n",
    "fig, axs = plt.subplots(1, 2, figsize=(12, 6))\n",
    "ax = axs[0]\n",
    "ax.scatter(df['mCCC/CCC'].values, df['% Genome covered'].values)\n",
    "ax = axs[1]\n",
    "ax.scatter(df['mCCC/CCC'].values, df['Nonclonal reads'].values)\n",
    "plt.show()\n"
   ]
  },
  {
   "cell_type": "code",
   "execution_count": 71,
   "metadata": {},
   "outputs": [
    {
     "name": "stdout",
     "output_type": "stream",
     "text": [
      "[]\n"
     ]
    }
   ],
   "source": [
    "# move allc to allc trash\n",
    "\n",
    "print(df.loc[df['mCCC/CCC'] > 0.02, 'Sample'].tolist())\n",
    "\n",
    "df[df['mCCC/CCC']<0.02].set_index('Sample').to_csv(\n",
    "    os.path.join(PATH_DATASETS, dataset, 'mapping_summary_{}.tsv'.format(dataset)), \n",
    "    sep='\\t', na_rep='NA', header=True, index=True)\n",
    "\n",
    "# df[df['mCCC/CCC']<0.02].set_index('Sample').head()\n",
    "\n",
    "# truncate mapping summary and copy that into right place"
   ]
  },
  {
   "cell_type": "code",
   "execution_count": 9,
   "metadata": {},
   "outputs": [],
   "source": [
    "# df.to_csv(os.path.join(path_dataset, 'mapping_summary_{}.tsv'.format(dataset)), \n",
    "#                       sep='\\t', na_rep='NA', header=True, index=False)"
   ]
  },
  {
   "cell_type": "code",
   "execution_count": 17,
   "metadata": {},
   "outputs": [],
   "source": [
    "# with cd(path_dataset)\n",
    "#     allc_files = sorted(glob.glob('./allc/allc_*.tsv.bgz'))\n",
    "#     cells = [os.path.basename(allc_file)[len('allc_'): -len('.tsv.bgz')] for allc_file in allc_files]\n",
    "# df_meta_dataset = df.set_index('Sample').loc[cells, :]"
   ]
  },
  {
   "cell_type": "code",
   "execution_count": 10,
   "metadata": {},
   "outputs": [],
   "source": [
    "# print(df_meta_dataset.shape)\n",
    "\n",
    "# df_meta_dataset.to_csv(os.path.join(path_dataset, 'mapping_summary_{}.tsv'.format(dataset)), \n",
    "#                       sep='\\t', na_rep='NA', header=True, index=True)\n",
    "# df_meta_dataset.head()"
   ]
  },
  {
   "cell_type": "markdown",
   "metadata": {},
   "source": [
    "## "
   ]
  },
  {
   "cell_type": "code",
   "execution_count": 40,
   "metadata": {},
   "outputs": [],
   "source": [
    "dataset = 'CEMBA_3F_180402'\n",
    "\n",
    "f = '/cndd/Public_Datasets/CEMBA/snmCSeq/Datasets/{0}/mapping_summary_{0}.tsv'.format(dataset)\n",
    "df_meta = pd.read_table(f)\n",
    "\n",
    "df_meta.head()\n",
    "cells_meta = df_meta['Sample'].values\n",
    "\n",
    "cells_allc = [os.path.basename(allc_f)[5:-8]\n",
    "    for allc_f in glob.glob('/cndd/Public_Datasets/CEMBA/snmCSeq/Datasets/{}/allc/*.tsv.bgz'.format(dataset))]\n",
    "\n",
    "for cell in cells_allc:\n",
    "    if cell not in cells_meta:\n",
    "        print(cell)"
   ]
  }
 ],
 "metadata": {
  "kernelspec": {
   "display_name": "Python 3",
   "language": "python",
   "name": "python3"
  },
  "language_info": {
   "codemirror_mode": {
    "name": "ipython",
    "version": 3
   },
   "file_extension": ".py",
   "mimetype": "text/x-python",
   "name": "python",
   "nbconvert_exporter": "python",
   "pygments_lexer": "ipython3",
   "version": "3.6.4"
  }
 },
 "nbformat": 4,
 "nbformat_minor": 2
}
