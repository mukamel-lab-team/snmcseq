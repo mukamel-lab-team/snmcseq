{
 "cells": [
  {
   "cell_type": "code",
   "execution_count": 1,
   "metadata": {},
   "outputs": [],
   "source": [
    "import subprocess as sp\n",
    "import matplotlib.pyplot as plt\n",
    "\n",
    "from __init__ import *\n",
    "from snmcseq_utils import create_logger\n",
    "from snmcseq_utils import cd"
   ]
  },
  {
   "cell_type": "code",
   "execution_count": 2,
   "metadata": {},
   "outputs": [
    {
     "name": "stderr",
     "output_type": "stream",
     "text": [
      "06/11/2018 02:24:14 PM .\n"
     ]
    }
   ],
   "source": [
    "log = create_logger()\n",
    "log.info('.')"
   ]
  },
  {
   "cell_type": "code",
   "execution_count": 21,
   "metadata": {},
   "outputs": [],
   "source": [
    "dataset = 'CEMBA_1C_180212'\n",
    "path_dataset = os.path.join(PATH_DATASETS, dataset)"
   ]
  },
  {
   "cell_type": "markdown",
   "metadata": {},
   "source": [
    "# Gzip to bgzip"
   ]
  },
  {
   "cell_type": "code",
   "execution_count": null,
   "metadata": {},
   "outputs": [],
   "source": [
    "# make allc folder and symlic from from_ecker_lab\n",
    "\n",
    "os.makedirs(os.path.join(path_dataset, 'allc'))"
   ]
  },
  {
   "cell_type": "markdown",
   "metadata": {},
   "source": [
    "## Case 1"
   ]
  },
  {
   "cell_type": "code",
   "execution_count": 5,
   "metadata": {},
   "outputs": [
    {
     "name": "stderr",
     "output_type": "stream",
     "text": [
      "03/18/2018 08:48:27 PM gzip to bgzip (1/1): allc_180118_CEMBA_mm_P56_P63_RS2_180117_P1_180117_P2_D9_AD010.tsv.gz\n"
     ]
    }
   ],
   "source": [
    "# allc_folders = glob.glob(os.path.join(path_dataset, 'from_ecker_lab', '*'))\n",
    "\n",
    "# should be parallelized in the future\n",
    "# for i, allc_folder in enumerate(allc_folders):\n",
    "data_folder = os.path.join(PATH_DATASETS, dataset, 'from_ecker_lab')\n",
    "with cd(data_folder):\n",
    "    allc_files = glob.glob('allc_*.tsv.gz')\n",
    "    allc_files = glob.glob('allc_180118_CEMBA_mm_P56_P63_RS2_180117_P1_180117_P2_D9_AD010.tsv.gz')\n",
    "    for i, allc_file in enumerate(allc_files):\n",
    "        # if src == 'allc_180118_CEMBA_mm_P56_P63_4B_CEMBA180104_4B_1_CEMBA180104_4B_2_H8_AD002_indexed.tsv.gz':\n",
    "        \n",
    "        src = allc_file\n",
    "        \n",
    "        dst = os.path.join(path_dataset, 'allc', src)\n",
    "        dst = (os.path.splitext(dst)[0] +'.bgz')\n",
    "\n",
    "        logging.info(\"gzip to bgzip ({}/{}): {}\".format(i+1, len(allc_files), src))\n",
    "        \n",
    "        # .tsv.gz to .tsv \n",
    "        cmd = 'gzip -cd {} > {}'.format(src, os.path.splitext(src)[0]) \n",
    "        os.system(cmd)\n",
    "\n",
    "        # bgzip\n",
    "        cmd = 'bgzip -c {} > {}'.format(os.path.splitext(src)[0], dst) \n",
    "        os.system(cmd)\n",
    "\n",
    "        # rm tmp files\n",
    "        os.remove(os.path.splitext(src)[0])"
   ]
  },
  {
   "cell_type": "markdown",
   "metadata": {},
   "source": [
    "## Case 2"
   ]
  },
  {
   "cell_type": "code",
   "execution_count": null,
   "metadata": {},
   "outputs": [],
   "source": [
    "allc_folders = glob.glob(os.path.join(path_dataset, 'from_ecker_lab', '*'))\n",
    "# should be parallelized in the future\n",
    "for i, allc_folder in enumerate(allc_folders):\n",
    "    with cd(allc_folder):\n",
    "        allc_files = glob.glob('allc_*.tsv.gz')\n",
    "        assert len(allc_files) == 1\n",
    "        src = allc_files[0]\n",
    "    \n",
    "        # if src == 'allc_180118_CEMBA_mm_P56_P63_4B_CEMBA180104_4B_1_CEMBA180104_4B_2_H8_AD002_indexed.tsv.gz':\n",
    "        dst = os.path.join(path_dataset, 'allc', src)\n",
    "        dst = (os.path.splitext(dst)[0] +'.bgz')\n",
    "\n",
    "        logging.info(\"gzip to bgzip ({}/{}): {}\".format(i+1, len(allc_folders), src))\n",
    "        # .tsv.gz to .tsv \n",
    "        cmd = 'gzip -cd {} > {}'.format(src, os.path.splitext(src)[0]) \n",
    "        os.system(cmd)\n",
    "\n",
    "        # bgzip\n",
    "        cmd = 'bgzip -c {} > {}'.format(os.path.splitext(src)[0], dst) \n",
    "        os.system(cmd)\n",
    "\n",
    "        # rm tmp files\n",
    "        os.remove(os.path.splitext(src)[0])\n"
   ]
  },
  {
   "cell_type": "markdown",
   "metadata": {},
   "source": [
    "# Tabix index"
   ]
  },
  {
   "cell_type": "code",
   "execution_count": 11,
   "metadata": {
    "scrolled": true
   },
   "outputs": [
    {
     "ename": "FileNotFoundError",
     "evalue": "[Errno 2] No such file or directory: '/cndd/Public_Datasets/CEMBA/snmCSeq/Datasets/CEMBA_3A_180129/allc'",
     "output_type": "error",
     "traceback": [
      "\u001b[0;31m---------------------------------------------------------------------------\u001b[0m",
      "\u001b[0;31mFileNotFoundError\u001b[0m                         Traceback (most recent call last)",
      "\u001b[0;32m<ipython-input-11-46382f9150e3>\u001b[0m in \u001b[0;36m<module>\u001b[0;34m()\u001b[0m\n\u001b[1;32m      1\u001b[0m \u001b[0;31m# try tabix (could be parallelized)\u001b[0m\u001b[0;34m\u001b[0m\u001b[0;34m\u001b[0m\u001b[0m\n\u001b[0;32m----> 2\u001b[0;31m \u001b[0;32mwith\u001b[0m \u001b[0mcd\u001b[0m\u001b[0;34m(\u001b[0m\u001b[0mos\u001b[0m\u001b[0;34m.\u001b[0m\u001b[0mpath\u001b[0m\u001b[0;34m.\u001b[0m\u001b[0mjoin\u001b[0m\u001b[0;34m(\u001b[0m\u001b[0mpath_dataset\u001b[0m\u001b[0;34m,\u001b[0m \u001b[0;34m'allc'\u001b[0m\u001b[0;34m)\u001b[0m\u001b[0;34m)\u001b[0m\u001b[0;34m:\u001b[0m\u001b[0;34m\u001b[0m\u001b[0m\n\u001b[0m\u001b[1;32m      3\u001b[0m     \u001b[0mallc_files\u001b[0m \u001b[0;34m=\u001b[0m \u001b[0mglob\u001b[0m\u001b[0;34m.\u001b[0m\u001b[0mglob\u001b[0m\u001b[0;34m(\u001b[0m\u001b[0mos\u001b[0m\u001b[0;34m.\u001b[0m\u001b[0mpath\u001b[0m\u001b[0;34m.\u001b[0m\u001b[0mjoin\u001b[0m\u001b[0;34m(\u001b[0m\u001b[0mpath_dataset\u001b[0m\u001b[0;34m,\u001b[0m \u001b[0;34m'allc'\u001b[0m\u001b[0;34m,\u001b[0m \u001b[0;34m'*'\u001b[0m\u001b[0;34m)\u001b[0m\u001b[0;34m)\u001b[0m\u001b[0;34m\u001b[0m\u001b[0m\n\u001b[1;32m      4\u001b[0m     \u001b[0mallc_files\u001b[0m \u001b[0;34m=\u001b[0m \u001b[0mglob\u001b[0m\u001b[0;34m.\u001b[0m\u001b[0mglob\u001b[0m\u001b[0;34m(\u001b[0m\u001b[0mos\u001b[0m\u001b[0;34m.\u001b[0m\u001b[0mpath\u001b[0m\u001b[0;34m.\u001b[0m\u001b[0mjoin\u001b[0m\u001b[0;34m(\u001b[0m\u001b[0mpath_dataset\u001b[0m\u001b[0;34m,\u001b[0m \u001b[0;34m'allc'\u001b[0m\u001b[0;34m,\u001b[0m \u001b[0;34m'allc_180118_CEMBA_mm_P56_P63_RS2_180117_P1_180117_P2_D9_AD010.tsv.bgz'\u001b[0m\u001b[0;34m)\u001b[0m\u001b[0;34m)\u001b[0m\u001b[0;34m\u001b[0m\u001b[0m\n\u001b[1;32m      5\u001b[0m     \u001b[0;32mfor\u001b[0m \u001b[0mi\u001b[0m\u001b[0;34m,\u001b[0m \u001b[0mallc_file\u001b[0m \u001b[0;32min\u001b[0m \u001b[0menumerate\u001b[0m\u001b[0;34m(\u001b[0m\u001b[0mallc_files\u001b[0m\u001b[0;34m)\u001b[0m\u001b[0;34m:\u001b[0m\u001b[0;34m\u001b[0m\u001b[0m\n",
      "\u001b[0;32m/cndd/fangming/CEMBA/snmcseq_dev/snmcseq_utils.py\u001b[0m in \u001b[0;36m__enter__\u001b[0;34m(self)\u001b[0m\n\u001b[1;32m     29\u001b[0m     \u001b[0;32mdef\u001b[0m \u001b[0m__enter__\u001b[0m\u001b[0;34m(\u001b[0m\u001b[0mself\u001b[0m\u001b[0;34m)\u001b[0m\u001b[0;34m:\u001b[0m\u001b[0;34m\u001b[0m\u001b[0m\n\u001b[1;32m     30\u001b[0m         \u001b[0mself\u001b[0m\u001b[0;34m.\u001b[0m\u001b[0msavedPath\u001b[0m \u001b[0;34m=\u001b[0m \u001b[0mos\u001b[0m\u001b[0;34m.\u001b[0m\u001b[0mgetcwd\u001b[0m\u001b[0;34m(\u001b[0m\u001b[0;34m)\u001b[0m\u001b[0;34m\u001b[0m\u001b[0m\n\u001b[0;32m---> 31\u001b[0;31m         \u001b[0mos\u001b[0m\u001b[0;34m.\u001b[0m\u001b[0mchdir\u001b[0m\u001b[0;34m(\u001b[0m\u001b[0mself\u001b[0m\u001b[0;34m.\u001b[0m\u001b[0mnewPath\u001b[0m\u001b[0;34m)\u001b[0m\u001b[0;34m\u001b[0m\u001b[0m\n\u001b[0m\u001b[1;32m     32\u001b[0m \u001b[0;34m\u001b[0m\u001b[0m\n\u001b[1;32m     33\u001b[0m     \u001b[0;32mdef\u001b[0m \u001b[0m__exit__\u001b[0m\u001b[0;34m(\u001b[0m\u001b[0mself\u001b[0m\u001b[0;34m,\u001b[0m \u001b[0metype\u001b[0m\u001b[0;34m,\u001b[0m \u001b[0mvalue\u001b[0m\u001b[0;34m,\u001b[0m \u001b[0mtraceback\u001b[0m\u001b[0;34m)\u001b[0m\u001b[0;34m:\u001b[0m\u001b[0;34m\u001b[0m\u001b[0m\n",
      "\u001b[0;31mFileNotFoundError\u001b[0m: [Errno 2] No such file or directory: '/cndd/Public_Datasets/CEMBA/snmCSeq/Datasets/CEMBA_3A_180129/allc'"
     ]
    }
   ],
   "source": [
    "# try tabix (could be parallelized)\n",
    "with cd(os.path.join(path_dataset, 'allc')):\n",
    "    allc_files = glob.glob(os.path.join(path_dataset, 'allc', '*'))\n",
    "    allc_files = glob.glob(os.path.join(path_dataset, 'allc', 'allc_180118_CEMBA_mm_P56_P63_RS2_180117_P1_180117_P2_D9_AD010.tsv.bgz'))\n",
    "    for i, allc_file in enumerate(allc_files):\n",
    "        os.system('tabix -f -s 1 -b 2 -e 2 -S 0 ' + allc_file) \n",
    "        logging.info(\"Done tabix indexing ({}/{}): {}\".format(i+1, len(allc_files), allc_file))"
   ]
  },
  {
   "cell_type": "markdown",
   "metadata": {},
   "source": [
    "# Mapping summary"
   ]
  },
  {
   "cell_type": "code",
   "execution_count": 22,
   "metadata": {},
   "outputs": [
    {
     "name": "stdout",
     "output_type": "stream",
     "text": [
      "(1266, 15)\n"
     ]
    },
    {
     "data": {
      "text/html": [
       "<div>\n",
       "<style>\n",
       "    .dataframe thead tr:only-child th {\n",
       "        text-align: right;\n",
       "    }\n",
       "\n",
       "    .dataframe thead th {\n",
       "        text-align: left;\n",
       "    }\n",
       "\n",
       "    .dataframe tbody tr th {\n",
       "        vertical-align: top;\n",
       "    }\n",
       "</style>\n",
       "<table border=\"1\" class=\"dataframe\">\n",
       "  <thead>\n",
       "    <tr style=\"text-align: right;\">\n",
       "      <th></th>\n",
       "      <th>Sample</th>\n",
       "      <th>Total reads</th>\n",
       "      <th>Mapped reads</th>\n",
       "      <th>Mapping rate</th>\n",
       "      <th>Nonclonal reads</th>\n",
       "      <th>% Nonclonal rate</th>\n",
       "      <th>Filtered reads</th>\n",
       "      <th>Filtered rate</th>\n",
       "      <th>Lambda mC/C</th>\n",
       "      <th>mCCC/CCC</th>\n",
       "      <th>mCG/CG</th>\n",
       "      <th>mCH/CH</th>\n",
       "      <th>Estimated mCG/CG</th>\n",
       "      <th>Estimated mCH/CH</th>\n",
       "      <th>% Genome covered</th>\n",
       "    </tr>\n",
       "  </thead>\n",
       "  <tbody>\n",
       "    <tr>\n",
       "      <th>1383</th>\n",
       "      <td>180320_CEMBA_mm_P56_P63_1C_CEMBA180212_1C_1_CE...</td>\n",
       "      <td>3163266</td>\n",
       "      <td>2109035</td>\n",
       "      <td>0.667</td>\n",
       "      <td>1689544</td>\n",
       "      <td>0.801</td>\n",
       "      <td>1482421</td>\n",
       "      <td>0.877</td>\n",
       "      <td>0.00763</td>\n",
       "      <td>0.00348</td>\n",
       "      <td>0.78425</td>\n",
       "      <td>0.01130</td>\n",
       "      <td>0.78350</td>\n",
       "      <td>0.00785</td>\n",
       "      <td>6.20</td>\n",
       "    </tr>\n",
       "    <tr>\n",
       "      <th>1384</th>\n",
       "      <td>180320_CEMBA_mm_P56_P63_1C_CEMBA180212_1C_1_CE...</td>\n",
       "      <td>2865716</td>\n",
       "      <td>1933171</td>\n",
       "      <td>0.675</td>\n",
       "      <td>1550849</td>\n",
       "      <td>0.802</td>\n",
       "      <td>1354551</td>\n",
       "      <td>0.873</td>\n",
       "      <td>NaN</td>\n",
       "      <td>0.00405</td>\n",
       "      <td>0.77591</td>\n",
       "      <td>0.01526</td>\n",
       "      <td>0.77500</td>\n",
       "      <td>0.01126</td>\n",
       "      <td>5.69</td>\n",
       "    </tr>\n",
       "    <tr>\n",
       "      <th>1385</th>\n",
       "      <td>180320_CEMBA_mm_P56_P63_1C_CEMBA180212_1C_1_CE...</td>\n",
       "      <td>3368126</td>\n",
       "      <td>2267385</td>\n",
       "      <td>0.673</td>\n",
       "      <td>1819332</td>\n",
       "      <td>0.802</td>\n",
       "      <td>1579098</td>\n",
       "      <td>0.868</td>\n",
       "      <td>NaN</td>\n",
       "      <td>0.00502</td>\n",
       "      <td>0.76502</td>\n",
       "      <td>0.01939</td>\n",
       "      <td>0.76383</td>\n",
       "      <td>0.01444</td>\n",
       "      <td>6.59</td>\n",
       "    </tr>\n",
       "    <tr>\n",
       "      <th>1386</th>\n",
       "      <td>180320_CEMBA_mm_P56_P63_1C_CEMBA180212_1C_1_CE...</td>\n",
       "      <td>3658742</td>\n",
       "      <td>2474500</td>\n",
       "      <td>0.676</td>\n",
       "      <td>1987951</td>\n",
       "      <td>0.803</td>\n",
       "      <td>1708052</td>\n",
       "      <td>0.859</td>\n",
       "      <td>NaN</td>\n",
       "      <td>0.00576</td>\n",
       "      <td>0.78351</td>\n",
       "      <td>0.02575</td>\n",
       "      <td>0.78226</td>\n",
       "      <td>0.02011</td>\n",
       "      <td>7.11</td>\n",
       "    </tr>\n",
       "    <tr>\n",
       "      <th>1387</th>\n",
       "      <td>180320_CEMBA_mm_P56_P63_1C_CEMBA180212_1C_1_CE...</td>\n",
       "      <td>2496440</td>\n",
       "      <td>1666166</td>\n",
       "      <td>0.667</td>\n",
       "      <td>1334808</td>\n",
       "      <td>0.801</td>\n",
       "      <td>1139639</td>\n",
       "      <td>0.854</td>\n",
       "      <td>0.01075</td>\n",
       "      <td>0.00542</td>\n",
       "      <td>0.78166</td>\n",
       "      <td>0.02405</td>\n",
       "      <td>0.78047</td>\n",
       "      <td>0.01873</td>\n",
       "      <td>4.80</td>\n",
       "    </tr>\n",
       "  </tbody>\n",
       "</table>\n",
       "</div>"
      ],
      "text/plain": [
       "                                                 Sample  Total reads  \\\n",
       "1383  180320_CEMBA_mm_P56_P63_1C_CEMBA180212_1C_1_CE...      3163266   \n",
       "1384  180320_CEMBA_mm_P56_P63_1C_CEMBA180212_1C_1_CE...      2865716   \n",
       "1385  180320_CEMBA_mm_P56_P63_1C_CEMBA180212_1C_1_CE...      3368126   \n",
       "1386  180320_CEMBA_mm_P56_P63_1C_CEMBA180212_1C_1_CE...      3658742   \n",
       "1387  180320_CEMBA_mm_P56_P63_1C_CEMBA180212_1C_1_CE...      2496440   \n",
       "\n",
       "      Mapped reads  Mapping rate  Nonclonal reads  % Nonclonal rate  \\\n",
       "1383       2109035         0.667          1689544             0.801   \n",
       "1384       1933171         0.675          1550849             0.802   \n",
       "1385       2267385         0.673          1819332             0.802   \n",
       "1386       2474500         0.676          1987951             0.803   \n",
       "1387       1666166         0.667          1334808             0.801   \n",
       "\n",
       "      Filtered reads  Filtered rate  Lambda mC/C  mCCC/CCC   mCG/CG   mCH/CH  \\\n",
       "1383         1482421          0.877      0.00763   0.00348  0.78425  0.01130   \n",
       "1384         1354551          0.873          NaN   0.00405  0.77591  0.01526   \n",
       "1385         1579098          0.868          NaN   0.00502  0.76502  0.01939   \n",
       "1386         1708052          0.859          NaN   0.00576  0.78351  0.02575   \n",
       "1387         1139639          0.854      0.01075   0.00542  0.78166  0.02405   \n",
       "\n",
       "      Estimated mCG/CG  Estimated mCH/CH  % Genome covered  \n",
       "1383           0.78350           0.00785              6.20  \n",
       "1384           0.77500           0.01126              5.69  \n",
       "1385           0.76383           0.01444              6.59  \n",
       "1386           0.78226           0.02011              7.11  \n",
       "1387           0.78047           0.01873              4.80  "
      ]
     },
     "execution_count": 22,
     "metadata": {},
     "output_type": "execute_result"
    }
   ],
   "source": [
    "# mapping summary\n",
    "f = os.path.join(PATH_REFERENCES, 'Mapping_summary', 'CEMBA_1C_summary.txt')\n",
    "df = pd.read_table(f) \n",
    "# filter\n",
    "\n",
    "df['dataset'] = df['Sample'].apply(lambda x: '_'.join(['CEMBA', \n",
    "                                       x.split('_')[7],\n",
    "                                       x.split('_')[6][len('CEMBA'):]]\n",
    "                                                     ))\n",
    "dataset_rep = '_'.join(dataset.split('_')[:3])\n",
    "df = df[df['dataset']==dataset_rep].drop('dataset', axis=1)\n",
    "print(df.shape)\n",
    "df.head()"
   ]
  },
  {
   "cell_type": "code",
   "execution_count": 23,
   "metadata": {},
   "outputs": [],
   "source": [
    "# move allc inplace\n",
    "\n",
    "# dst = '/cndd/Public_Datasets/CEMBA/snmCSeq/Datasets/{}/from_ecker_lab'.format(dataset)\n",
    "# if not os.path.isdir(dst):\n",
    "#     os.makedirs(dst)\n",
    "    \n",
    "# with cd('/cndd/Public_Datasets/CEMBA/snmCSeq/Datasets/3F/from_ecker_lab'):\n",
    "#     dirs = [dirc for dirc in sorted(glob.glob('*')) if os.path.isdir(dirc)]\n",
    "#     for dirc in dirs:\n",
    "#         if dirc[:-len('_bismark')] in df['Sample'].tolist():\n",
    "#             print(dirc)\n",
    "#             cmd = 'mv {} {}'.format(dirc, dst)\n",
    "#             os.system(cmd)\n",
    "            \n",
    "            \n"
   ]
  },
  {
   "cell_type": "code",
   "execution_count": 24,
   "metadata": {},
   "outputs": [
    {
     "data": {
      "image/png": "[encoded data removed]",
      "text/plain": [
       "<matplotlib.figure.Figure at 0x7f6cdb90dda0>"
      ]
     },
     "metadata": {},
     "output_type": "display_data"
    }
   ],
   "source": [
    "\n",
    "fig, ax = plt.subplots()\n",
    "ax.scatter(df['mCCC/CCC'].values, df['% Genome covered'].values)\n",
    "plt.show()\n"
   ]
  },
  {
   "cell_type": "code",
   "execution_count": 25,
   "metadata": {},
   "outputs": [
    {
     "name": "stdout",
     "output_type": "stream",
     "text": [
      "[]\n"
     ]
    }
   ],
   "source": [
    "# move allc to allc trash\n",
    "\n",
    "print(df.loc[df['mCCC/CCC'] > 0.02, 'Sample'].tolist())\n",
    "\n",
    "df[df['mCCC/CCC']<0.02].set_index('Sample').to_csv(\n",
    "    os.path.join(PATH_DATASETS, dataset, 'mapping_summary_{}.tsv'.format(dataset)), \n",
    "    sep='\\t', na_rep='NA', header=True, index=True)\n",
    "\n",
    "# truncate mapping summary and copy that into right place"
   ]
  },
  {
   "cell_type": "code",
   "execution_count": 9,
   "metadata": {},
   "outputs": [],
   "source": [
    "\n",
    "# df.to_csv(os.path.join(path_dataset, 'mapping_summary_{}.tsv'.format(dataset)), \n",
    "#                       sep='\\t', na_rep='NA', header=True, index=False)"
   ]
  },
  {
   "cell_type": "code",
   "execution_count": 17,
   "metadata": {},
   "outputs": [],
   "source": [
    "# with cd(path_dataset)\n",
    "#     allc_files = sorted(glob.glob('./allc/allc_*.tsv.bgz'))\n",
    "#     cells = [os.path.basename(allc_file)[len('allc_'): -len('.tsv.bgz')] for allc_file in allc_files]\n",
    "# df_meta_dataset = df.set_index('Sample').loc[cells, :]"
   ]
  },
  {
   "cell_type": "code",
   "execution_count": 10,
   "metadata": {},
   "outputs": [],
   "source": [
    "# print(df_meta_dataset.shape)\n",
    "\n",
    "# df_meta_dataset.to_csv(os.path.join(path_dataset, 'mapping_summary_{}.tsv'.format(dataset)), \n",
    "#                       sep='\\t', na_rep='NA', header=True, index=True)\n",
    "# df_meta_dataset.head()"
   ]
  },
  {
   "cell_type": "code",
   "execution_count": null,
   "metadata": {},
   "outputs": [],
   "source": []
  }
 ],
 "metadata": {
  "kernelspec": {
   "display_name": "Python 3",
   "language": "python",
   "name": "python3"
  },
  "language_info": {
   "codemirror_mode": {
    "name": "ipython",
    "version": 3
   },
   "file_extension": ".py",
   "mimetype": "text/x-python",
   "name": "python",
   "nbconvert_exporter": "python",
   "pygments_lexer": "ipython3",
   "version": "3.4.3"
  }
 },
 "nbformat": 4,
 "nbformat_minor": 2
}
