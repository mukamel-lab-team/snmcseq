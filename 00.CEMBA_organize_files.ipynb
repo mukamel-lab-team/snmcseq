{
 "cells": [
  {
   "cell_type": "code",
   "execution_count": 54,
   "metadata": {},
   "outputs": [],
   "source": [
    "import subprocess as sp\n",
    "import matplotlib.pyplot as plt\n",
    "\n",
    "from __init__ import *\n",
    "from snmcseq_utils import create_logger\n",
    "from snmcseq_utils import cd"
   ]
  },
  {
   "cell_type": "code",
   "execution_count": 55,
   "metadata": {},
   "outputs": [
    {
     "name": "stderr",
     "output_type": "stream",
     "text": [
      "05/02/2018 12:15:55 PM .\n"
     ]
    }
   ],
   "source": [
    "log = create_logger()\n",
    "log.info('.')"
   ]
  },
  {
   "cell_type": "code",
   "execution_count": 61,
   "metadata": {},
   "outputs": [],
   "source": [
    "dataset = 'CEMBA_4A_180206'\n",
    "path_dataset = os.path.join(PATH_DATASETS, dataset)"
   ]
  },
  {
   "cell_type": "markdown",
   "metadata": {},
   "source": [
    "# Gzip to bgzip"
   ]
  },
  {
   "cell_type": "code",
   "execution_count": null,
   "metadata": {},
   "outputs": [],
   "source": [
    "# make allc folder and symlic from from_ecker_lab\n",
    "\n",
    "os.makedirs(os.path.join(path_dataset, 'allc'))"
   ]
  },
  {
   "cell_type": "markdown",
   "metadata": {},
   "source": [
    "## Case 1"
   ]
  },
  {
   "cell_type": "code",
   "execution_count": 5,
   "metadata": {},
   "outputs": [
    {
     "name": "stderr",
     "output_type": "stream",
     "text": [
      "03/18/2018 08:48:27 PM gzip to bgzip (1/1): allc_180118_CEMBA_mm_P56_P63_RS2_180117_P1_180117_P2_D9_AD010.tsv.gz\n"
     ]
    }
   ],
   "source": [
    "# allc_folders = glob.glob(os.path.join(path_dataset, 'from_ecker_lab', '*'))\n",
    "\n",
    "# should be parallelized in the future\n",
    "# for i, allc_folder in enumerate(allc_folders):\n",
    "data_folder = os.path.join(PATH_DATASETS, dataset, 'from_ecker_lab')\n",
    "with cd(data_folder):\n",
    "    allc_files = glob.glob('allc_*.tsv.gz')\n",
    "    allc_files = glob.glob('allc_180118_CEMBA_mm_P56_P63_RS2_180117_P1_180117_P2_D9_AD010.tsv.gz')\n",
    "    for i, allc_file in enumerate(allc_files):\n",
    "        # if src == 'allc_180118_CEMBA_mm_P56_P63_4B_CEMBA180104_4B_1_CEMBA180104_4B_2_H8_AD002_indexed.tsv.gz':\n",
    "        \n",
    "        src = allc_file\n",
    "        \n",
    "        dst = os.path.join(path_dataset, 'allc', src)\n",
    "        dst = (os.path.splitext(dst)[0] +'.bgz')\n",
    "\n",
    "        logging.info(\"gzip to bgzip ({}/{}): {}\".format(i+1, len(allc_files), src))\n",
    "        \n",
    "        # .tsv.gz to .tsv \n",
    "        cmd = 'gzip -cd {} > {}'.format(src, os.path.splitext(src)[0]) \n",
    "        os.system(cmd)\n",
    "\n",
    "        # bgzip\n",
    "        cmd = 'bgzip -c {} > {}'.format(os.path.splitext(src)[0], dst) \n",
    "        os.system(cmd)\n",
    "\n",
    "        # rm tmp files\n",
    "        os.remove(os.path.splitext(src)[0])"
   ]
  },
  {
   "cell_type": "markdown",
   "metadata": {},
   "source": [
    "## Case 2"
   ]
  },
  {
   "cell_type": "code",
   "execution_count": null,
   "metadata": {},
   "outputs": [],
   "source": [
    "allc_folders = glob.glob(os.path.join(path_dataset, 'from_ecker_lab', '*'))\n",
    "# should be parallelized in the future\n",
    "for i, allc_folder in enumerate(allc_folders):\n",
    "    with cd(allc_folder):\n",
    "        allc_files = glob.glob('allc_*.tsv.gz')\n",
    "        assert len(allc_files) == 1\n",
    "        src = allc_files[0]\n",
    "    \n",
    "        # if src == 'allc_180118_CEMBA_mm_P56_P63_4B_CEMBA180104_4B_1_CEMBA180104_4B_2_H8_AD002_indexed.tsv.gz':\n",
    "        dst = os.path.join(path_dataset, 'allc', src)\n",
    "        dst = (os.path.splitext(dst)[0] +'.bgz')\n",
    "\n",
    "        logging.info(\"gzip to bgzip ({}/{}): {}\".format(i+1, len(allc_folders), src))\n",
    "        # .tsv.gz to .tsv \n",
    "        cmd = 'gzip -cd {} > {}'.format(src, os.path.splitext(src)[0]) \n",
    "        os.system(cmd)\n",
    "\n",
    "        # bgzip\n",
    "        cmd = 'bgzip -c {} > {}'.format(os.path.splitext(src)[0], dst) \n",
    "        os.system(cmd)\n",
    "\n",
    "        # rm tmp files\n",
    "        os.remove(os.path.splitext(src)[0])\n"
   ]
  },
  {
   "cell_type": "markdown",
   "metadata": {},
   "source": [
    "# Tabix index"
   ]
  },
  {
   "cell_type": "code",
   "execution_count": 11,
   "metadata": {
    "scrolled": true
   },
   "outputs": [
    {
     "ename": "FileNotFoundError",
     "evalue": "[Errno 2] No such file or directory: '/cndd/Public_Datasets/CEMBA/snmCSeq/Datasets/CEMBA_3A_180129/allc'",
     "output_type": "error",
     "traceback": [
      "\u001b[0;31m---------------------------------------------------------------------------\u001b[0m",
      "\u001b[0;31mFileNotFoundError\u001b[0m                         Traceback (most recent call last)",
      "\u001b[0;32m<ipython-input-11-46382f9150e3>\u001b[0m in \u001b[0;36m<module>\u001b[0;34m()\u001b[0m\n\u001b[1;32m      1\u001b[0m \u001b[0;31m# try tabix (could be parallelized)\u001b[0m\u001b[0;34m\u001b[0m\u001b[0;34m\u001b[0m\u001b[0m\n\u001b[0;32m----> 2\u001b[0;31m \u001b[0;32mwith\u001b[0m \u001b[0mcd\u001b[0m\u001b[0;34m(\u001b[0m\u001b[0mos\u001b[0m\u001b[0;34m.\u001b[0m\u001b[0mpath\u001b[0m\u001b[0;34m.\u001b[0m\u001b[0mjoin\u001b[0m\u001b[0;34m(\u001b[0m\u001b[0mpath_dataset\u001b[0m\u001b[0;34m,\u001b[0m \u001b[0;34m'allc'\u001b[0m\u001b[0;34m)\u001b[0m\u001b[0;34m)\u001b[0m\u001b[0;34m:\u001b[0m\u001b[0;34m\u001b[0m\u001b[0m\n\u001b[0m\u001b[1;32m      3\u001b[0m     \u001b[0mallc_files\u001b[0m \u001b[0;34m=\u001b[0m \u001b[0mglob\u001b[0m\u001b[0;34m.\u001b[0m\u001b[0mglob\u001b[0m\u001b[0;34m(\u001b[0m\u001b[0mos\u001b[0m\u001b[0;34m.\u001b[0m\u001b[0mpath\u001b[0m\u001b[0;34m.\u001b[0m\u001b[0mjoin\u001b[0m\u001b[0;34m(\u001b[0m\u001b[0mpath_dataset\u001b[0m\u001b[0;34m,\u001b[0m \u001b[0;34m'allc'\u001b[0m\u001b[0;34m,\u001b[0m \u001b[0;34m'*'\u001b[0m\u001b[0;34m)\u001b[0m\u001b[0;34m)\u001b[0m\u001b[0;34m\u001b[0m\u001b[0m\n\u001b[1;32m      4\u001b[0m     \u001b[0mallc_files\u001b[0m \u001b[0;34m=\u001b[0m \u001b[0mglob\u001b[0m\u001b[0;34m.\u001b[0m\u001b[0mglob\u001b[0m\u001b[0;34m(\u001b[0m\u001b[0mos\u001b[0m\u001b[0;34m.\u001b[0m\u001b[0mpath\u001b[0m\u001b[0;34m.\u001b[0m\u001b[0mjoin\u001b[0m\u001b[0;34m(\u001b[0m\u001b[0mpath_dataset\u001b[0m\u001b[0;34m,\u001b[0m \u001b[0;34m'allc'\u001b[0m\u001b[0;34m,\u001b[0m \u001b[0;34m'allc_180118_CEMBA_mm_P56_P63_RS2_180117_P1_180117_P2_D9_AD010.tsv.bgz'\u001b[0m\u001b[0;34m)\u001b[0m\u001b[0;34m)\u001b[0m\u001b[0;34m\u001b[0m\u001b[0m\n\u001b[1;32m      5\u001b[0m     \u001b[0;32mfor\u001b[0m \u001b[0mi\u001b[0m\u001b[0;34m,\u001b[0m \u001b[0mallc_file\u001b[0m \u001b[0;32min\u001b[0m \u001b[0menumerate\u001b[0m\u001b[0;34m(\u001b[0m\u001b[0mallc_files\u001b[0m\u001b[0;34m)\u001b[0m\u001b[0;34m:\u001b[0m\u001b[0;34m\u001b[0m\u001b[0m\n",
      "\u001b[0;32m/cndd/fangming/CEMBA/snmcseq_dev/snmcseq_utils.py\u001b[0m in \u001b[0;36m__enter__\u001b[0;34m(self)\u001b[0m\n\u001b[1;32m     29\u001b[0m     \u001b[0;32mdef\u001b[0m \u001b[0m__enter__\u001b[0m\u001b[0;34m(\u001b[0m\u001b[0mself\u001b[0m\u001b[0;34m)\u001b[0m\u001b[0;34m:\u001b[0m\u001b[0;34m\u001b[0m\u001b[0m\n\u001b[1;32m     30\u001b[0m         \u001b[0mself\u001b[0m\u001b[0;34m.\u001b[0m\u001b[0msavedPath\u001b[0m \u001b[0;34m=\u001b[0m \u001b[0mos\u001b[0m\u001b[0;34m.\u001b[0m\u001b[0mgetcwd\u001b[0m\u001b[0;34m(\u001b[0m\u001b[0;34m)\u001b[0m\u001b[0;34m\u001b[0m\u001b[0m\n\u001b[0;32m---> 31\u001b[0;31m         \u001b[0mos\u001b[0m\u001b[0;34m.\u001b[0m\u001b[0mchdir\u001b[0m\u001b[0;34m(\u001b[0m\u001b[0mself\u001b[0m\u001b[0;34m.\u001b[0m\u001b[0mnewPath\u001b[0m\u001b[0;34m)\u001b[0m\u001b[0;34m\u001b[0m\u001b[0m\n\u001b[0m\u001b[1;32m     32\u001b[0m \u001b[0;34m\u001b[0m\u001b[0m\n\u001b[1;32m     33\u001b[0m     \u001b[0;32mdef\u001b[0m \u001b[0m__exit__\u001b[0m\u001b[0;34m(\u001b[0m\u001b[0mself\u001b[0m\u001b[0;34m,\u001b[0m \u001b[0metype\u001b[0m\u001b[0;34m,\u001b[0m \u001b[0mvalue\u001b[0m\u001b[0;34m,\u001b[0m \u001b[0mtraceback\u001b[0m\u001b[0;34m)\u001b[0m\u001b[0;34m:\u001b[0m\u001b[0;34m\u001b[0m\u001b[0m\n",
      "\u001b[0;31mFileNotFoundError\u001b[0m: [Errno 2] No such file or directory: '/cndd/Public_Datasets/CEMBA/snmCSeq/Datasets/CEMBA_3A_180129/allc'"
     ]
    }
   ],
   "source": [
    "# try tabix (could be parallelized)\n",
    "with cd(os.path.join(path_dataset, 'allc')):\n",
    "    allc_files = glob.glob(os.path.join(path_dataset, 'allc', '*'))\n",
    "    allc_files = glob.glob(os.path.join(path_dataset, 'allc', 'allc_180118_CEMBA_mm_P56_P63_RS2_180117_P1_180117_P2_D9_AD010.tsv.bgz'))\n",
    "    for i, allc_file in enumerate(allc_files):\n",
    "        os.system('tabix -f -s 1 -b 2 -e 2 -S 0 ' + allc_file) \n",
    "        logging.info(\"Done tabix indexing ({}/{}): {}\".format(i+1, len(allc_files), allc_file))"
   ]
  },
  {
   "cell_type": "markdown",
   "metadata": {},
   "source": [
    "# Mapping summary"
   ]
  },
  {
   "cell_type": "code",
   "execution_count": 62,
   "metadata": {},
   "outputs": [
    {
     "name": "stdout",
     "output_type": "stream",
     "text": [
      "(1302, 15)\n"
     ]
    },
    {
     "data": {
      "text/html": [
       "<div>\n",
       "<style>\n",
       "    .dataframe thead tr:only-child th {\n",
       "        text-align: right;\n",
       "    }\n",
       "\n",
       "    .dataframe thead th {\n",
       "        text-align: left;\n",
       "    }\n",
       "\n",
       "    .dataframe tbody tr th {\n",
       "        vertical-align: top;\n",
       "    }\n",
       "</style>\n",
       "<table border=\"1\" class=\"dataframe\">\n",
       "  <thead>\n",
       "    <tr style=\"text-align: right;\">\n",
       "      <th></th>\n",
       "      <th>Sample</th>\n",
       "      <th>Total reads</th>\n",
       "      <th>Mapped reads</th>\n",
       "      <th>Mapping rate</th>\n",
       "      <th>Nonclonal reads</th>\n",
       "      <th>% Nonclonal rate</th>\n",
       "      <th>Filtered reads</th>\n",
       "      <th>Filtered rate</th>\n",
       "      <th>Lambda mC/C</th>\n",
       "      <th>mCCC/CCC</th>\n",
       "      <th>mCG/CG</th>\n",
       "      <th>mCH/CH</th>\n",
       "      <th>Estimated mCG/CG</th>\n",
       "      <th>Estimated mCH/CH</th>\n",
       "      <th>% Genome covered</th>\n",
       "    </tr>\n",
       "  </thead>\n",
       "  <tbody>\n",
       "    <tr>\n",
       "      <th>1190</th>\n",
       "      <td>180309_CEMBA_mm_P56_P63_4A_CEMBA180206_4A_1_CE...</td>\n",
       "      <td>1881038</td>\n",
       "      <td>1133561</td>\n",
       "      <td>0.603</td>\n",
       "      <td>935282</td>\n",
       "      <td>0.825</td>\n",
       "      <td>755469</td>\n",
       "      <td>0.808</td>\n",
       "      <td>NaN</td>\n",
       "      <td>0.00497</td>\n",
       "      <td>0.80293</td>\n",
       "      <td>0.02099</td>\n",
       "      <td>0.80195</td>\n",
       "      <td>0.01610</td>\n",
       "      <td>3.22</td>\n",
       "    </tr>\n",
       "    <tr>\n",
       "      <th>1191</th>\n",
       "      <td>180309_CEMBA_mm_P56_P63_4A_CEMBA180206_4A_1_CE...</td>\n",
       "      <td>1575022</td>\n",
       "      <td>965945</td>\n",
       "      <td>0.613</td>\n",
       "      <td>799282</td>\n",
       "      <td>0.827</td>\n",
       "      <td>641241</td>\n",
       "      <td>0.802</td>\n",
       "      <td>NaN</td>\n",
       "      <td>0.00603</td>\n",
       "      <td>0.81557</td>\n",
       "      <td>0.02569</td>\n",
       "      <td>0.81445</td>\n",
       "      <td>0.01978</td>\n",
       "      <td>2.74</td>\n",
       "    </tr>\n",
       "    <tr>\n",
       "      <th>1192</th>\n",
       "      <td>180309_CEMBA_mm_P56_P63_4A_CEMBA180206_4A_1_CE...</td>\n",
       "      <td>1461460</td>\n",
       "      <td>887298</td>\n",
       "      <td>0.607</td>\n",
       "      <td>734012</td>\n",
       "      <td>0.827</td>\n",
       "      <td>582847</td>\n",
       "      <td>0.794</td>\n",
       "      <td>0.0</td>\n",
       "      <td>0.00585</td>\n",
       "      <td>0.82283</td>\n",
       "      <td>0.02528</td>\n",
       "      <td>0.82179</td>\n",
       "      <td>0.01954</td>\n",
       "      <td>2.48</td>\n",
       "    </tr>\n",
       "    <tr>\n",
       "      <th>1193</th>\n",
       "      <td>180309_CEMBA_mm_P56_P63_4A_CEMBA180206_4A_1_CE...</td>\n",
       "      <td>1904508</td>\n",
       "      <td>1149410</td>\n",
       "      <td>0.604</td>\n",
       "      <td>947876</td>\n",
       "      <td>0.825</td>\n",
       "      <td>750052</td>\n",
       "      <td>0.791</td>\n",
       "      <td>NaN</td>\n",
       "      <td>0.00699</td>\n",
       "      <td>0.84245</td>\n",
       "      <td>0.03269</td>\n",
       "      <td>0.84134</td>\n",
       "      <td>0.02588</td>\n",
       "      <td>3.18</td>\n",
       "    </tr>\n",
       "    <tr>\n",
       "      <th>1194</th>\n",
       "      <td>180309_CEMBA_mm_P56_P63_4A_CEMBA180206_4A_1_CE...</td>\n",
       "      <td>1613006</td>\n",
       "      <td>974188</td>\n",
       "      <td>0.604</td>\n",
       "      <td>806343</td>\n",
       "      <td>0.828</td>\n",
       "      <td>627449</td>\n",
       "      <td>0.778</td>\n",
       "      <td>NaN</td>\n",
       "      <td>0.00534</td>\n",
       "      <td>0.80942</td>\n",
       "      <td>0.02464</td>\n",
       "      <td>0.80840</td>\n",
       "      <td>0.01940</td>\n",
       "      <td>2.67</td>\n",
       "    </tr>\n",
       "  </tbody>\n",
       "</table>\n",
       "</div>"
      ],
      "text/plain": [
       "                                                 Sample  Total reads  \\\n",
       "1190  180309_CEMBA_mm_P56_P63_4A_CEMBA180206_4A_1_CE...      1881038   \n",
       "1191  180309_CEMBA_mm_P56_P63_4A_CEMBA180206_4A_1_CE...      1575022   \n",
       "1192  180309_CEMBA_mm_P56_P63_4A_CEMBA180206_4A_1_CE...      1461460   \n",
       "1193  180309_CEMBA_mm_P56_P63_4A_CEMBA180206_4A_1_CE...      1904508   \n",
       "1194  180309_CEMBA_mm_P56_P63_4A_CEMBA180206_4A_1_CE...      1613006   \n",
       "\n",
       "      Mapped reads  Mapping rate  Nonclonal reads  % Nonclonal rate  \\\n",
       "1190       1133561         0.603           935282             0.825   \n",
       "1191        965945         0.613           799282             0.827   \n",
       "1192        887298         0.607           734012             0.827   \n",
       "1193       1149410         0.604           947876             0.825   \n",
       "1194        974188         0.604           806343             0.828   \n",
       "\n",
       "      Filtered reads  Filtered rate  Lambda mC/C  mCCC/CCC   mCG/CG   mCH/CH  \\\n",
       "1190          755469          0.808          NaN   0.00497  0.80293  0.02099   \n",
       "1191          641241          0.802          NaN   0.00603  0.81557  0.02569   \n",
       "1192          582847          0.794          0.0   0.00585  0.82283  0.02528   \n",
       "1193          750052          0.791          NaN   0.00699  0.84245  0.03269   \n",
       "1194          627449          0.778          NaN   0.00534  0.80942  0.02464   \n",
       "\n",
       "      Estimated mCG/CG  Estimated mCH/CH  % Genome covered  \n",
       "1190           0.80195           0.01610              3.22  \n",
       "1191           0.81445           0.01978              2.74  \n",
       "1192           0.82179           0.01954              2.48  \n",
       "1193           0.84134           0.02588              3.18  \n",
       "1194           0.80840           0.01940              2.67  "
      ]
     },
     "execution_count": 62,
     "metadata": {},
     "output_type": "execute_result"
    }
   ],
   "source": [
    "# mapping summary\n",
    "f = os.path.join(PATH_REFERENCES, 'Mapping_summary', 'CEMBA_4A_summary.txt')\n",
    "df = pd.read_table(f) \n",
    "# filter\n",
    "\n",
    "df['dataset'] = df['Sample'].apply(lambda x: '_'.join(['CEMBA', \n",
    "                                       x.split('_')[7],\n",
    "                                       x.split('_')[6][len('CEMBA'):]]\n",
    "                                                     ))\n",
    "dataset_rep = '_'.join(dataset.split('_')[:3])\n",
    "df = df[df['dataset']==dataset_rep].drop('dataset', axis=1)\n",
    "print(df.shape)\n",
    "df.head()"
   ]
  },
  {
   "cell_type": "code",
   "execution_count": 63,
   "metadata": {},
   "outputs": [],
   "source": [
    "# move allc inplace\n",
    "\n",
    "# dst = '/cndd/Public_Datasets/CEMBA/snmCSeq/Datasets/{}/from_ecker_lab'.format(dataset)\n",
    "# if not os.path.isdir(dst):\n",
    "#     os.makedirs(dst)\n",
    "    \n",
    "# with cd('/cndd/Public_Datasets/CEMBA/snmCSeq/Datasets/3F/from_ecker_lab'):\n",
    "#     dirs = [dirc for dirc in sorted(glob.glob('*')) if os.path.isdir(dirc)]\n",
    "#     for dirc in dirs:\n",
    "#         if dirc[:-len('_bismark')] in df['Sample'].tolist():\n",
    "#             print(dirc)\n",
    "#             cmd = 'mv {} {}'.format(dirc, dst)\n",
    "#             os.system(cmd)\n",
    "            \n",
    "            \n"
   ]
  },
  {
   "cell_type": "code",
   "execution_count": 64,
   "metadata": {},
   "outputs": [
    {
     "data": {
      "image/png": "[encoded data removed]",
      "text/plain": [
       "<matplotlib.figure.Figure at 0x7fcd3f8ecc88>"
      ]
     },
     "metadata": {},
     "output_type": "display_data"
    }
   ],
   "source": [
    "\n",
    "fig, ax = plt.subplots()\n",
    "ax.scatter(df['mCCC/CCC'].values, df['% Genome covered'].values)\n",
    "plt.show()\n"
   ]
  },
  {
   "cell_type": "code",
   "execution_count": 65,
   "metadata": {},
   "outputs": [
    {
     "name": "stdout",
     "output_type": "stream",
     "text": [
      "[]\n"
     ]
    }
   ],
   "source": [
    "# move allc to allc trash\n",
    "\n",
    "print(df.loc[df['mCCC/CCC'] > 0.02, 'Sample'].tolist())\n",
    "\n",
    "df[df['mCCC/CCC']<0.02].set_index('Sample').to_csv(\n",
    "    os.path.join(PATH_DATASETS, dataset, 'mapping_summary_{}.tsv'.format(dataset)), \n",
    "    sep='\\t', na_rep='NA', header=True, index=True)\n",
    "\n",
    "# truncate mapping summary and copy that into right place"
   ]
  },
  {
   "cell_type": "code",
   "execution_count": 66,
   "metadata": {},
   "outputs": [],
   "source": [
    "\n",
    "df.to_csv(os.path.join(path_dataset, 'mapping_summary_{}.tsv'.format(dataset)), \n",
    "                      sep='\\t', na_rep='NA', header=True, index=False)"
   ]
  },
  {
   "cell_type": "code",
   "execution_count": 17,
   "metadata": {},
   "outputs": [],
   "source": [
    "# with cd(path_dataset)\n",
    "#     allc_files = sorted(glob.glob('./allc/allc_*.tsv.bgz'))\n",
    "#     cells = [os.path.basename(allc_file)[len('allc_'): -len('.tsv.bgz')] for allc_file in allc_files]\n",
    "# df_meta_dataset = df.set_index('Sample').loc[cells, :]"
   ]
  },
  {
   "cell_type": "code",
   "execution_count": 10,
   "metadata": {},
   "outputs": [],
   "source": [
    "# print(df_meta_dataset.shape)\n",
    "\n",
    "# df_meta_dataset.to_csv(os.path.join(path_dataset, 'mapping_summary_{}.tsv'.format(dataset)), \n",
    "#                       sep='\\t', na_rep='NA', header=True, index=True)\n",
    "# df_meta_dataset.head()"
   ]
  },
  {
   "cell_type": "code",
   "execution_count": null,
   "metadata": {},
   "outputs": [],
   "source": []
  }
 ],
 "metadata": {
  "kernelspec": {
   "display_name": "Python 3",
   "language": "python",
   "name": "python3"
  },
  "language_info": {
   "codemirror_mode": {
    "name": "ipython",
    "version": 3
   },
   "file_extension": ".py",
   "mimetype": "text/x-python",
   "name": "python",
   "nbconvert_exporter": "python",
   "pygments_lexer": "ipython3",
   "version": "3.4.3"
  }
 },
 "nbformat": 4,
 "nbformat_minor": 2
}
