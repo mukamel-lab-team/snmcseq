{
 "cells": [
  {
   "cell_type": "code",
   "execution_count": 1,
   "metadata": {},
   "outputs": [],
   "source": [
    "import subprocess as sp\n",
    "\n",
    "from __init__ import *\n",
    "from snmcseq_utils import create_logger\n",
    "\n",
    "from snmcseq_utils import cd"
   ]
  },
  {
   "cell_type": "code",
   "execution_count": 2,
   "metadata": {},
   "outputs": [
    {
     "name": "stderr",
     "output_type": "stream",
     "text": [
      "03/16/2018 09:06:39 PM .\n"
     ]
    }
   ],
   "source": [
    "log = create_logger()\n",
    "log.info('.')"
   ]
  },
  {
   "cell_type": "code",
   "execution_count": 3,
   "metadata": {},
   "outputs": [],
   "source": [
    "dataset = 'CEMBA_RS2_17Q4'\n",
    "path_dataset = os.path.join(PATH_DATASETS, dataset)"
   ]
  },
  {
   "cell_type": "markdown",
   "metadata": {},
   "source": [
    "# Gzip to bgzip"
   ]
  },
  {
   "cell_type": "code",
   "execution_count": null,
   "metadata": {},
   "outputs": [],
   "source": [
    "# make allc folder and symlic from from_ecker_lab\n",
    "\n",
    "os.makedirs(os.path.join(path_dataset, 'allc'))"
   ]
  },
  {
   "cell_type": "markdown",
   "metadata": {},
   "source": [
    "## Case 1"
   ]
  },
  {
   "cell_type": "code",
   "execution_count": 5,
   "metadata": {},
   "outputs": [
    {
     "name": "stderr",
     "output_type": "stream",
     "text": [
      "03/18/2018 08:48:27 PM gzip to bgzip (1/1): allc_180118_CEMBA_mm_P56_P63_RS2_180117_P1_180117_P2_D9_AD010.tsv.gz\n"
     ]
    }
   ],
   "source": [
    "# allc_folders = glob.glob(os.path.join(path_dataset, 'from_ecker_lab', '*'))\n",
    "\n",
    "# should be parallelized in the future\n",
    "# for i, allc_folder in enumerate(allc_folders):\n",
    "data_folder = os.path.join(PATH_DATASETS, dataset, 'from_ecker_lab')\n",
    "\n",
    "with cd(data_folder):\n",
    "    allc_files = glob.glob('allc_*.tsv.gz')\n",
    "    allc_files = glob.glob('allc_180118_CEMBA_mm_P56_P63_RS2_180117_P1_180117_P2_D9_AD010.tsv.gz')\n",
    "    for i, allc_file in enumerate(allc_files):\n",
    "        # if src == 'allc_180118_CEMBA_mm_P56_P63_4B_CEMBA180104_4B_1_CEMBA180104_4B_2_H8_AD002_indexed.tsv.gz':\n",
    "        \n",
    "        src = allc_file\n",
    "        \n",
    "        dst = os.path.join(path_dataset, 'allc', src)\n",
    "        dst = (os.path.splitext(dst)[0] +'.bgz')\n",
    "\n",
    "        logging.info(\"gzip to bgzip ({}/{}): {}\".format(i+1, len(allc_files), src))\n",
    "        \n",
    "        # .tsv.gz to .tsv \n",
    "        cmd = 'gzip -cd {} > {}'.format(src, os.path.splitext(src)[0]) \n",
    "        os.system(cmd)\n",
    "\n",
    "        # bgzip\n",
    "        cmd = 'bgzip -c {} > {}'.format(os.path.splitext(src)[0], dst) \n",
    "        os.system(cmd)\n",
    "\n",
    "        # rm tmp files\n",
    "        os.remove(os.path.splitext(src)[0])"
   ]
  },
  {
   "cell_type": "markdown",
   "metadata": {},
   "source": [
    "## Case 2"
   ]
  },
  {
   "cell_type": "code",
   "execution_count": null,
   "metadata": {},
   "outputs": [],
   "source": [
    "allc_folders = glob.glob(os.path.join(path_dataset, 'from_ecker_lab', '*'))\n",
    "# should be parallelized in the future\n",
    "for i, allc_folder in enumerate(allc_folders):\n",
    "    with cd(allc_folder):\n",
    "        allc_files = glob.glob('allc_*.tsv.gz')\n",
    "        assert len(allc_files) == 1\n",
    "        src = allc_files[0]\n",
    "    \n",
    "        # if src == 'allc_180118_CEMBA_mm_P56_P63_4B_CEMBA180104_4B_1_CEMBA180104_4B_2_H8_AD002_indexed.tsv.gz':\n",
    "        dst = os.path.join(path_dataset, 'allc', src)\n",
    "        dst = (os.path.splitext(dst)[0] +'.bgz')\n",
    "\n",
    "        logging.info(\"gzip to bgzip ({}/{}): {}\".format(i+1, len(allc_folders), src))\n",
    "        # .tsv.gz to .tsv \n",
    "        cmd = 'gzip -cd {} > {}'.format(src, os.path.splitext(src)[0]) \n",
    "        os.system(cmd)\n",
    "\n",
    "        # bgzip\n",
    "        cmd = 'bgzip -c {} > {}'.format(os.path.splitext(src)[0], dst) \n",
    "        os.system(cmd)\n",
    "\n",
    "        # rm tmp files\n",
    "        os.remove(os.path.splitext(src)[0])\n"
   ]
  },
  {
   "cell_type": "markdown",
   "metadata": {},
   "source": [
    "# Tabix index"
   ]
  },
  {
   "cell_type": "code",
   "execution_count": 7,
   "metadata": {},
   "outputs": [
    {
     "name": "stderr",
     "output_type": "stream",
     "text": [
      "03/18/2018 08:49:32 PM Done tabix indexing (1/1): /cndd/Public_Datasets/CEMBA/snmCSeq/Datasets/CEMBA_RS2_17Q4/allc/allc_180118_CEMBA_mm_P56_P63_RS2_180117_P1_180117_P2_D9_AD010.tsv.bgz\n"
     ]
    }
   ],
   "source": [
    "# try tabix (could be parallelized)\n",
    "with cd(os.path.join(path_dataset, 'allc')):\n",
    "    allc_files = glob.glob(os.path.join(path_dataset, 'allc', '*'))\n",
    "    allc_files = glob.glob(os.path.join(path_dataset, 'allc', 'allc_180118_CEMBA_mm_P56_P63_RS2_180117_P1_180117_P2_D9_AD010.tsv.bgz'))\n",
    "    for i, allc_file in enumerate(allc_files):\n",
    "        os.system('tabix -f -s 1 -b 2 -e 2 -S 0 ' + allc_file) \n",
    "        logging.info(\"Done tabix indexing ({}/{}): {}\".format(i+1, len(allc_files), allc_file))"
   ]
  },
  {
   "cell_type": "markdown",
   "metadata": {},
   "source": [
    "# Mapping summary"
   ]
  },
  {
   "cell_type": "code",
   "execution_count": null,
   "metadata": {},
   "outputs": [],
   "source": [
    "# mapping summary\n",
    "f = os.path.join(PATH_REFERENCES, 'Mapping_summary', 'CEMBA_4B_180104_summary.txt')\n",
    "df = pd.read_table(f) \n",
    "# filter\n",
    "print(df.shape)\n",
    "df.head()\n"
   ]
  },
  {
   "cell_type": "code",
   "execution_count": null,
   "metadata": {},
   "outputs": [],
   "source": [
    "import matplotlib.pyplot as plt\n",
    "\n",
    "fig, ax = plt.subplots()\n",
    "ax.scatter(df['mCCC/CCC'].values, df['% Genome covered'].values)\n",
    "plt.show()\n"
   ]
  },
  {
   "cell_type": "code",
   "execution_count": null,
   "metadata": {},
   "outputs": [],
   "source": [
    "# move allc to allc trash\n",
    "\n",
    "df.loc[df['mCCC/CCC'] > 0.02]\n",
    "\n",
    "\n",
    "# truncate mapping summary and copy that into right place"
   ]
  }
 ],
 "metadata": {
  "kernelspec": {
   "display_name": "Python 3",
   "language": "python",
   "name": "python3"
  },
  "language_info": {
   "codemirror_mode": {
    "name": "ipython",
    "version": 3
   },
   "file_extension": ".py",
   "mimetype": "text/x-python",
   "name": "python",
   "nbconvert_exporter": "python",
   "pygments_lexer": "ipython3",
   "version": "3.4.3"
  }
 },
 "nbformat": 4,
 "nbformat_minor": 2
}
