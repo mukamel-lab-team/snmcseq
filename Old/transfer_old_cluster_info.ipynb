{
 "cells": [
  {
   "cell_type": "code",
   "execution_count": 2,
   "metadata": {},
   "outputs": [],
   "source": [
    "import pandas as pd\n",
    "import numpy as np"
   ]
  },
  {
   "cell_type": "code",
   "execution_count": 3,
   "metadata": {},
   "outputs": [
    {
     "name": "stdout",
     "output_type": "stream",
     "text": [
      "(2784, 3)\n",
      "(4890, 2)\n",
      "(4890, 2)\n",
      "(6435, 4)\n",
      "                        Neuron type  tSNE x coordinate  tSNE y coordinate\n",
      "Sample                                                                   \n",
      "Pool_1_AD008_indexed_R1       hL2/3         -12.332700         -11.750700\n",
      "Pool_1_AD010_indexed_R1       hL2/3         -11.088300          11.283700\n",
      "Pool_2_AD008_indexed_R1         hL4          -0.698722          -0.094122\n",
      "Pool_2_AD010_indexed_R1       hL2/3         -15.662800           5.273410\n",
      "Pool_3_AD008_indexed_R1      hSst-2          14.084100          -4.481540\n",
      "                                cluster_ID cluster_label\n",
      "Sample                                                  \n",
      "hv1_Pool_1000_AD008_indexed_R1   cluster_2          inhi\n",
      "hv1_Pool_1000_AD010_indexed_R1  cluster_23          inhi\n",
      "hv1_Pool_1001_AD008_indexed_R1  cluster_21          inhi\n",
      "hv1_Pool_1001_AD010_indexed_R1  cluster_59          exci\n",
      "hv1_Pool_1002_AD010_indexed_R1  cluster_78          exci\n",
      "                                                       tsne_x     tsne_y\n",
      "cells                                                                   \n",
      "hv1_Pool_442_AD008_indexed_R1                      -45.987576 -18.734520\n",
      "hv1_Pool_81_AD010_indexed_R1                         3.420153  10.437026\n",
      "hv1_Pool_402_AD010_indexed_R1                       16.858492 -58.870106\n",
      "hv2_170727_MB_EB_hs_25yr_cortex_Pool_2307_AD002...  45.671799  17.187798\n",
      "hv2_Pool_1799_AD002_indexed_R2                       5.646198  52.825005\n",
      "                                                 old  \\\n",
      "0  170727_MB_EB_hs_25yr_cortex_Pool_2257_AD002_in...   \n",
      "1  170727_MB_EB_hs_25yr_cortex_Pool_2258_AD002_in...   \n",
      "2  170727_MB_EB_hs_25yr_cortex_Pool_2258_AD006_in...   \n",
      "3  170727_MB_EB_hs_25yr_cortex_Pool_2258_AD008_in...   \n",
      "4  170727_MB_EB_hs_25yr_cortex_Pool_2258_AD010_in...   \n",
      "\n",
      "                                                 new biosample  \\\n",
      "0  170727_MB_EA_hs_58yr_BA10_Pool_2257_AD002_indexed     MB_EA   \n",
      "1  170727_MB_EA_hs_58yr_BA10_Pool_2258_AD002_indexed     MB_EA   \n",
      "2  170727_MB_EA_hs_58yr_BA10_Pool_2258_AD006_indexed     MB_EA   \n",
      "3  170727_MB_EA_hs_58yr_BA10_Pool_2258_AD008_indexed     MB_EA   \n",
      "4  170727_MB_EA_hs_58yr_BA10_Pool_2258_AD010_indexed     MB_EA   \n",
      "\n",
      "                                               old_2  \n",
      "0  hv2_170727_MB_EB_hs_25yr_cortex_Pool_2257_AD00...  \n",
      "1  hv2_170727_MB_EB_hs_25yr_cortex_Pool_2258_AD00...  \n",
      "2  hv2_170727_MB_EB_hs_25yr_cortex_Pool_2258_AD00...  \n",
      "3  hv2_170727_MB_EB_hs_25yr_cortex_Pool_2258_AD00...  \n",
      "4  hv2_170727_MB_EB_hs_25yr_cortex_Pool_2258_AD01...  \n"
     ]
    }
   ],
   "source": [
    "cl1 = ('/cndd/fangming/side_project/snmcseq_dev/metadata/human_v1_metadata_cells.tsv')\n",
    "cl2 = ('/cndd/fangming/side_project/snmcseq_dev/metadata/human_hv1_hv2_metadata_cells.tsv') \n",
    "cl3 = ('/cndd/fangming/side_project/snmcseq_dev/preprocessed/human_hv1_hv2_CH_100000_out_v1_25_rotated.tsv') \n",
    "rename_f = './data/references/hs_sample_rename_2.tsv'\n",
    "\n",
    "df_c1 = pd.read_table(cl1, index_col='Sample')\n",
    "df_c1 = df_c1[['Neuron type', 'tSNE x coordinate', 'tSNE y coordinate']]\n",
    "df_c2 = pd.read_table(cl2, index_col='Sample')\n",
    "df_c2 = df_c2[['cluster_ID', 'cluster_label']]\n",
    "df_c3 = pd.read_table(cl3, index_col='cells')\n",
    "df_rename = pd.read_table(rename_f)\n",
    "\n",
    "print(df_c1.shape)\n",
    "print(df_c2.shape)\n",
    "print(df_c3.shape)\n",
    "print(df_rename.shape)\n",
    "print(df_c1.head())\n",
    "print(df_c2.head())\n",
    "print(df_c3.head())\n",
    "print(df_rename.head())"
   ]
  },
  {
   "cell_type": "code",
   "execution_count": 15,
   "metadata": {},
   "outputs": [
    {
     "name": "stdout",
     "output_type": "stream",
     "text": [
      "(2784, 4)\n",
      "                                                sample cell_type    tsne_x  \\\n",
      "5530  160729_MB_v1_hs_25yr_MFG_pool_1000_AD008_indexed    hSst-2  18.68820   \n",
      "5531  160729_MB_v1_hs_25yr_MFG_pool_1000_AD010_indexed     hPv-1  13.09170   \n",
      "5532  160729_MB_v1_hs_25yr_MFG_pool_1001_AD008_indexed     hPv-1  12.39970   \n",
      "5533  160729_MB_v1_hs_25yr_MFG_pool_1001_AD010_indexed     hL2/3 -12.17260   \n",
      "5534  160729_MB_v1_hs_25yr_MFG_pool_1002_AD010_indexed     hL6-3   1.71175   \n",
      "\n",
      "        tsne_y  \n",
      "5530  -4.40599  \n",
      "5531  -4.69515  \n",
      "5532  -5.21976  \n",
      "5533  10.98450  \n",
      "5534  -6.13753  \n"
     ]
    }
   ],
   "source": [
    "df_c1_new = pd.merge(df_c1, df_rename, left_index=True, right_on='old')\n",
    "df_c1_new = df_c1_new[['new', 'Neuron type', 'tSNE x coordinate', 'tSNE y coordinate']]\n",
    "df_c1_new.columns = [['sample', 'cell_type', 'tsne_x', 'tsne_y']]\n",
    "df_c1_new = df_c1_new.sort_values('sample')\n",
    "\n",
    "print(df_c1_new.shape)\n",
    "print(df_c1_new.head())\n",
    "df_c1_new.to_csv('./data/cluster/cluster_MB_v1/cluster_MB_v1.tsv', \n",
    "               header=True, index=False, na_rep='NA', sep='\\t')"
   ]
  },
  {
   "cell_type": "code",
   "execution_count": 16,
   "metadata": {},
   "outputs": [
    {
     "name": "stdout",
     "output_type": "stream",
     "text": [
      "(4890, 3)\n",
      "                                                sample  cluster_ID cell_class\n",
      "5530  160729_MB_v1_hs_25yr_MFG_pool_1000_AD008_indexed   cluster_2       inhi\n",
      "5531  160729_MB_v1_hs_25yr_MFG_pool_1000_AD010_indexed  cluster_23       inhi\n",
      "5532  160729_MB_v1_hs_25yr_MFG_pool_1001_AD008_indexed  cluster_21       inhi\n",
      "5533  160729_MB_v1_hs_25yr_MFG_pool_1001_AD010_indexed  cluster_59       exci\n",
      "5534  160729_MB_v1_hs_25yr_MFG_pool_1002_AD010_indexed  cluster_78       exci\n"
     ]
    }
   ],
   "source": [
    "df_c2_new = pd.merge(df_c2, df_rename, left_index=True, right_on='old_2')\n",
    "\n",
    "df_c2_new = df_c2_new[['new', 'cluster_ID', 'cluster_label']]\n",
    "df_c2_new.columns = [['sample', 'cluster_ID', 'cell_class']]\n",
    "df_c2_new = df_c2_new.sort_values('sample')\n",
    "print(df_c2_new.shape)\n",
    "print(df_c2_new.head())\n",
    "df_c2_new.to_csv('./data/cluster/cluster_MB_v1_MB_EA1/cluster_MB_v1_MB_EA1.tsv', \n",
    "               header=True, index=False, na_rep='NA', sep='\\t')\n"
   ]
  },
  {
   "cell_type": "code",
   "execution_count": 18,
   "metadata": {},
   "outputs": [
    {
     "name": "stdout",
     "output_type": "stream",
     "text": [
      "(4890, 5)\n",
      "                                             sample  cluster_ID cell_class  \\\n",
      "0  160729_MB_v1_hs_25yr_MFG_pool_1000_AD008_indexed   cluster_2       inhi   \n",
      "1  160729_MB_v1_hs_25yr_MFG_pool_1000_AD010_indexed  cluster_23       inhi   \n",
      "2  160729_MB_v1_hs_25yr_MFG_pool_1001_AD008_indexed  cluster_21       inhi   \n",
      "3  160729_MB_v1_hs_25yr_MFG_pool_1001_AD010_indexed  cluster_59       exci   \n",
      "4  160729_MB_v1_hs_25yr_MFG_pool_1002_AD010_indexed  cluster_78       exci   \n",
      "\n",
      "      tsne_x     tsne_y  \n",
      "0  59.689312 -14.178344  \n",
      "1  32.654526 -17.889263  \n",
      "2  34.714809 -25.268843  \n",
      "3 -61.621166   3.186802  \n",
      "4  -3.302599  27.473228  \n"
     ]
    }
   ],
   "source": [
    "df_c3_new = pd.merge(df_c3, df_rename, left_index=True, right_on='old_2')\n",
    "\n",
    "df_c3_new = df_c3_new[['new', 'tsne_x', 'tsne_y']]\n",
    "df_c3_new.columns = [['sample', 'tsne_x', 'tsne_y']]\n",
    "df_c3_new2 = pd.merge(df_c2_new, df_c3_new, left_on='sample', right_on='sample')\n",
    "df_c3_new2 = df_c3_new2.sort_values('sample')\n",
    "print(df_c3_new2.shape)\n",
    "print(df_c3_new2.head())\n",
    "df_c3_new2.to_csv('./data/cluster/cluster_MB_v1_MB_EA1/cluster_MB_v1_MB_EA1_tsne.tsv', \n",
    "               header=True, index=False, na_rep='NA', sep='\\t')"
   ]
  },
  {
   "cell_type": "code",
   "execution_count": null,
   "metadata": {},
   "outputs": [],
   "source": []
  }
 ],
 "metadata": {
  "kernelspec": {
   "display_name": "Python 3",
   "language": "python",
   "name": "python3"
  },
  "language_info": {
   "codemirror_mode": {
    "name": "ipython",
    "version": 3
   },
   "file_extension": ".py",
   "mimetype": "text/x-python",
   "name": "python",
   "nbconvert_exporter": "python",
   "pygments_lexer": "ipython3",
   "version": "3.5.2"
  }
 },
 "nbformat": 4,
 "nbformat_minor": 2
}
