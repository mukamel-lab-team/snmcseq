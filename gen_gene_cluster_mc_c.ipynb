{
 "cells": [
  {
   "cell_type": "code",
   "execution_count": 4,
   "metadata": {},
   "outputs": [],
   "source": [
    "import pandas as pd\n",
    "import numpy as np\n",
    "import matplotlib.pyplot as plt\n",
    "import seaborn as sns"
   ]
  },
  {
   "cell_type": "markdown",
   "metadata": {},
   "source": [
    "generate gene cluster matrix from gene cell matrix"
   ]
  },
  {
   "cell_type": "code",
   "execution_count": 7,
   "metadata": {},
   "outputs": [
    {
     "name": "stdout",
     "output_type": "stream",
     "text": [
      "(57240, 12870)\n",
      "(6435, 1)\n"
     ]
    }
   ],
   "source": [
    "input_f = './data/gene_level/genebody_mCH_human_combined_summary.tsv'\n",
    "cluster_f = './data/cluster/cluster_MB_v1_MB_EA_MB_EB/clusters_v1_binc_mCH_louvain.tsv' \n",
    "\n",
    "output_f = './data/cluster/cluster_MB_v1_MB_EA_MB_EB/genebody_mCH_clusters_v1_mc_c.tsv'\n",
    "\n",
    "df_input = pd.read_table(input_f, index_col='id')\n",
    "df_cluster = pd.read_table(cluster_f, index_col='sample')\n",
    "\n",
    "print(df_input.shape)\n",
    "print(df_cluster.shape)\n",
    "df_cluster.head()"
   ]
  },
  {
   "cell_type": "code",
   "execution_count": 9,
   "metadata": {},
   "outputs": [
    {
     "name": "stdout",
     "output_type": "stream",
     "text": [
      "(57240, 12870)\n",
      "(57240, 6435)\n",
      "(57240, 6435)\n"
     ]
    }
   ],
   "source": [
    "df_c = df_input.filter(regex='_c$')\n",
    "df_mc = df_input.filter(regex='_mc$')\n",
    "print(df_input.shape)\n",
    "# print(df_input.columns)\n",
    "print(df_c.shape)\n",
    "print(df_mc.shape)"
   ]
  },
  {
   "cell_type": "code",
   "execution_count": 10,
   "metadata": {},
   "outputs": [
    {
     "name": "stdout",
     "output_type": "stream",
     "text": [
      "(57240, 64)\n",
      "                    cluster_1_mc  cluster_1_c  cluster_10_mc  cluster_10_c  \\\n",
      "id                                                                           \n",
      "ENSG00000000003.10          2076        52520            873         20936   \n",
      "ENSG00000000005.5           4184        73188           1590         27898   \n",
      "ENSG00000000419.8           2053       208041            706         81378   \n",
      "ENSG00000000457.9           6413       421223           3931        156723   \n",
      "ENSG00000000460.12         99012      1590457          26661        609445   \n",
      "\n",
      "                    cluster_11_mc  cluster_11_c  cluster_12_mc  cluster_12_c  \\\n",
      "id                                                                             \n",
      "ENSG00000000003.10            219         23855            676         15056   \n",
      "ENSG00000000005.5             329         32645           1625         18658   \n",
      "ENSG00000000419.8             526         87986            566         53517   \n",
      "ENSG00000000457.9            1281        181544           2095        115253   \n",
      "ENSG00000000460.12           6252        712853          28692        419702   \n",
      "\n",
      "                    cluster_13_mc  cluster_13_c     ...       cluster_5_mc  \\\n",
      "id                                                  ...                      \n",
      "ENSG00000000003.10            468         17865     ...                829   \n",
      "ENSG00000000005.5            1098         22948     ...               3088   \n",
      "ENSG00000000419.8             451         67788     ...                994   \n",
      "ENSG00000000457.9            1756        136639     ...               4667   \n",
      "ENSG00000000460.12          15229        529119     ...              39443   \n",
      "\n",
      "                    cluster_5_c  cluster_6_mc  cluster_6_c  cluster_7_mc  \\\n",
      "id                                                                         \n",
      "ENSG00000000003.10        31618           938        20431           963   \n",
      "ENSG00000000005.5         37826          1740        30196          2402   \n",
      "ENSG00000000419.8        113200           884        85573           816   \n",
      "ENSG00000000457.9        227921          2935       167595          3596   \n",
      "ENSG00000000460.12       876376         53286       627034         34193   \n",
      "\n",
      "                    cluster_7_c  cluster_8_mc  cluster_8_c  cluster_9_mc  \\\n",
      "id                                                                         \n",
      "ENSG00000000003.10        26135           890        24241           326   \n",
      "ENSG00000000005.5         35518          2585        30960           713   \n",
      "ENSG00000000419.8        110679          1012        95763           782   \n",
      "ENSG00000000457.9        206066          3759       178015          3044   \n",
      "ENSG00000000460.12       787091         29478       691590          9009   \n",
      "\n",
      "                    cluster_9_c  \n",
      "id                               \n",
      "ENSG00000000003.10        23973  \n",
      "ENSG00000000005.5         35000  \n",
      "ENSG00000000419.8        100479  \n",
      "ENSG00000000457.9        185977  \n",
      "ENSG00000000460.12       756714  \n",
      "\n",
      "[5 rows x 64 columns]\n"
     ]
    }
   ],
   "source": [
    "df_cluster_mc_c = pd.DataFrame() \n",
    "for label, df_sub in df_cluster.groupby('cluster_ID'):\n",
    "    samples = df_sub.index.values\n",
    "    df_cluster_mc_c[label+'_mc'] = df_mc[samples+'_mc'].sum(axis=1)\n",
    "    df_cluster_mc_c[label+'_c'] = df_c[samples+'_c'].sum(axis=1)\n",
    "    \n",
    "print(df_cluster_mc_c.shape)\n",
    "print(df_cluster_mc_c.head())\n",
    "df_cluster_mc_c.to_csv(output_f, na_rep='NA', sep='\\t', header=True, index=True)"
   ]
  },
  {
   "cell_type": "code",
   "execution_count": null,
   "metadata": {},
   "outputs": [],
   "source": []
  }
 ],
 "metadata": {
  "kernelspec": {
   "display_name": "Python 3",
   "language": "python",
   "name": "python3"
  },
  "language_info": {
   "codemirror_mode": {
    "name": "ipython",
    "version": 3
   },
   "file_extension": ".py",
   "mimetype": "text/x-python",
   "name": "python",
   "nbconvert_exporter": "python",
   "pygments_lexer": "ipython3",
   "version": "3.5.2"
  }
 },
 "nbformat": 4,
 "nbformat_minor": 2
}
