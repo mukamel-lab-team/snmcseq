{
 "cells": [
  {
   "cell_type": "code",
   "execution_count": 4,
   "metadata": {},
   "outputs": [],
   "source": [
    "import pandas as pd\n",
    "import numpy as np\n",
    "import matplotlib.pyplot as plt\n",
    "import seaborn as sns"
   ]
  },
  {
   "cell_type": "markdown",
   "metadata": {},
   "source": [
    "generate gene cluster matrix from gene cell matrix"
   ]
  },
  {
   "cell_type": "code",
   "execution_count": 6,
   "metadata": {},
   "outputs": [
    {
     "name": "stdout",
     "output_type": "stream",
     "text": [
      "(57240, 12870)\n",
      "(6435, 1)\n"
     ]
    }
   ],
   "source": [
    "input_f = './data/gene_level/genebody_mCH_human_combined_summary.tsv'\n",
    "cluster_f = './data/cluster/cluster_MB_v1_MB_EA_MB_EB/clusters_binc_mCH_human_combined_100000_summary_normalized.tsv' \n",
    "\n",
    "output_f = './data/cluster/cluster_MB_v1_MB_EA_MB_EB/genebody_mCH_human_combined_cluster_MB_v1_MB_EA_MB_EB_mc_c.tsv'\n",
    "\n",
    "df_input = pd.read_table(input_f, index_col='id')\n",
    "df_cluster = pd.read_table(cluster_f, index_col='sample')\n",
    "\n",
    "print(df_input.shape)\n",
    "print(df_cluster.shape)"
   ]
  },
  {
   "cell_type": "code",
   "execution_count": 7,
   "metadata": {},
   "outputs": [
    {
     "data": {
      "text/html": [
       "<div>\n",
       "<style>\n",
       "    .dataframe thead tr:only-child th {\n",
       "        text-align: right;\n",
       "    }\n",
       "\n",
       "    .dataframe thead th {\n",
       "        text-align: left;\n",
       "    }\n",
       "\n",
       "    .dataframe tbody tr th {\n",
       "        vertical-align: top;\n",
       "    }\n",
       "</style>\n",
       "<table border=\"1\" class=\"dataframe\">\n",
       "  <thead>\n",
       "    <tr style=\"text-align: right;\">\n",
       "      <th></th>\n",
       "      <th>cluster_ID</th>\n",
       "    </tr>\n",
       "    <tr>\n",
       "      <th>sample</th>\n",
       "      <th></th>\n",
       "    </tr>\n",
       "  </thead>\n",
       "  <tbody>\n",
       "    <tr>\n",
       "      <th>170831_MB_EA_hs_58yr_BA10_pool_2485_AD002_indexed</th>\n",
       "      <td>cluster_1</td>\n",
       "    </tr>\n",
       "    <tr>\n",
       "      <th>160729_MB_v1_hs_25yr_MFG_pool_1381_AD010_indexed</th>\n",
       "      <td>cluster_1</td>\n",
       "    </tr>\n",
       "    <tr>\n",
       "      <th>170606_MB_EA_hs_58yr_BA10_pool_2077_AD008_indexed</th>\n",
       "      <td>cluster_1</td>\n",
       "    </tr>\n",
       "    <tr>\n",
       "      <th>170727_MB_EA_hs_58yr_BA10_Pool_2329_AD006_indexed</th>\n",
       "      <td>cluster_1</td>\n",
       "    </tr>\n",
       "    <tr>\n",
       "      <th>170727_MB_EA_hs_58yr_BA10_Pool_2322_AD008_indexed</th>\n",
       "      <td>cluster_1</td>\n",
       "    </tr>\n",
       "  </tbody>\n",
       "</table>\n",
       "</div>"
      ],
      "text/plain": [
       "                                                  cluster_ID\n",
       "sample                                                      \n",
       "170831_MB_EA_hs_58yr_BA10_pool_2485_AD002_indexed  cluster_1\n",
       "160729_MB_v1_hs_25yr_MFG_pool_1381_AD010_indexed   cluster_1\n",
       "170606_MB_EA_hs_58yr_BA10_pool_2077_AD008_indexed  cluster_1\n",
       "170727_MB_EA_hs_58yr_BA10_Pool_2329_AD006_indexed  cluster_1\n",
       "170727_MB_EA_hs_58yr_BA10_Pool_2322_AD008_indexed  cluster_1"
      ]
     },
     "execution_count": 7,
     "metadata": {},
     "output_type": "execute_result"
    }
   ],
   "source": [
    "df_cluster.head()"
   ]
  },
  {
   "cell_type": "code",
   "execution_count": 8,
   "metadata": {},
   "outputs": [
    {
     "name": "stdout",
     "output_type": "stream",
     "text": [
      "(57240, 12870)\n",
      "Index(['160729_MB_v1_hs_25yr_MFG_pool_1000_AD008_indexed_mc',\n",
      "       '160729_MB_v1_hs_25yr_MFG_pool_1000_AD008_indexed_c',\n",
      "       '160729_MB_v1_hs_25yr_MFG_pool_1000_AD010_indexed_mc',\n",
      "       '160729_MB_v1_hs_25yr_MFG_pool_1000_AD010_indexed_c',\n",
      "       '160729_MB_v1_hs_25yr_MFG_pool_1001_AD008_indexed_mc',\n",
      "       '160729_MB_v1_hs_25yr_MFG_pool_1001_AD008_indexed_c',\n",
      "       '160729_MB_v1_hs_25yr_MFG_pool_1001_AD010_indexed_mc',\n",
      "       '160729_MB_v1_hs_25yr_MFG_pool_1001_AD010_indexed_c',\n",
      "       '160729_MB_v1_hs_25yr_MFG_pool_1002_AD010_indexed_mc',\n",
      "       '160729_MB_v1_hs_25yr_MFG_pool_1002_AD010_indexed_c',\n",
      "       ...\n",
      "       '171030_MB_EB_hs_25yr_BA10_FCU2_NA_H8_AD006_indexed_mc',\n",
      "       '171030_MB_EB_hs_25yr_BA10_FCU2_NA_H8_AD006_indexed_c',\n",
      "       '171030_MB_EB_hs_25yr_BA10_FCU2_NA_H8_AD008_indexed_mc',\n",
      "       '171030_MB_EB_hs_25yr_BA10_FCU2_NA_H8_AD008_indexed_c',\n",
      "       '171030_MB_EB_hs_25yr_BA10_FCU2_NA_H8_AD010_indexed_mc',\n",
      "       '171030_MB_EB_hs_25yr_BA10_FCU2_NA_H8_AD010_indexed_c',\n",
      "       '171030_MB_EB_hs_25yr_BA10_FCU2_NA_H9_AD008_indexed_mc',\n",
      "       '171030_MB_EB_hs_25yr_BA10_FCU2_NA_H9_AD008_indexed_c',\n",
      "       '171030_MB_EB_hs_25yr_BA10_FCU2_NA_H9_AD010_indexed_mc',\n",
      "       '171030_MB_EB_hs_25yr_BA10_FCU2_NA_H9_AD010_indexed_c'],\n",
      "      dtype='object', length=12870)\n",
      "(57240, 6435)\n",
      "(57240, 6435)\n"
     ]
    }
   ],
   "source": [
    "df_c = df_input.filter(regex='_c$')\n",
    "df_mc = df_input.filter(regex='_mc$')\n",
    "print(df_input.shape)\n",
    "print(df_input.columns)\n",
    "print(df_c.shape)\n",
    "print(df_mc.shape)"
   ]
  },
  {
   "cell_type": "code",
   "execution_count": 10,
   "metadata": {},
   "outputs": [
    {
     "name": "stdout",
     "output_type": "stream",
     "text": [
      "                    cluster_1_mc  cluster_1_c  cluster_10_mc  cluster_10_c  \\\n",
      "id                                                                           \n",
      "ENSG00000000003.10           158         4117            202          5041   \n",
      "ENSG00000000005.5            363         4760            657          7190   \n",
      "ENSG00000000419.8            181        14708            247         22409   \n",
      "ENSG00000000457.9            678        31013            900         40790   \n",
      "ENSG00000000460.12          4714       116258           7239        169769   \n",
      "\n",
      "                    cluster_11_mc  cluster_11_c  cluster_12_mc  cluster_12_c  \\\n",
      "id                                                                             \n",
      "ENSG00000000003.10             51          1554            103          3437   \n",
      "ENSG00000000005.5             192          1746            391          3648   \n",
      "ENSG00000000419.8              55          6678             95         10454   \n",
      "ENSG00000000457.9             440         13526            589         23641   \n",
      "ENSG00000000460.12           3173         51411           5519         87213   \n",
      "\n",
      "                    cluster_13_mc  cluster_13_c     ...       cluster_66_mc  \\\n",
      "id                                                  ...                       \n",
      "ENSG00000000003.10            118          3736     ...                 175   \n",
      "ENSG00000000005.5             578          6133     ...                 792   \n",
      "ENSG00000000419.8             145         15432     ...                 177   \n",
      "ENSG00000000457.9             637         33661     ...                 523   \n",
      "ENSG00000000460.12           6087        127043     ...                8060   \n",
      "\n",
      "                    cluster_66_c  cluster_67_mc  cluster_67_c  cluster_7_mc  \\\n",
      "id                                                                            \n",
      "ENSG00000000003.10          4207            102          3850           287   \n",
      "ENSG00000000005.5           6996            341          4106           606   \n",
      "ENSG00000000419.8          16502             94         11413           197   \n",
      "ENSG00000000457.9          32542            263         22237          1086   \n",
      "ENSG00000000460.12        122622           3640         92095          7403   \n",
      "\n",
      "                    cluster_7_c  cluster_8_mc  cluster_8_c  cluster_9_mc  \\\n",
      "id                                                                         \n",
      "ENSG00000000003.10         4701            92         2027           223   \n",
      "ENSG00000000005.5          5401           276         2790           613   \n",
      "ENSG00000000419.8         17058            84         9679           215   \n",
      "ENSG00000000457.9         31325           444        19355           779   \n",
      "ENSG00000000460.12       130076          3432        65582          6539   \n",
      "\n",
      "                    cluster_9_c  \n",
      "id                               \n",
      "ENSG00000000003.10         5117  \n",
      "ENSG00000000005.5          5998  \n",
      "ENSG00000000419.8         18360  \n",
      "ENSG00000000457.9         30741  \n",
      "ENSG00000000460.12       122854  \n",
      "\n",
      "[5 rows x 134 columns]\n",
      "(57240, 134)\n"
     ]
    }
   ],
   "source": [
    "df_cluster_mc_c = pd.DataFrame() \n",
    "for label, df_sub in df_cluster.groupby('cluster_ID'):\n",
    "    samples = df_sub.index.values\n",
    "    df_cluster_mc_c[label+'_mc'] = df_mc[samples+'_mc'].sum(axis=1)\n",
    "    df_cluster_mc_c[label+'_c'] = df_c[samples+'_c'].sum(axis=1)\n",
    "print(df_cluster_mc_c.head())\n",
    "print(df_cluster_mc_c.shape)\n",
    "df_cluster_mc_c.to_csv(output_f, na_rep='NA', sep='\\t', header=True, index=True)"
   ]
  },
  {
   "cell_type": "code",
   "execution_count": null,
   "metadata": {},
   "outputs": [],
   "source": []
  }
 ],
 "metadata": {
  "kernelspec": {
   "display_name": "Python 3",
   "language": "python",
   "name": "python3"
  },
  "language_info": {
   "codemirror_mode": {
    "name": "ipython",
    "version": 3
   },
   "file_extension": ".py",
   "mimetype": "text/x-python",
   "name": "python",
   "nbconvert_exporter": "python",
   "pygments_lexer": "ipython3",
   "version": "3.5.2"
  }
 },
 "nbformat": 4,
 "nbformat_minor": 2
}
