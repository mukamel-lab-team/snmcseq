{
 "cells": [
  {
   "cell_type": "code",
   "execution_count": 1,
   "metadata": {},
   "outputs": [],
   "source": [
    "import pandas as pd\n",
    "import numpy as np\n",
    "import matplotlib.pyplot as plt\n",
    "import seaborn as sns\n",
    "from collections import OrderedDict\n",
    "\n",
    "import regex as re\n",
    "\n",
    "import my_utils as utils\n",
    "from my_utils import create_logger"
   ]
  },
  {
   "cell_type": "code",
   "execution_count": 2,
   "metadata": {},
   "outputs": [],
   "source": [
    "# get sequences\n",
    "dict_seq = utils.get_sequences('mm10', X=True, Y=True, M=True)"
   ]
  },
  {
   "cell_type": "code",
   "execution_count": 2,
   "metadata": {},
   "outputs": [
    {
     "data": {
      "text/html": [
       "<div>\n",
       "<style>\n",
       "    .dataframe thead tr:only-child th {\n",
       "        text-align: right;\n",
       "    }\n",
       "\n",
       "    .dataframe thead th {\n",
       "        text-align: left;\n",
       "    }\n",
       "\n",
       "    .dataframe tbody tr th {\n",
       "        vertical-align: top;\n",
       "    }\n",
       "</style>\n",
       "<table border=\"1\" class=\"dataframe\">\n",
       "  <thead>\n",
       "    <tr style=\"text-align: right;\">\n",
       "      <th></th>\n",
       "      <th>size</th>\n",
       "    </tr>\n",
       "  </thead>\n",
       "  <tbody>\n",
       "    <tr>\n",
       "      <th>1</th>\n",
       "      <td>195471971</td>\n",
       "    </tr>\n",
       "    <tr>\n",
       "      <th>2</th>\n",
       "      <td>182113224</td>\n",
       "    </tr>\n",
       "    <tr>\n",
       "      <th>3</th>\n",
       "      <td>160039680</td>\n",
       "    </tr>\n",
       "    <tr>\n",
       "      <th>4</th>\n",
       "      <td>156508116</td>\n",
       "    </tr>\n",
       "    <tr>\n",
       "      <th>5</th>\n",
       "      <td>151834684</td>\n",
       "    </tr>\n",
       "  </tbody>\n",
       "</table>\n",
       "</div>"
      ],
      "text/plain": [
       "        size\n",
       "1  195471971\n",
       "2  182113224\n",
       "3  160039680\n",
       "4  156508116\n",
       "5  151834684"
      ]
     },
     "execution_count": 2,
     "metadata": {},
     "output_type": "execute_result"
    }
   ],
   "source": [
    "# get chroms and chrom sizes and ...j \n",
    "chroms = utils.get_chroms('mouse', X=True, Y=True, M=True, with_chr=False)\n",
    "df_chrom_sizes = utils.get_chrom_sizes('mm10', X=True, Y=True, M=True)\n",
    "df_chrom_sizes.head()"
   ]
  },
  {
   "cell_type": "code",
   "execution_count": 4,
   "metadata": {},
   "outputs": [
    {
     "name": "stdout",
     "output_type": "stream",
     "text": [
      "Imported genome sequences have the correct sizes!\n"
     ]
    }
   ],
   "source": [
    "# check if the imported sequences are correct\n",
    "for chrom, seq in dict_seq.items():\n",
    "    if len(seq) != df_chrom_sizes.loc[chrom, 'size']:\n",
    "        raise ValueError(\"Chromosome size doesn't match: chr{}\".format(chrom))\n",
    "print('Imported genome sequences have the correct sizes!')"
   ]
  },
  {
   "cell_type": "code",
   "execution_count": 6,
   "metadata": {},
   "outputs": [
    {
     "name": "stdout",
     "output_type": "stream",
     "text": [
      "(43735674, 4)\n"
     ]
    },
    {
     "data": {
      "text/html": [
       "<div>\n",
       "<style>\n",
       "    .dataframe thead tr:only-child th {\n",
       "        text-align: right;\n",
       "    }\n",
       "\n",
       "    .dataframe thead th {\n",
       "        text-align: left;\n",
       "    }\n",
       "\n",
       "    .dataframe tbody tr th {\n",
       "        vertical-align: top;\n",
       "    }\n",
       "</style>\n",
       "<table border=\"1\" class=\"dataframe\">\n",
       "  <thead>\n",
       "    <tr style=\"text-align: right;\">\n",
       "      <th></th>\n",
       "      <th>chr</th>\n",
       "      <th>context</th>\n",
       "      <th>pos</th>\n",
       "      <th>strand</th>\n",
       "    </tr>\n",
       "  </thead>\n",
       "  <tbody>\n",
       "    <tr>\n",
       "      <th>0</th>\n",
       "      <td>1</td>\n",
       "      <td>CGT</td>\n",
       "      <td>3000827</td>\n",
       "      <td>+</td>\n",
       "    </tr>\n",
       "    <tr>\n",
       "      <th>1</th>\n",
       "      <td>1</td>\n",
       "      <td>CGG</td>\n",
       "      <td>3000828</td>\n",
       "      <td>-</td>\n",
       "    </tr>\n",
       "    <tr>\n",
       "      <th>2</th>\n",
       "      <td>1</td>\n",
       "      <td>CGG</td>\n",
       "      <td>3001007</td>\n",
       "      <td>+</td>\n",
       "    </tr>\n",
       "    <tr>\n",
       "      <th>3</th>\n",
       "      <td>1</td>\n",
       "      <td>CGA</td>\n",
       "      <td>3001008</td>\n",
       "      <td>-</td>\n",
       "    </tr>\n",
       "    <tr>\n",
       "      <th>4</th>\n",
       "      <td>1</td>\n",
       "      <td>CGT</td>\n",
       "      <td>3001018</td>\n",
       "      <td>+</td>\n",
       "    </tr>\n",
       "  </tbody>\n",
       "</table>\n",
       "</div>"
      ],
      "text/plain": [
       "  chr context      pos strand\n",
       "0   1     CGT  3000827      +\n",
       "1   1     CGG  3000828      -\n",
       "2   1     CGG  3001007      +\n",
       "3   1     CGA  3001008      -\n",
       "4   1     CGT  3001018      +"
      ]
     },
     "execution_count": 6,
     "metadata": {},
     "output_type": "execute_result"
    }
   ],
   "source": [
    "# get all CpGs: primary key (chr, pos)\n",
    "# 1-based\n",
    "\n",
    "\n",
    "\n",
    "# for chrom, seq in dict_seq.items():\n",
    "\n",
    "dict_list = []\n",
    "pattern = 'CG'\n",
    "for chrom in chroms:\n",
    "    # No need to overlap with CG, but need to overlap with CC\n",
    "    for match in re.finditer(pattern, dict_seq[chrom], overlapped=False): \n",
    "        pos = match.span()[0] + 1   # 1-based\n",
    "        dict_list.append({'chr': chrom, 'pos': pos, \n",
    "                          'strand': '+', 'context': dict_seq[chrom][pos-1: pos+2]})\n",
    "        dict_list.append({'chr': chrom, 'pos': pos+1, \n",
    "                          'strand': '-', 'context': utils.complement(dict_seq[chrom][pos-2: pos+1][::-1])})\n",
    "        \n",
    "df_cg = pd.DataFrame(dict_list)\n",
    "print(df_cg.shape)\n",
    "df_cg.head()"
   ]
  },
  {
   "cell_type": "code",
   "execution_count": 7,
   "metadata": {},
   "outputs": [],
   "source": [
    "df_cg = df_cg[['chr', 'pos', 'strand', 'context']]\n",
    "df_cg.to_csv('/cndd/Public_Datasets/CEMBA/snmCSeq/References/Genome/mm10_all_cg.tsv', \n",
    "             sep='\\t', na_rep='NA', header=True, index=False)"
   ]
  },
  {
   "cell_type": "code",
   "execution_count": 23,
   "metadata": {},
   "outputs": [
    {
     "data": {
      "text/plain": [
       "'cba'"
      ]
     },
     "execution_count": 23,
     "metadata": {},
     "output_type": "execute_result"
    }
   ],
   "source": [
    "k = 'abc'\n",
    "k[::-1]"
   ]
  },
  {
   "cell_type": "code",
   "execution_count": null,
   "metadata": {},
   "outputs": [],
   "source": [
    "# get sequece-features of each CpG site (deprecated, see 00.sequence2features.py)\n",
    "\n",
    "# very slow\n",
    "ext_lengs = [5, 10, 20, 50, 100, 200, 500]\n",
    "\n",
    "dict_list = []\n",
    "for idx, row in df_cg.iterrows():\n",
    "    feature_dict = OrderedDict() \n",
    "    feature_dict['chr'] = row.chr\n",
    "    feature_dict['pos'] = row.pos\n",
    "    \n",
    "    for leng in ext_lengs: \n",
    "        seq = dict_seq[row.chr][row.pos-leng-1 : row.pos+leng]\n",
    "        feature_dict['n_cpg_{}'.format(str(leng))] = seq.count('CG')\n",
    "        feature_dict['n_gnc_{}'.format(str(leng))] = (seq.count('G') + seq.count('C'))/float(2*leng + 1)\n",
    "        \n",
    "    dict_list.append(feature_dict)\n",
    "    \n",
    "    if (idx % 1000000) == 0:\n",
    "        print(idx, idx/df_cg.shape[0])\n",
    "    \n",
    "df_cpg_info = pd.DataFrame(dict_list)"
   ]
  },
  {
   "cell_type": "code",
   "execution_count": null,
   "metadata": {},
   "outputs": [],
   "source": [
    "# examine features\n",
    "\n",
    "feature_f = './data/features/features_mm10_cpg_v1.tsv'\n",
    "df_cpg_info = pd.read_table(feature_f, index_col=['chr', 'pos'], dtype={'chr': object})\n",
    "print(df_cpg_info.shape)\n",
    "df_cpg_info.head()\n",
    "\n"
   ]
  },
  {
   "cell_type": "code",
   "execution_count": 5,
   "metadata": {},
   "outputs": [
    {
     "name": "stdout",
     "output_type": "stream",
     "text": [
      "(53379, 6)\n"
     ]
    },
    {
     "data": {
      "text/html": [
       "<div>\n",
       "<style>\n",
       "    .dataframe thead tr:only-child th {\n",
       "        text-align: right;\n",
       "    }\n",
       "\n",
       "    .dataframe thead th {\n",
       "        text-align: left;\n",
       "    }\n",
       "\n",
       "    .dataframe tbody tr th {\n",
       "        vertical-align: top;\n",
       "    }\n",
       "</style>\n",
       "<table border=\"1\" class=\"dataframe\">\n",
       "  <thead>\n",
       "    <tr style=\"text-align: right;\">\n",
       "      <th></th>\n",
       "      <th>gene_name</th>\n",
       "      <th>chr</th>\n",
       "      <th>start</th>\n",
       "      <th>end</th>\n",
       "      <th>strand</th>\n",
       "      <th>gene_type</th>\n",
       "    </tr>\n",
       "    <tr>\n",
       "      <th>gene_id</th>\n",
       "      <th></th>\n",
       "      <th></th>\n",
       "      <th></th>\n",
       "      <th></th>\n",
       "      <th></th>\n",
       "      <th></th>\n",
       "    </tr>\n",
       "  </thead>\n",
       "  <tbody>\n",
       "    <tr>\n",
       "      <th>ENSMUSG00000102693.1</th>\n",
       "      <td>4933401J01Rik</td>\n",
       "      <td>chr1</td>\n",
       "      <td>3073253</td>\n",
       "      <td>3074322</td>\n",
       "      <td>+</td>\n",
       "      <td>TEC</td>\n",
       "    </tr>\n",
       "    <tr>\n",
       "      <th>ENSMUSG00000064842.1</th>\n",
       "      <td>Gm26206</td>\n",
       "      <td>chr1</td>\n",
       "      <td>3102016</td>\n",
       "      <td>3102125</td>\n",
       "      <td>+</td>\n",
       "      <td>snRNA</td>\n",
       "    </tr>\n",
       "    <tr>\n",
       "      <th>ENSMUSG00000051951.5</th>\n",
       "      <td>Xkr4</td>\n",
       "      <td>chr1</td>\n",
       "      <td>3205901</td>\n",
       "      <td>3671498</td>\n",
       "      <td>-</td>\n",
       "      <td>protein_coding</td>\n",
       "    </tr>\n",
       "    <tr>\n",
       "      <th>ENSMUSG00000102851.1</th>\n",
       "      <td>Gm18956</td>\n",
       "      <td>chr1</td>\n",
       "      <td>3252757</td>\n",
       "      <td>3253236</td>\n",
       "      <td>+</td>\n",
       "      <td>processed_pseudogene</td>\n",
       "    </tr>\n",
       "    <tr>\n",
       "      <th>ENSMUSG00000103377.1</th>\n",
       "      <td>Gm37180</td>\n",
       "      <td>chr1</td>\n",
       "      <td>3365731</td>\n",
       "      <td>3368549</td>\n",
       "      <td>-</td>\n",
       "      <td>TEC</td>\n",
       "    </tr>\n",
       "  </tbody>\n",
       "</table>\n",
       "</div>"
      ],
      "text/plain": [
       "                          gene_name   chr    start      end strand  \\\n",
       "gene_id                                                              \n",
       "ENSMUSG00000102693.1  4933401J01Rik  chr1  3073253  3074322      +   \n",
       "ENSMUSG00000064842.1        Gm26206  chr1  3102016  3102125      +   \n",
       "ENSMUSG00000051951.5           Xkr4  chr1  3205901  3671498      -   \n",
       "ENSMUSG00000102851.1        Gm18956  chr1  3252757  3253236      +   \n",
       "ENSMUSG00000103377.1        Gm37180  chr1  3365731  3368549      -   \n",
       "\n",
       "                                 gene_type  \n",
       "gene_id                                     \n",
       "ENSMUSG00000102693.1                   TEC  \n",
       "ENSMUSG00000064842.1                 snRNA  \n",
       "ENSMUSG00000051951.5        protein_coding  \n",
       "ENSMUSG00000102851.1  processed_pseudogene  \n",
       "ENSMUSG00000103377.1                   TEC  "
      ]
     },
     "execution_count": 5,
     "metadata": {},
     "output_type": "execute_result"
    }
   ],
   "source": [
    "# gencode annotation \n",
    "# df_chrom_sizes.sum()\n",
    "f = '/cndd/Public_Datasets/CEMBA/snmCSeq/References/Annotation/gencode.vM16.annotation_genes.tsv'\n",
    "df_genes = pd.read_table(f, index_col='gene_id')\n",
    "print(df_genes.shape)\n",
    "df_genes.head()"
   ]
  },
  {
   "cell_type": "code",
   "execution_count": 16,
   "metadata": {},
   "outputs": [
    {
     "data": {
      "text/plain": [
       "size    0.391702\n",
       "dtype: float64"
      ]
     },
     "execution_count": 16,
     "metadata": {},
     "output_type": "execute_result"
    }
   ],
   "source": [
    "(df_genes.loc[df_genes['gene_type']=='protein_coding', 'end'] \n",
    " - df_genes.loc[df_genes['gene_type']=='protein_coding', 'start']).sum()/df_chrom_sizes.sum()"
   ]
  },
  {
   "cell_type": "code",
   "execution_count": 7,
   "metadata": {},
   "outputs": [
    {
     "data": {
      "text/plain": [
       "size    2725537669\n",
       "dtype: int64"
      ]
     },
     "execution_count": 7,
     "metadata": {},
     "output_type": "execute_result"
    }
   ],
   "source": [
    "df_chrom_sizes.sum()"
   ]
  },
  {
   "cell_type": "code",
   "execution_count": 14,
   "metadata": {},
   "outputs": [],
   "source": [
    "df_genes_new = df_genes[(~df_genes['gene_name'].str.contains('^Gm')) & (df_genes['gene_type'] == 'protein_coding')]"
   ]
  },
  {
   "cell_type": "code",
   "execution_count": 15,
   "metadata": {},
   "outputs": [
    {
     "data": {
      "text/plain": [
       "size    0.379122\n",
       "dtype: float64"
      ]
     },
     "execution_count": 15,
     "metadata": {},
     "output_type": "execute_result"
    }
   ],
   "source": [
    "(df_genes_new.loc[:, 'end'] \n",
    " - df_genes.loc[:, 'start']).sum()/df_chrom_sizes.sum()"
   ]
  },
  {
   "cell_type": "code",
   "execution_count": 21,
   "metadata": {},
   "outputs": [],
   "source": [
    "overlaps_all = 0\n",
    "for chrom, df_sub in df_genes.groupby('chr'):\n",
    "    overlaps = 0\n",
    "    for i, (idx, row) in enumerate(df_sub.iterrows()):\n",
    "        if i == 0:\n",
    "            last_end = row.end\n",
    "        else:\n",
    "            overlap = last_end - row.start\n",
    "            if overlap > 0:\n",
    "                overlaps += overlap\n",
    "\n",
    "            last_end = row.end\n",
    "    overlaps_all += overlaps\n",
    "        \n",
    "    \n",
    "    "
   ]
  },
  {
   "cell_type": "code",
   "execution_count": 22,
   "metadata": {},
   "outputs": [
    {
     "data": {
      "text/plain": [
       "size    0.192927\n",
       "dtype: float64"
      ]
     },
     "execution_count": 22,
     "metadata": {},
     "output_type": "execute_result"
    }
   ],
   "source": [
    "overlaps_all/df_chrom_sizes.sum()"
   ]
  },
  {
   "cell_type": "code",
   "execution_count": null,
   "metadata": {},
   "outputs": [],
   "source": []
  }
 ],
 "metadata": {
  "kernelspec": {
   "display_name": "Python 3",
   "language": "python",
   "name": "python3"
  },
  "language_info": {
   "codemirror_mode": {
    "name": "ipython",
    "version": 3
   },
   "file_extension": ".py",
   "mimetype": "text/x-python",
   "name": "python",
   "nbconvert_exporter": "python",
   "pygments_lexer": "ipython3",
   "version": "3.4.3"
  }
 },
 "nbformat": 4,
 "nbformat_minor": 2
}
