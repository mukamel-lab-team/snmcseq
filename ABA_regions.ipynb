{
 "cells": [
  {
   "cell_type": "code",
   "execution_count": 1,
   "metadata": {},
   "outputs": [],
   "source": [
    "from __init__ import *\n",
    "from CEMBA_update_mysql import connect_sql"
   ]
  },
  {
   "cell_type": "code",
   "execution_count": 2,
   "metadata": {},
   "outputs": [],
   "source": [
    "database = 'CEMBA'\n",
    "engine = connect_sql(database)"
   ]
  },
  {
   "cell_type": "code",
   "execution_count": 6,
   "metadata": {},
   "outputs": [
    {
     "name": "stdout",
     "output_type": "stream",
     "text": [
      "(118, 3)\n"
     ]
    },
    {
     "data": {
      "text/html": [
       "<div>\n",
       "<style>\n",
       "    .dataframe thead tr:only-child th {\n",
       "        text-align: right;\n",
       "    }\n",
       "\n",
       "    .dataframe thead th {\n",
       "        text-align: left;\n",
       "    }\n",
       "\n",
       "    .dataframe tbody tr th {\n",
       "        vertical-align: top;\n",
       "    }\n",
       "</style>\n",
       "<table border=\"1\" class=\"dataframe\">\n",
       "  <thead>\n",
       "    <tr style=\"text-align: right;\">\n",
       "      <th></th>\n",
       "      <th>code</th>\n",
       "      <th>ABA_acronym</th>\n",
       "      <th>ABA_description</th>\n",
       "    </tr>\n",
       "  </thead>\n",
       "  <tbody>\n",
       "    <tr>\n",
       "      <th>0</th>\n",
       "      <td>1A</td>\n",
       "      <td>MOs</td>\n",
       "      <td>Secondary motor area</td>\n",
       "    </tr>\n",
       "    <tr>\n",
       "      <th>1</th>\n",
       "      <td>1B</td>\n",
       "      <td>ORB+FKP</td>\n",
       "      <td>Orbital area</td>\n",
       "    </tr>\n",
       "    <tr>\n",
       "      <th>2</th>\n",
       "      <td>1C</td>\n",
       "      <td>MOB+AOB+AON</td>\n",
       "      <td>Main olifactory bulb+Accessory olifactory bulb...</td>\n",
       "    </tr>\n",
       "    <tr>\n",
       "      <th>3</th>\n",
       "      <td>2A</td>\n",
       "      <td>ACA+PL+IL</td>\n",
       "      <td>Anterior cingulate area+Prelimbic area+Infrali...</td>\n",
       "    </tr>\n",
       "    <tr>\n",
       "      <th>4</th>\n",
       "      <td>2B</td>\n",
       "      <td>MOs</td>\n",
       "      <td>Secondary motor area</td>\n",
       "    </tr>\n",
       "  </tbody>\n",
       "</table>\n",
       "</div>"
      ],
      "text/plain": [
       "  code  ABA_acronym                                    ABA_description\n",
       "0   1A          MOs                               Secondary motor area\n",
       "1   1B      ORB+FKP                                       Orbital area\n",
       "2   1C  MOB+AOB+AON  Main olifactory bulb+Accessory olifactory bulb...\n",
       "3   2A    ACA+PL+IL  Anterior cingulate area+Prelimbic area+Infrali...\n",
       "4   2B          MOs                               Secondary motor area"
      ]
     },
     "execution_count": 6,
     "metadata": {},
     "output_type": "execute_result"
    }
   ],
   "source": [
    "sql = \"\"\"SELECT * FROM ABA_regions \n",
    "\"\"\"\n",
    "df = pd.read_sql(sql, engine)\n",
    "print(df.shape)\n",
    "df.head()"
   ]
  },
  {
   "cell_type": "code",
   "execution_count": 8,
   "metadata": {},
   "outputs": [],
   "source": [
    "df.to_csv(os.path.join(PATH_REFERENCES, 'Brain_regions', 'ABA_brain_regions.tsv'), sep='\\t', na_rep='NA', header=True, index=False)"
   ]
  },
  {
   "cell_type": "code",
   "execution_count": 11,
   "metadata": {},
   "outputs": [
    {
     "data": {
      "text/html": [
       "<div>\n",
       "<style>\n",
       "    .dataframe thead tr:only-child th {\n",
       "        text-align: right;\n",
       "    }\n",
       "\n",
       "    .dataframe thead th {\n",
       "        text-align: left;\n",
       "    }\n",
       "\n",
       "    .dataframe tbody tr th {\n",
       "        vertical-align: top;\n",
       "    }\n",
       "</style>\n",
       "<table border=\"1\" class=\"dataframe\">\n",
       "  <thead>\n",
       "    <tr style=\"text-align: right;\">\n",
       "      <th></th>\n",
       "      <th>Code</th>\n",
       "      <th>Region name</th>\n",
       "      <th>Descriptive name</th>\n",
       "      <th>Corresponding dissected regions</th>\n",
       "    </tr>\n",
       "  </thead>\n",
       "  <tbody>\n",
       "    <tr>\n",
       "      <th>1</th>\n",
       "      <td>A</td>\n",
       "      <td>MOp</td>\n",
       "      <td>Primary motor area</td>\n",
       "      <td>,2C,3C,4B,5D,</td>\n",
       "    </tr>\n",
       "    <tr>\n",
       "      <th>2</th>\n",
       "      <td>B</td>\n",
       "      <td>SSp</td>\n",
       "      <td>Primary somatosensory area</td>\n",
       "      <td>,4C,5B,6B,7B,8B,</td>\n",
       "    </tr>\n",
       "    <tr>\n",
       "      <th>3</th>\n",
       "      <td>C</td>\n",
       "      <td>ACA</td>\n",
       "      <td>Anterior cingulate area</td>\n",
       "      <td>,2A,3A,4A,5A,6A,</td>\n",
       "    </tr>\n",
       "    <tr>\n",
       "      <th>4</th>\n",
       "      <td>D</td>\n",
       "      <td>AI</td>\n",
       "      <td>Agranular insular area</td>\n",
       "      <td>,3D,</td>\n",
       "    </tr>\n",
       "    <tr>\n",
       "      <th>5</th>\n",
       "      <td>E</td>\n",
       "      <td>AUDp</td>\n",
       "      <td>Dorsal auditory area</td>\n",
       "      <td>,9D,10C,11C,</td>\n",
       "    </tr>\n",
       "  </tbody>\n",
       "</table>\n",
       "</div>"
      ],
      "text/plain": [
       "  Code Region name            Descriptive name Corresponding dissected regions\n",
       "1    A         MOp          Primary motor area                   ,2C,3C,4B,5D,\n",
       "2    B         SSp  Primary somatosensory area                ,4C,5B,6B,7B,8B,\n",
       "3    C         ACA     Anterior cingulate area                ,2A,3A,4A,5A,6A,\n",
       "4    D          AI      Agranular insular area                            ,3D,\n",
       "5    E        AUDp        Dorsal auditory area                    ,9D,10C,11C,"
      ]
     },
     "execution_count": 11,
     "metadata": {},
     "output_type": "execute_result"
    }
   ],
   "source": [
    "f = os.path.join(PATH_REFERENCES, 'Brain_regions', 'RS2_injection_regions.tsv')\n",
    "df = pd.read_table(f)\n",
    "df_new = df.drop(0)[['Code', 'Region name', 'Descriptive name', 'Corresponding dissected regions']]\n",
    "df_new.head()"
   ]
  },
  {
   "cell_type": "code",
   "execution_count": 12,
   "metadata": {},
   "outputs": [],
   "source": [
    "df_new.to_csv(os.path.join(PATH_REFERENCES, 'Brain_regions', 'RS2_injection_regions.tsv'), \n",
    "              sep='\\t', na_rep='NA', header=True, index=False)"
   ]
  },
  {
   "cell_type": "code",
   "execution_count": null,
   "metadata": {},
   "outputs": [],
   "source": []
  }
 ],
 "metadata": {
  "kernelspec": {
   "display_name": "Python 3",
   "language": "python",
   "name": "python3"
  },
  "language_info": {
   "codemirror_mode": {
    "name": "ipython",
    "version": 3
   },
   "file_extension": ".py",
   "mimetype": "text/x-python",
   "name": "python",
   "nbconvert_exporter": "python",
   "pygments_lexer": "ipython3",
   "version": "3.4.3"
  }
 },
 "nbformat": 4,
 "nbformat_minor": 2
}
