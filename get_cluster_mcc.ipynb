{
 "cells": [
  {
   "cell_type": "code",
   "execution_count": 5,
   "metadata": {},
   "outputs": [],
   "source": [
    "# from __init__ import * \n",
    "from snmcseq_utils import create_logger\n",
    "from snmcseq_utils import get_cluster_mc_c \n",
    "# from CEMBA_update_mysql import connect_sql\n",
    "# from CEMBA_init_ensemble_v2 import pull_genebody_info\n",
    "# from CEMBA_init_ensemble_v2 import pull_binc_info"
   ]
  },
  {
   "cell_type": "code",
   "execution_count": 6,
   "metadata": {},
   "outputs": [],
   "source": [
    "log = create_logger()"
   ]
  },
  {
   "cell_type": "code",
   "execution_count": null,
   "metadata": {},
   "outputs": [
    {
     "name": "stderr",
     "output_type": "stream",
     "text": [
      "02/28/2018 05:04:55 PM Pulling genebody information (1202 cells)...\n",
      "02/28/2018 05:04:55 PM /cndd/Public_Datasets/CEMBA/snmCSeq/Ensembles/Ens1/gene_level created!\n",
      "02/28/2018 05:04:55 PM Loaded cell: 171213_CEMBA_mm_P56_P63_3C_MOp_CEMBA171206_3C_4_CEMBA171206_3C_5_A11_AD002_indexed (1/1202)\n",
      "02/28/2018 05:04:55 PM Loaded cell: 171213_CEMBA_mm_P56_P63_3C_MOp_CEMBA171206_3C_1_CEMBA171206_3C_3_G4_AD008_indexed (2/1202)\n",
      "02/28/2018 05:04:55 PM Loaded cell: 171213_CEMBA_mm_P56_P63_3C_MOp_CEMBA171206_3C_1_CEMBA171206_3C_3_C3_AD002_indexed (3/1202)\n",
      "02/28/2018 05:04:55 PM Loaded cell: 171213_CEMBA_mm_P56_P63_3C_MOp_CEMBA171206_3C_1_CEMBA171206_3C_3_H3_AD002_indexed (4/1202)\n",
      "02/28/2018 05:04:55 PM Loaded cell: 171213_CEMBA_mm_P56_P63_3C_MOp_CEMBA171206_3C_4_CEMBA171206_3C_5_B7_AD002_indexed (5/1202)\n",
      "02/28/2018 05:04:56 PM Loaded cell: 171213_CEMBA_mm_P56_P63_3C_MOp_CEMBA171206_3C_4_CEMBA171206_3C_5_E8_AD001_indexed (6/1202)\n",
      "02/28/2018 05:04:56 PM Loaded cell: 171213_CEMBA_mm_P56_P63_3C_MOp_CEMBA171206_3C_1_CEMBA171206_3C_3_A3_AD001_indexed (7/1202)\n",
      "02/28/2018 05:04:56 PM Loaded cell: 171213_CEMBA_mm_P56_P63_3C_MOp_CEMBA171206_3C_1_CEMBA171206_3C_3_C9_AD012_indexed (8/1202)\n",
      "02/28/2018 05:04:56 PM Loaded cell: 171213_CEMBA_mm_P56_P63_3C_MOp_CEMBA171206_3C_4_CEMBA171206_3C_5_G2_AD012_indexed (9/1202)\n",
      "02/28/2018 05:04:56 PM Loaded cell: 171213_CEMBA_mm_P56_P63_3C_MOp_CEMBA171206_3C_1_CEMBA171206_3C_3_E3_AD007_indexed (10/1202)\n",
      "02/28/2018 05:04:56 PM Loaded cell: 171213_CEMBA_mm_P56_P63_3C_MOp_CEMBA171206_3C_4_CEMBA171206_3C_5_F7_AD004_indexed (11/1202)\n",
      "02/28/2018 05:04:56 PM Loaded cell: 171213_CEMBA_mm_P56_P63_3C_MOp_CEMBA171206_3C_4_CEMBA171206_3C_5_D11_AD006_indexed (12/1202)\n",
      "02/28/2018 05:04:56 PM Loaded cell: 171213_CEMBA_mm_P56_P63_3C_MOp_CEMBA171206_3C_4_CEMBA171206_3C_5_D8_AD010_indexed (13/1202)\n",
      "02/28/2018 05:04:56 PM Loaded cell: 171213_CEMBA_mm_P56_P63_3C_MOp_CEMBA171206_3C_4_CEMBA171206_3C_5_A7_AD010_indexed (14/1202)\n",
      "02/28/2018 05:04:56 PM Loaded cell: 171213_CEMBA_mm_P56_P63_3C_MOp_CEMBA171206_3C_1_CEMBA171206_3C_3_D9_AD006_indexed (15/1202)\n"
     ]
    }
   ],
   "source": [
    "ens = 'Ens1'\n",
    "context = 'CH'\n",
    "df = get_cluster_mc_c(ens, context, genome_regions='genebody', cluster_type='mCHmCG_lv_npc50_k30', database='CEMBA')"
   ]
  },
  {
   "cell_type": "code",
   "execution_count": null,
   "metadata": {},
   "outputs": [],
   "source": []
  }
 ],
 "metadata": {
  "kernelspec": {
   "display_name": "Python 3",
   "language": "python",
   "name": "python3"
  },
  "language_info": {
   "codemirror_mode": {
    "name": "ipython",
    "version": 3
   },
   "file_extension": ".py",
   "mimetype": "text/x-python",
   "name": "python",
   "nbconvert_exporter": "python",
   "pygments_lexer": "ipython3",
   "version": "3.4.3"
  }
 },
 "nbformat": 4,
 "nbformat_minor": 2
}
