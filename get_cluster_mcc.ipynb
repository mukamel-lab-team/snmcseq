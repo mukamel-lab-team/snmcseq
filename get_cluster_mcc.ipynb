{
 "cells": [
  {
   "cell_type": "code",
   "execution_count": 1,
   "metadata": {},
   "outputs": [],
   "source": [
    "# from __init__ import * \n",
    "from snmcseq_utils import create_logger\n",
    "from snmcseq_utils import get_cluster_mc_c\n",
    "# from CEMBA_update_mysql import connect_sql\n",
    "# from CEMBA_init_ensemble_v2 import pull_genebody_info\n",
    "# from CEMBA_init_ensemble_v2 import pull_binc_info"
   ]
  },
  {
   "cell_type": "code",
   "execution_count": 2,
   "metadata": {},
   "outputs": [],
   "source": [
    "log = create_logger()"
   ]
  },
  {
   "cell_type": "code",
   "execution_count": 4,
   "metadata": {},
   "outputs": [
    {
     "name": "stderr",
     "output_type": "stream",
     "text": [
      "03/19/2018 11:15:07 AM Output shape: (51772, 52)\n"
     ]
    }
   ],
   "source": [
    "ens = 'Ens10'\n",
    "context = 'CH'\n",
    "df = get_cluster_mc_c(ens, context, genome_regions='genebody', cluster_type='mCHmCG_lv_npc50_k30', database='CEMBA')"
   ]
  },
  {
   "cell_type": "code",
   "execution_count": null,
   "metadata": {},
   "outputs": [],
   "source": []
  }
 ],
 "metadata": {
  "kernelspec": {
   "display_name": "Python 3",
   "language": "python",
   "name": "python3"
  },
  "language_info": {
   "codemirror_mode": {
    "name": "ipython",
    "version": 3
   },
   "file_extension": ".py",
   "mimetype": "text/x-python",
   "name": "python",
   "nbconvert_exporter": "python",
   "pygments_lexer": "ipython3",
   "version": "3.4.3"
  }
 },
 "nbformat": 4,
 "nbformat_minor": 2
}
