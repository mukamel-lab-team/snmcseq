{
 "cells": [
  {
   "cell_type": "code",
   "execution_count": 4,
   "metadata": {},
   "outputs": [],
   "source": [
    "import sqlalchemy as sa\n",
    "import pandas as pd\n",
    "\n",
    "from __init__ import *\n",
    "from CEMBA_update_mysql import *"
   ]
  },
  {
   "cell_type": "code",
   "execution_count": 50,
   "metadata": {},
   "outputs": [
    {
     "name": "stdout",
     "output_type": "stream",
     "text": [
      "SELECT cell_name FROM cells WHERE dataset LIKE 'CEMBA_4B_%'\n"
     ]
    }
   ],
   "source": [
    "engine = connect_sql('CEMBA')\n",
    "sql = \"\"\"SELECT cell_name FROM cells WHERE dataset IN ('CEMBA_4B_171212', 'CEMBA_4B_171213')\"\"\"\n",
    "# sql = \"\"\"SELECT cell_name FROM cells WHERE dataset LIKE 'CEMBA%'\"\"\"\n",
    "sql = \"\"\"SELECT cell_name FROM cells WHERE dataset LIKE 'CEMBA_4B_%'\"\"\"\n",
    "print(sql)\n",
    "\n",
    "# python needs \"%%\" to recognize \"%\" as pure percent sign\n",
    "sql = sql.replace(\"%\", \"%%\")"
   ]
  },
  {
   "cell_type": "code",
   "execution_count": 57,
   "metadata": {
    "scrolled": true
   },
   "outputs": [
    {
     "name": "stdout",
     "output_type": "stream",
     "text": [
      "(1557, 1)\n"
     ]
    },
    {
     "data": {
      "text/html": [
       "<div>\n",
       "<style>\n",
       "    .dataframe thead tr:only-child th {\n",
       "        text-align: right;\n",
       "    }\n",
       "\n",
       "    .dataframe thead th {\n",
       "        text-align: left;\n",
       "    }\n",
       "\n",
       "    .dataframe tbody tr th {\n",
       "        vertical-align: top;\n",
       "    }\n",
       "</style>\n",
       "<table border=\"1\" class=\"dataframe\">\n",
       "  <thead>\n",
       "    <tr style=\"text-align: right;\">\n",
       "      <th></th>\n",
       "      <th>cell_name</th>\n",
       "    </tr>\n",
       "  </thead>\n",
       "  <tbody>\n",
       "    <tr>\n",
       "      <th>0</th>\n",
       "      <td>171219_CEMBA_mm_P56_P63_4B_CEMBA171212_4B_3_CE...</td>\n",
       "    </tr>\n",
       "    <tr>\n",
       "      <th>1</th>\n",
       "      <td>171219_CEMBA_mm_P56_P63_4B_CEMBA171212_4B_3_CE...</td>\n",
       "    </tr>\n",
       "    <tr>\n",
       "      <th>2</th>\n",
       "      <td>171219_CEMBA_mm_P56_P63_4B_CEMBA171212_4B_1_CE...</td>\n",
       "    </tr>\n",
       "    <tr>\n",
       "      <th>3</th>\n",
       "      <td>171219_CEMBA_mm_P56_P63_4B_CEMBA171212_4B_3_CE...</td>\n",
       "    </tr>\n",
       "    <tr>\n",
       "      <th>4</th>\n",
       "      <td>171219_CEMBA_mm_P56_P63_4B_CEMBA171212_4B_1_CE...</td>\n",
       "    </tr>\n",
       "  </tbody>\n",
       "</table>\n",
       "</div>"
      ],
      "text/plain": [
       "                                           cell_name\n",
       "0  171219_CEMBA_mm_P56_P63_4B_CEMBA171212_4B_3_CE...\n",
       "1  171219_CEMBA_mm_P56_P63_4B_CEMBA171212_4B_3_CE...\n",
       "2  171219_CEMBA_mm_P56_P63_4B_CEMBA171212_4B_1_CE...\n",
       "3  171219_CEMBA_mm_P56_P63_4B_CEMBA171212_4B_3_CE...\n",
       "4  171219_CEMBA_mm_P56_P63_4B_CEMBA171212_4B_1_CE..."
      ]
     },
     "execution_count": 57,
     "metadata": {},
     "output_type": "execute_result"
    }
   ],
   "source": [
    "df = pd.read_sql(sql, engine) \n",
    "print(df.shape)\n",
    "df.head()"
   ]
  },
  {
   "cell_type": "code",
   "execution_count": 59,
   "metadata": {},
   "outputs": [
    {
     "name": "stdout",
     "output_type": "stream",
     "text": [
      "(1570, 7)\n"
     ]
    },
    {
     "data": {
      "text/html": [
       "<div>\n",
       "<style>\n",
       "    .dataframe thead tr:only-child th {\n",
       "        text-align: right;\n",
       "    }\n",
       "\n",
       "    .dataframe thead th {\n",
       "        text-align: left;\n",
       "    }\n",
       "\n",
       "    .dataframe tbody tr th {\n",
       "        vertical-align: top;\n",
       "    }\n",
       "</style>\n",
       "<table border=\"1\" class=\"dataframe\">\n",
       "  <thead>\n",
       "    <tr style=\"text-align: right;\">\n",
       "      <th></th>\n",
       "      <th>gene_id</th>\n",
       "      <th>gene_name</th>\n",
       "      <th>chr</th>\n",
       "      <th>start</th>\n",
       "      <th>end</th>\n",
       "      <th>strand</th>\n",
       "      <th>gene_type</th>\n",
       "    </tr>\n",
       "  </thead>\n",
       "  <tbody>\n",
       "    <tr>\n",
       "      <th>0</th>\n",
       "      <td>ENSMUSG00000000103.12</td>\n",
       "      <td>Zfy2</td>\n",
       "      <td>chrY</td>\n",
       "      <td>2106015</td>\n",
       "      <td>2170409</td>\n",
       "      <td>-</td>\n",
       "      <td>protein_coding</td>\n",
       "    </tr>\n",
       "    <tr>\n",
       "      <th>1</th>\n",
       "      <td>ENSMUSG00000053211.10</td>\n",
       "      <td>Zfy1</td>\n",
       "      <td>chrY</td>\n",
       "      <td>725128</td>\n",
       "      <td>797409</td>\n",
       "      <td>-</td>\n",
       "      <td>protein_coding</td>\n",
       "    </tr>\n",
       "    <tr>\n",
       "      <th>2</th>\n",
       "      <td>ENSMUSG00000056673.14</td>\n",
       "      <td>Kdm5d</td>\n",
       "      <td>chrY</td>\n",
       "      <td>897788</td>\n",
       "      <td>956786</td>\n",
       "      <td>+</td>\n",
       "      <td>protein_coding</td>\n",
       "    </tr>\n",
       "    <tr>\n",
       "      <th>3</th>\n",
       "      <td>ENSMUSG00000068457.14</td>\n",
       "      <td>Uty</td>\n",
       "      <td>chrY</td>\n",
       "      <td>1096861</td>\n",
       "      <td>1245759</td>\n",
       "      <td>-</td>\n",
       "      <td>protein_coding</td>\n",
       "    </tr>\n",
       "    <tr>\n",
       "      <th>4</th>\n",
       "      <td>ENSMUSG00000069036.3</td>\n",
       "      <td>Sry</td>\n",
       "      <td>chrY</td>\n",
       "      <td>2662471</td>\n",
       "      <td>2663658</td>\n",
       "      <td>-</td>\n",
       "      <td>protein_coding</td>\n",
       "    </tr>\n",
       "  </tbody>\n",
       "</table>\n",
       "</div>"
      ],
      "text/plain": [
       "                 gene_id gene_name   chr    start      end strand  \\\n",
       "0  ENSMUSG00000000103.12      Zfy2  chrY  2106015  2170409      -   \n",
       "1  ENSMUSG00000053211.10      Zfy1  chrY   725128   797409      -   \n",
       "2  ENSMUSG00000056673.14     Kdm5d  chrY   897788   956786      +   \n",
       "3  ENSMUSG00000068457.14       Uty  chrY  1096861  1245759      -   \n",
       "4   ENSMUSG00000069036.3       Sry  chrY  2662471  2663658      -   \n",
       "\n",
       "        gene_type  \n",
       "0  protein_coding  \n",
       "1  protein_coding  \n",
       "2  protein_coding  \n",
       "3  protein_coding  \n",
       "4  protein_coding  "
      ]
     },
     "execution_count": 59,
     "metadata": {},
     "output_type": "execute_result"
    }
   ],
   "source": [
    "sql = '''SELECT * FROM genes WHERE chr=\"chrY\"'''\n",
    "df = pd.read_sql(sql, engine)\n",
    "print(df.shape)\n",
    "df.head()"
   ]
  },
  {
   "cell_type": "code",
   "execution_count": 1,
   "metadata": {},
   "outputs": [
    {
     "name": "stderr",
     "output_type": "stream",
     "text": [
      " * Running on http://127.0.0.1:8050/ (Press CTRL+C to quit)\n",
      " * Restarting with stat\n"
     ]
    },
    {
     "ename": "SystemExit",
     "evalue": "1",
     "output_type": "error",
     "traceback": [
      "An exception has occurred, use %tb to see the full traceback.\n",
      "\u001b[0;31mSystemExit\u001b[0m\u001b[0;31m:\u001b[0m 1\n"
     ]
    },
    {
     "name": "stderr",
     "output_type": "stream",
     "text": [
      "/cndd/fangming/venvs/venv_dobro_snmcseq/lib/python3.5/site-packages/IPython/core/interactiveshell.py:2870: UserWarning:\n",
      "\n",
      "To exit: use 'exit', 'quit', or Ctrl-D.\n",
      "\n"
     ]
    }
   ],
   "source": [
    "import dash\n",
    "import dash_core_components as dcc\n",
    "import dash_html_components as html\n",
    "\n",
    "app = dash.Dash()\n",
    "\n",
    "app.layout = html.Div(children=[\n",
    "    html.H1(children='Hello Dash'),\n",
    "\n",
    "    html.Div(children='''\n",
    "        Dash: A web application framework for Python.\n",
    "    '''),\n",
    "\n",
    "    dcc.Graph(\n",
    "        id='example-graph',\n",
    "        figure={\n",
    "            'data': [\n",
    "                {'x': [1, 2, 3], 'y': [4, 1, 2], 'type': 'bar', 'name': 'SF'},\n",
    "                {'x': [1, 2, 3], 'y': [2, 4, 5], 'type': 'bar', 'name': u'Montréal'},\n",
    "            ],\n",
    "            'layout': {\n",
    "                'title': 'Dash Data Visualization'\n",
    "            }\n",
    "        }\n",
    "    )\n",
    "])\n",
    "\n",
    "if __name__ == '__main__':\n",
    "    app.run_server(debug=True)"
   ]
  },
  {
   "cell_type": "code",
   "execution_count": null,
   "metadata": {},
   "outputs": [],
   "source": []
  }
 ],
 "metadata": {
  "kernelspec": {
   "display_name": "Python 3",
   "language": "python",
   "name": "python3"
  },
  "language_info": {
   "codemirror_mode": {
    "name": "ipython",
    "version": 3
   },
   "file_extension": ".py",
   "mimetype": "text/x-python",
   "name": "python",
   "nbconvert_exporter": "python",
   "pygments_lexer": "ipython3",
   "version": "3.5.2"
  }
 },
 "nbformat": 4,
 "nbformat_minor": 2
}
