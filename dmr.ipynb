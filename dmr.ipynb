{
 "cells": [
  {
   "cell_type": "code",
   "execution_count": 33,
   "metadata": {},
   "outputs": [],
   "source": [
    "from __init__ import *\n",
    "from snmcseq_utils import create_logger\n",
    "from CEMBA_update_mysql import connect_sql\n"
   ]
  },
  {
   "cell_type": "code",
   "execution_count": 34,
   "metadata": {},
   "outputs": [
    {
     "name": "stderr",
     "output_type": "stream",
     "text": [
      "03/04/2018 07:56:27 PM Hello\n"
     ]
    }
   ],
   "source": [
    "log = create_logger()\n",
    "log.info(\"Hello\")"
   ]
  },
  {
   "cell_type": "code",
   "execution_count": 36,
   "metadata": {},
   "outputs": [],
   "source": [
    "ens = 'Ens1'\n",
    "cluster_type = 'cluster_mCHmCG_lv_npc50_k30'\n",
    "annotation_type = 'annotation' + cluster_type[len('cluster'):]\n",
    "engine = connect_sql('CEMBA')\n",
    "\n",
    "# cluster annotation\n",
    "sql = \"\"\"SELECT {}, {} FROM {}\"\"\".format(cluster_type, annotation_type, ens)\n",
    "df_info = pd.read_sql(sql, engine)\n",
    "df_info = df_info.sort_values(cluster_type).drop_duplicates().set_index(cluster_type)\n",
    "\n",
    "ens_path = os.path.join(PATH_ENSEMBLES, ens)\n",
    "n_clusters = len(glob.glob(os.path.join(ens_path, 'allc_merged/allc_merged_mCG_{}_*_{}.tsv'.format(cluster_type, ens))))\n",
    "\n",
    "# dmr results\n",
    "input_f = os.path.join(ens_path, 'dmr/dmr_allc_merged_mCG_{}_rms_results_collapsed.tsv'.format(cluster_type))\n",
    "df = pd.read_table(input_f, index_col=['#chr', 'start', 'end'], dtype={'#chr': object})"
   ]
  },
  {
   "cell_type": "code",
   "execution_count": 37,
   "metadata": {},
   "outputs": [],
   "source": [
    "def dmr_counts(ens, n_clusters, cluster_type, df, keys=['hypomethylated_samples', 'hypermethylated_samples']):\n",
    "    \"\"\"\n",
    "    cluster_type examples:\n",
    "    cluster_type = 'cluster_mCHmCG_lv_npc50_k30'\n",
    "    \n",
    "    \"\"\"\n",
    "    res_out = []\n",
    "    for key in keys:\n",
    "        res_key = []\n",
    "        res = df.loc[~df[key].isnull(), key].apply(lambda x: x.split(','))\n",
    "        for i in range(n_clusters):\n",
    "            res_cluster = res.loc[\n",
    "                res.apply(lambda x: ('merged_mCG_{}_{}_{}'.format(cluster_type, i+1, ens) in x))]\n",
    "            res_key.append({cluster_type: i+1, 'n_dmr_{}'.format(key[:4]): res_cluster.shape[0]})\n",
    "        res_key = pd.DataFrame(res_key).set_index(cluster_type)\n",
    "        res_out.append(res_key)\n",
    "    return pd.concat(res_out, axis=1)"
   ]
  },
  {
   "cell_type": "code",
   "execution_count": 38,
   "metadata": {},
   "outputs": [],
   "source": [
    "df_ndmr = dmr_counts(ens, n_clusters, cluster_type, df)\n",
    "df_ndmr = pd.merge(df_info, df_ndmr, left_index=True, right_index=True)"
   ]
  },
  {
   "cell_type": "code",
   "execution_count": 39,
   "metadata": {},
   "outputs": [
    {
     "data": {
      "text/html": [
       "<div>\n",
       "<style>\n",
       "    .dataframe thead tr:only-child th {\n",
       "        text-align: right;\n",
       "    }\n",
       "\n",
       "    .dataframe thead th {\n",
       "        text-align: left;\n",
       "    }\n",
       "\n",
       "    .dataframe tbody tr th {\n",
       "        vertical-align: top;\n",
       "    }\n",
       "</style>\n",
       "<table border=\"1\" class=\"dataframe\">\n",
       "  <thead>\n",
       "    <tr style=\"text-align: right;\">\n",
       "      <th></th>\n",
       "      <th>annotation_mCHmCG_lv_npc50_k30</th>\n",
       "      <th>n_dmr_hypo</th>\n",
       "      <th>n_dmr_hype</th>\n",
       "    </tr>\n",
       "    <tr>\n",
       "      <th>cluster_mCHmCG_lv_npc50_k30</th>\n",
       "      <th></th>\n",
       "      <th></th>\n",
       "      <th></th>\n",
       "    </tr>\n",
       "  </thead>\n",
       "  <tbody>\n",
       "    <tr>\n",
       "      <th>1</th>\n",
       "      <td>mL4</td>\n",
       "      <td>41566</td>\n",
       "      <td>6619</td>\n",
       "    </tr>\n",
       "    <tr>\n",
       "      <th>2</th>\n",
       "      <td>mL2/3</td>\n",
       "      <td>57687</td>\n",
       "      <td>5425</td>\n",
       "    </tr>\n",
       "    <tr>\n",
       "      <th>3</th>\n",
       "      <td>mL2/3</td>\n",
       "      <td>32924</td>\n",
       "      <td>1547</td>\n",
       "    </tr>\n",
       "    <tr>\n",
       "      <th>4</th>\n",
       "      <td>mL5-1</td>\n",
       "      <td>16510</td>\n",
       "      <td>1874</td>\n",
       "    </tr>\n",
       "    <tr>\n",
       "      <th>5</th>\n",
       "      <td>mL6-2</td>\n",
       "      <td>29221</td>\n",
       "      <td>5771</td>\n",
       "    </tr>\n",
       "  </tbody>\n",
       "</table>\n",
       "</div>"
      ],
      "text/plain": [
       "                            annotation_mCHmCG_lv_npc50_k30  n_dmr_hypo  \\\n",
       "cluster_mCHmCG_lv_npc50_k30                                              \n",
       "1                                                      mL4       41566   \n",
       "2                                                    mL2/3       57687   \n",
       "3                                                    mL2/3       32924   \n",
       "4                                                    mL5-1       16510   \n",
       "5                                                    mL6-2       29221   \n",
       "\n",
       "                             n_dmr_hype  \n",
       "cluster_mCHmCG_lv_npc50_k30              \n",
       "1                                  6619  \n",
       "2                                  5425  \n",
       "3                                  1547  \n",
       "4                                  1874  \n",
       "5                                  5771  "
      ]
     },
     "execution_count": 39,
     "metadata": {},
     "output_type": "execute_result"
    }
   ],
   "source": [
    "df_ndmr.head()"
   ]
  },
  {
   "cell_type": "code",
   "execution_count": 41,
   "metadata": {},
   "outputs": [
    {
     "name": "stdout",
     "output_type": "stream",
     "text": [
      "(392153, 20)\n",
      "(60718,)\n",
      "(44613,)\n"
     ]
    }
   ],
   "source": [
    "print(df.shape)\n",
    "df_hypo = df.loc[(df['number_of_dms']>=3) & (~df['hypomethylated_samples'].isnull()), 'hypomethylated_samples'].apply(lambda x: x.split(','))\n",
    "df_hyper = df.loc[(df['number_of_dms']>=3) & (~df['hypermethylated_samples'].isnull()), 'hypermethylated_samples'].apply(lambda x: x.split(','))\n",
    "\n",
    "print(df_hypo.shape)\n",
    "print(df_hyper.shape)"
   ]
  },
  {
   "cell_type": "code",
   "execution_count": 42,
   "metadata": {},
   "outputs": [
    {
     "data": {
      "text/plain": [
       "#chr  start    end    \n",
       "1     3391591  3391804      [merged_mCG_cluster_mCHmCG_lv_npc50_k30_1_Ens1]\n",
       "      3498321  3498399    [merged_mCG_cluster_mCHmCG_lv_npc50_k30_5_Ens1...\n",
       "      3637646  3637688      [merged_mCG_cluster_mCHmCG_lv_npc50_k30_4_Ens1]\n",
       "      4471128  4471240      [merged_mCG_cluster_mCHmCG_lv_npc50_k30_2_Ens1]\n",
       "      4688593  4688647    [merged_mCG_cluster_mCHmCG_lv_npc50_k30_4_Ens1...\n",
       "Name: hypomethylated_samples, dtype: object"
      ]
     },
     "execution_count": 42,
     "metadata": {},
     "output_type": "execute_result"
    }
   ],
   "source": [
    "df_hypo.head()"
   ]
  },
  {
   "cell_type": "code",
   "execution_count": 45,
   "metadata": {},
   "outputs": [
    {
     "name": "stderr",
     "output_type": "stream",
     "text": [
      "03/04/2018 08:24:43 PM Created directory: /scratch/dmr\n",
      "03/04/2018 08:24:43 PM Saved to /scratch/dmr/dmr_hypo_allc_merged_mCG_cluster_mCHmCG_lv_npc50_k30_clst1.bed\n",
      "03/04/2018 08:24:43 PM (16977,)\n",
      "03/04/2018 08:24:44 PM Saved to /scratch/dmr/dmr_hypo_allc_merged_mCG_cluster_mCHmCG_lv_npc50_k30_clst2.bed\n",
      "03/04/2018 08:24:44 PM (19580,)\n",
      "03/04/2018 08:24:45 PM Saved to /scratch/dmr/dmr_hypo_allc_merged_mCG_cluster_mCHmCG_lv_npc50_k30_clst3.bed\n",
      "03/04/2018 08:24:45 PM (14284,)\n",
      "03/04/2018 08:24:45 PM Saved to /scratch/dmr/dmr_hypo_allc_merged_mCG_cluster_mCHmCG_lv_npc50_k30_clst4.bed\n",
      "03/04/2018 08:24:45 PM (6308,)\n",
      "03/04/2018 08:24:46 PM Saved to /scratch/dmr/dmr_hypo_allc_merged_mCG_cluster_mCHmCG_lv_npc50_k30_clst5.bed\n",
      "03/04/2018 08:24:46 PM (11274,)\n",
      "03/04/2018 08:24:46 PM Saved to /scratch/dmr/dmr_hypo_allc_merged_mCG_cluster_mCHmCG_lv_npc50_k30_clst6.bed\n",
      "03/04/2018 08:24:46 PM (7308,)\n",
      "03/04/2018 08:24:47 PM Saved to /scratch/dmr/dmr_hypo_allc_merged_mCG_cluster_mCHmCG_lv_npc50_k30_clst7.bed\n",
      "03/04/2018 08:24:47 PM (1767,)\n",
      "03/04/2018 08:24:47 PM Saved to /scratch/dmr/dmr_hypo_allc_merged_mCG_cluster_mCHmCG_lv_npc50_k30_clst8.bed\n",
      "03/04/2018 08:24:47 PM (1092,)\n",
      "03/04/2018 08:24:48 PM Saved to /scratch/dmr/dmr_hypo_allc_merged_mCG_cluster_mCHmCG_lv_npc50_k30_clst9.bed\n",
      "03/04/2018 08:24:48 PM (4416,)\n",
      "03/04/2018 08:24:48 PM Saved to /scratch/dmr/dmr_hypo_allc_merged_mCG_cluster_mCHmCG_lv_npc50_k30_clst10.bed\n",
      "03/04/2018 08:24:48 PM (3922,)\n",
      "03/04/2018 08:24:49 PM Saved to /scratch/dmr/dmr_hypo_allc_merged_mCG_cluster_mCHmCG_lv_npc50_k30_clst11.bed\n",
      "03/04/2018 08:24:49 PM (1460,)\n",
      "03/04/2018 08:24:49 PM Saved to /scratch/dmr/dmr_hypo_allc_merged_mCG_cluster_mCHmCG_lv_npc50_k30_clst12.bed\n",
      "03/04/2018 08:24:49 PM (2591,)\n",
      "03/04/2018 08:24:50 PM Saved to /scratch/dmr/dmr_hypo_allc_merged_mCG_cluster_mCHmCG_lv_npc50_k30_clst13.bed\n",
      "03/04/2018 08:24:50 PM (1073,)\n",
      "03/04/2018 08:24:50 PM Saved to /scratch/dmr/dmr_hypo_allc_merged_mCG_cluster_mCHmCG_lv_npc50_k30_clst14.bed\n",
      "03/04/2018 08:24:50 PM (1432,)\n",
      "03/04/2018 08:24:51 PM Saved to /scratch/dmr/dmr_hypo_allc_merged_mCG_cluster_mCHmCG_lv_npc50_k30_clst15.bed\n",
      "03/04/2018 08:24:51 PM (2321,)\n",
      "03/04/2018 08:24:52 PM Saved to /scratch/dmr/dmr_hypo_allc_merged_mCG_cluster_mCHmCG_lv_npc50_k30_clst16.bed\n",
      "03/04/2018 08:24:52 PM (1651,)\n",
      "03/04/2018 08:24:52 PM Saved to /scratch/dmr/dmr_hypo_allc_merged_mCG_cluster_mCHmCG_lv_npc50_k30_clst17.bed\n",
      "03/04/2018 08:24:52 PM (115,)\n"
     ]
    }
   ],
   "source": [
    "if not os.path.isdir('/scratch/dmr'):\n",
    "    os.makedirs('/scratch/dmr')\n",
    "    logging.info('Created directory: /scratch/dmr')\n",
    "    \n",
    "for i in range(n_clusters):\n",
    "    df_hypo_cluster = df_hypo.loc[\n",
    "        df_hypo.apply(lambda x: ('merged_mCG_{}_{}_{}'.format(cluster_type, i+1, ens) in x))]\n",
    "    output = os.path.join('/scratch/dmr', 'dmr_hypo_allc_merged_mCG_cluster_mCHmCG_lv_npc50_k30_clst{}.bed'.format(i+1))\n",
    "    df_hypo_cluster.to_csv(output, sep='\\t', header=False, index=True, na_rep='NA')\n",
    "    logging.info(\"Saved to {}\".format(output))\n",
    "    logging.info(df_hypo_cluster.shape)"
   ]
  },
  {
   "cell_type": "code",
   "execution_count": null,
   "metadata": {},
   "outputs": [],
   "source": []
  }
 ],
 "metadata": {
  "kernelspec": {
   "display_name": "Python 3",
   "language": "python",
   "name": "python3"
  },
  "language_info": {
   "codemirror_mode": {
    "name": "ipython",
    "version": 3
   },
   "file_extension": ".py",
   "mimetype": "text/x-python",
   "name": "python",
   "nbconvert_exporter": "python",
   "pygments_lexer": "ipython3",
   "version": "3.4.3"
  }
 },
 "nbformat": 4,
 "nbformat_minor": 2
}
